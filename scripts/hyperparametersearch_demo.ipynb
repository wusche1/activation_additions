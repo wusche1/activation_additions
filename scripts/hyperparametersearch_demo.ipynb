{
 "cells": [
  {
   "cell_type": "code",
   "execution_count": 1,
   "metadata": {},
   "outputs": [],
   "source": [
    "from activation_additions import prompt_utils, hook_utils, adhoc_actadds, adhoc_hyperparameter_search\n",
    "import numpy as np\n",
    "from contextlib import contextmanager\n",
    "from typing import Tuple, Callable, Optional\n",
    "\n",
    "import numpy as np\n",
    "import torch as t\n",
    "from torch import nn\n",
    "from transformers import GenerationConfig, LlamaForCausalLM, LlamaTokenizer\n",
    "\n",
    "import accelerate\n",
    "import importlib\n",
    "\n",
    "MODEL_DIR: str = \"/mnt/ssd-2/mesaoptimizer/llama/hf/7B\"\n",
    "MAX_NEW_TOKENS: int = 50\n",
    "NUM_CONTINUATIONS: int = 5\n",
    "SEED: int = 0\n",
    "DO_SAMPLE: bool = True\n",
    "TEMPERATURE: float = 1.0\n",
    "TOP_P: float = 0.9\n",
    "REP_PENALTY: float = 2.0\n",
    "PLUS_PROMPT, MINUS_PROMPT = \"Harry Potter \", \" Lord of the Rings\"\n",
    "CHAT_PROMPT: str = \"My favourite book is \"\n",
    "ACT_NUM: int = 6\n",
    "COEFF: int = 4\n",
    "\n",
    "sampling_kwargs: dict = {\n",
    "    \"temperature\": TEMPERATURE,\n",
    "    \"top_p\": TOP_P,\n",
    "    \"repetition_penalty\": REP_PENALTY,\n",
    "}\n",
    "\n",
    "# Set torch and numpy seeds.\n",
    "t.manual_seed(SEED)\n",
    "np.random.seed(SEED)\n"
   ]
  },
  {
   "cell_type": "code",
   "execution_count": 25,
   "metadata": {},
   "outputs": [
    {
     "data": {
      "application/vnd.jupyter.widget-view+json": {
       "model_id": "d46296ed5b3f4bc394f4662343b7714f",
       "version_major": 2,
       "version_minor": 0
      },
      "text/plain": [
       "Loading checkpoint shards:   0%|          | 0/2 [00:00<?, ?it/s]"
      ]
     },
     "metadata": {},
     "output_type": "display_data"
    },
    {
     "ename": "OutOfMemoryError",
     "evalue": "CUDA out of memory. Tried to allocate 172.00 MiB (GPU 0; 47.35 GiB total capacity; 35.70 GiB already allocated; 129.19 MiB free; 35.71 GiB reserved in total by PyTorch) If reserved memory is >> allocated memory try setting max_split_size_mb to avoid fragmentation.  See documentation for Memory Management and PYTORCH_CUDA_ALLOC_CONF",
     "output_type": "error",
     "traceback": [
      "\u001b[0;31m---------------------------------------------------------------------------\u001b[0m",
      "\u001b[0;31mOutOfMemoryError\u001b[0m                          Traceback (most recent call last)",
      "Cell \u001b[0;32mIn[25], line 4\u001b[0m\n\u001b[1;32m      2\u001b[0m \u001b[39m# An accelerate wrapper does all the parallelization across devices.\u001b[39;00m\n\u001b[1;32m      3\u001b[0m accelerator \u001b[39m=\u001b[39m accelerate\u001b[39m.\u001b[39mAccelerator()\n\u001b[0;32m----> 4\u001b[0m model \u001b[39m=\u001b[39m LlamaForCausalLM\u001b[39m.\u001b[39;49mfrom_pretrained(MODEL_DIR, device_map\u001b[39m=\u001b[39;49m\u001b[39m\"\u001b[39;49m\u001b[39mcuda:0\u001b[39;49m\u001b[39m\"\u001b[39;49m)\n\u001b[1;32m      5\u001b[0m tokenizer \u001b[39m=\u001b[39m LlamaTokenizer\u001b[39m.\u001b[39mfrom_pretrained(MODEL_DIR)\n\u001b[1;32m      6\u001b[0m model, tokenizer \u001b[39m=\u001b[39m accelerator\u001b[39m.\u001b[39mprepare(model, tokenizer)\n",
      "File \u001b[0;32m/mnt/ssd-2/mesaoptimizer/miniconda3/envs/wuschel_env/lib/python3.10/site-packages/transformers/modeling_utils.py:2903\u001b[0m, in \u001b[0;36mPreTrainedModel.from_pretrained\u001b[0;34m(cls, pretrained_model_name_or_path, config, cache_dir, ignore_mismatched_sizes, force_download, local_files_only, token, revision, use_safetensors, *model_args, **kwargs)\u001b[0m\n\u001b[1;32m   2893\u001b[0m     \u001b[39mif\u001b[39;00m dtype_orig \u001b[39mis\u001b[39;00m \u001b[39mnot\u001b[39;00m \u001b[39mNone\u001b[39;00m:\n\u001b[1;32m   2894\u001b[0m         torch\u001b[39m.\u001b[39mset_default_dtype(dtype_orig)\n\u001b[1;32m   2896\u001b[0m     (\n\u001b[1;32m   2897\u001b[0m         model,\n\u001b[1;32m   2898\u001b[0m         missing_keys,\n\u001b[1;32m   2899\u001b[0m         unexpected_keys,\n\u001b[1;32m   2900\u001b[0m         mismatched_keys,\n\u001b[1;32m   2901\u001b[0m         offload_index,\n\u001b[1;32m   2902\u001b[0m         error_msgs,\n\u001b[0;32m-> 2903\u001b[0m     ) \u001b[39m=\u001b[39m \u001b[39mcls\u001b[39;49m\u001b[39m.\u001b[39;49m_load_pretrained_model(\n\u001b[1;32m   2904\u001b[0m         model,\n\u001b[1;32m   2905\u001b[0m         state_dict,\n\u001b[1;32m   2906\u001b[0m         loaded_state_dict_keys,  \u001b[39m# XXX: rename?\u001b[39;49;00m\n\u001b[1;32m   2907\u001b[0m         resolved_archive_file,\n\u001b[1;32m   2908\u001b[0m         pretrained_model_name_or_path,\n\u001b[1;32m   2909\u001b[0m         ignore_mismatched_sizes\u001b[39m=\u001b[39;49mignore_mismatched_sizes,\n\u001b[1;32m   2910\u001b[0m         sharded_metadata\u001b[39m=\u001b[39;49msharded_metadata,\n\u001b[1;32m   2911\u001b[0m         _fast_init\u001b[39m=\u001b[39;49m_fast_init,\n\u001b[1;32m   2912\u001b[0m         low_cpu_mem_usage\u001b[39m=\u001b[39;49mlow_cpu_mem_usage,\n\u001b[1;32m   2913\u001b[0m         device_map\u001b[39m=\u001b[39;49mdevice_map,\n\u001b[1;32m   2914\u001b[0m         offload_folder\u001b[39m=\u001b[39;49moffload_folder,\n\u001b[1;32m   2915\u001b[0m         offload_state_dict\u001b[39m=\u001b[39;49moffload_state_dict,\n\u001b[1;32m   2916\u001b[0m         dtype\u001b[39m=\u001b[39;49mtorch_dtype,\n\u001b[1;32m   2917\u001b[0m         is_quantized\u001b[39m=\u001b[39;49m(load_in_8bit \u001b[39mor\u001b[39;49;00m load_in_4bit),\n\u001b[1;32m   2918\u001b[0m         keep_in_fp32_modules\u001b[39m=\u001b[39;49mkeep_in_fp32_modules,\n\u001b[1;32m   2919\u001b[0m     )\n\u001b[1;32m   2921\u001b[0m model\u001b[39m.\u001b[39mis_loaded_in_4bit \u001b[39m=\u001b[39m load_in_4bit\n\u001b[1;32m   2922\u001b[0m model\u001b[39m.\u001b[39mis_loaded_in_8bit \u001b[39m=\u001b[39m load_in_8bit\n",
      "File \u001b[0;32m/mnt/ssd-2/mesaoptimizer/miniconda3/envs/wuschel_env/lib/python3.10/site-packages/transformers/modeling_utils.py:3260\u001b[0m, in \u001b[0;36mPreTrainedModel._load_pretrained_model\u001b[0;34m(cls, model, state_dict, loaded_keys, resolved_archive_file, pretrained_model_name_or_path, ignore_mismatched_sizes, sharded_metadata, _fast_init, low_cpu_mem_usage, device_map, offload_folder, offload_state_dict, dtype, is_quantized, keep_in_fp32_modules)\u001b[0m\n\u001b[1;32m   3250\u001b[0m mismatched_keys \u001b[39m+\u001b[39m\u001b[39m=\u001b[39m _find_mismatched_keys(\n\u001b[1;32m   3251\u001b[0m     state_dict,\n\u001b[1;32m   3252\u001b[0m     model_state_dict,\n\u001b[0;32m   (...)\u001b[0m\n\u001b[1;32m   3256\u001b[0m     ignore_mismatched_sizes,\n\u001b[1;32m   3257\u001b[0m )\n\u001b[1;32m   3259\u001b[0m \u001b[39mif\u001b[39;00m low_cpu_mem_usage:\n\u001b[0;32m-> 3260\u001b[0m     new_error_msgs, offload_index, state_dict_index \u001b[39m=\u001b[39m _load_state_dict_into_meta_model(\n\u001b[1;32m   3261\u001b[0m         model_to_load,\n\u001b[1;32m   3262\u001b[0m         state_dict,\n\u001b[1;32m   3263\u001b[0m         loaded_keys,\n\u001b[1;32m   3264\u001b[0m         start_prefix,\n\u001b[1;32m   3265\u001b[0m         expected_keys,\n\u001b[1;32m   3266\u001b[0m         device_map\u001b[39m=\u001b[39;49mdevice_map,\n\u001b[1;32m   3267\u001b[0m         offload_folder\u001b[39m=\u001b[39;49moffload_folder,\n\u001b[1;32m   3268\u001b[0m         offload_index\u001b[39m=\u001b[39;49moffload_index,\n\u001b[1;32m   3269\u001b[0m         state_dict_folder\u001b[39m=\u001b[39;49mstate_dict_folder,\n\u001b[1;32m   3270\u001b[0m         state_dict_index\u001b[39m=\u001b[39;49mstate_dict_index,\n\u001b[1;32m   3271\u001b[0m         dtype\u001b[39m=\u001b[39;49mdtype,\n\u001b[1;32m   3272\u001b[0m         is_quantized\u001b[39m=\u001b[39;49mis_quantized,\n\u001b[1;32m   3273\u001b[0m         is_safetensors\u001b[39m=\u001b[39;49mis_safetensors,\n\u001b[1;32m   3274\u001b[0m         keep_in_fp32_modules\u001b[39m=\u001b[39;49mkeep_in_fp32_modules,\n\u001b[1;32m   3275\u001b[0m     )\n\u001b[1;32m   3276\u001b[0m     error_msgs \u001b[39m+\u001b[39m\u001b[39m=\u001b[39m new_error_msgs\n\u001b[1;32m   3277\u001b[0m \u001b[39melse\u001b[39;00m:\n",
      "File \u001b[0;32m/mnt/ssd-2/mesaoptimizer/miniconda3/envs/wuschel_env/lib/python3.10/site-packages/transformers/modeling_utils.py:717\u001b[0m, in \u001b[0;36m_load_state_dict_into_meta_model\u001b[0;34m(model, state_dict, loaded_state_dict_keys, start_prefix, expected_keys, device_map, offload_folder, offload_index, state_dict_folder, state_dict_index, dtype, is_quantized, is_safetensors, keep_in_fp32_modules)\u001b[0m\n\u001b[1;32m    714\u001b[0m     state_dict_index \u001b[39m=\u001b[39m offload_weight(param, param_name, state_dict_folder, state_dict_index)\n\u001b[1;32m    715\u001b[0m \u001b[39melif\u001b[39;00m \u001b[39mnot\u001b[39;00m is_quantized:\n\u001b[1;32m    716\u001b[0m     \u001b[39m# For backward compatibility with older versions of `accelerate`\u001b[39;00m\n\u001b[0;32m--> 717\u001b[0m     set_module_tensor_to_device(model, param_name, param_device, \u001b[39m*\u001b[39;49m\u001b[39m*\u001b[39;49mset_module_kwargs)\n\u001b[1;32m    718\u001b[0m \u001b[39melse\u001b[39;00m:\n\u001b[1;32m    719\u001b[0m     \u001b[39mif\u001b[39;00m param\u001b[39m.\u001b[39mdtype \u001b[39m==\u001b[39m torch\u001b[39m.\u001b[39mint8 \u001b[39mand\u001b[39;00m param_name\u001b[39m.\u001b[39mreplace(\u001b[39m\"\u001b[39m\u001b[39mweight\u001b[39m\u001b[39m\"\u001b[39m, \u001b[39m\"\u001b[39m\u001b[39mSCB\u001b[39m\u001b[39m\"\u001b[39m) \u001b[39min\u001b[39;00m state_dict\u001b[39m.\u001b[39mkeys():\n",
      "File \u001b[0;32m/mnt/ssd-2/mesaoptimizer/miniconda3/envs/wuschel_env/lib/python3.10/site-packages/accelerate/utils/modeling.py:298\u001b[0m, in \u001b[0;36mset_module_tensor_to_device\u001b[0;34m(module, tensor_name, device, value, dtype, fp16_statistics)\u001b[0m\n\u001b[1;32m    296\u001b[0m             module\u001b[39m.\u001b[39m_parameters[tensor_name] \u001b[39m=\u001b[39m param_cls(new_value, requires_grad\u001b[39m=\u001b[39mold_value\u001b[39m.\u001b[39mrequires_grad)\n\u001b[1;32m    297\u001b[0m \u001b[39melif\u001b[39;00m \u001b[39misinstance\u001b[39m(value, torch\u001b[39m.\u001b[39mTensor):\n\u001b[0;32m--> 298\u001b[0m     new_value \u001b[39m=\u001b[39m value\u001b[39m.\u001b[39;49mto(device)\n\u001b[1;32m    299\u001b[0m \u001b[39melse\u001b[39;00m:\n\u001b[1;32m    300\u001b[0m     new_value \u001b[39m=\u001b[39m torch\u001b[39m.\u001b[39mtensor(value, device\u001b[39m=\u001b[39mdevice)\n",
      "\u001b[0;31mOutOfMemoryError\u001b[0m: CUDA out of memory. Tried to allocate 172.00 MiB (GPU 0; 47.35 GiB total capacity; 35.70 GiB already allocated; 129.19 MiB free; 35.71 GiB reserved in total by PyTorch) If reserved memory is >> allocated memory try setting max_split_size_mb to avoid fragmentation.  See documentation for Memory Management and PYTORCH_CUDA_ALLOC_CONF"
     ]
    }
   ],
   "source": [
    "t.set_grad_enabled(False)\n",
    "# An accelerate wrapper does all the parallelization across devices.\n",
    "accelerator = accelerate.Accelerator()\n",
    "model = LlamaForCausalLM.from_pretrained(MODEL_DIR, device_map=\"cuda:0\")\n",
    "tokenizer = LlamaTokenizer.from_pretrained(MODEL_DIR)\n",
    "model, tokenizer = accelerator.prepare(model, tokenizer)\n",
    "model.tie_weights()\n",
    "# model.half()\n",
    "model.eval()"
   ]
  },
  {
   "cell_type": "code",
   "execution_count": 10,
   "metadata": {},
   "outputs": [],
   "source": [
    "#Define the kind of behaviour you want: for example: speaking british instead of american english\n",
    "#a set of [prompt, wanted completion, unwanted completion]\n",
    "\n",
    "US_UK_dict = {\n",
    "    \"1\": [\"The delivery driver parked the\", \" lorry outside the warehouse.\", \" truck outside the warehouse.\"],\n",
    "    \"2\": [\"Can you please turn off the\", \" tap in the kitchen?\", \" faucet in the kitchen?\"],\n",
    "    \"3\": [\"I recently rented my first\", \" flat.\", \" apartment.\"],\n",
    "    \"4\": [\"We are planning to go on a\", \" holiday to Europe next summer.\", \" vacation to Europe next summer.\"],\n",
    "    \"5\": [\"Would you like a\", \" biscuit with your tea?\", \" cookie with your tea?\"],\n",
    "    \"6\": [\"I'm thinking of making a dish with\", \" aubergine tonight.\", \" eggplant tonight.\"],\n",
    "    \"7\": [\"It's getting chilly; I'll wear my\", \" jumper today.\", \" sweater today.\"],\n",
    "    \"8\": [\"She bought a bag of salt and vinegar\", \" crisps from the store.\", \" chips from the store.\"],\n",
    "    \"9\": [\"It's too dark here. Do you have a\", \" torch?\", \" flashlight?\"],\n",
    "    \"10\": [\"My kids enjoy playing\", \" football every weekend.\", \" soccer every weekend.\"]\n",
    "}\n",
    "prompts=[]\n",
    "UK_completions=[]\n",
    "US_completions=[]\n",
    "for key, example in US_UK_dict.items():\n",
    "    prompts.append(example[0])\n",
    "    UK_completions.append(example[1])\n",
    "    US_completions.append(example[2])"
   ]
  },
  {
   "cell_type": "code",
   "execution_count": 14,
   "metadata": {},
   "outputs": [],
   "source": [
    "from importlib import reload\n",
    "\n",
    "# Reload the modules\n",
    "adhoc_actadds = reload(adhoc_actadds)\n",
    "adhoc_hyperparameter_search = reload(adhoc_hyperparameter_search)\n"
   ]
  },
  {
   "cell_type": "code",
   "execution_count": 17,
   "metadata": {},
   "outputs": [
    {
     "name": "stderr",
     "output_type": "stream",
     "text": [
      "Processing: 100%|██████████| 100/100 [06:30<00:00,  3.90s/it]\n"
     ]
    }
   ],
   "source": [
    "resolution=10\n",
    "#when you have your steerig vector(here for example: \"British\" - \"American\"), do a grid search over layers and coefficents\n",
    "#this might take a while\n",
    "weighted_steering_prompts={\" British\":1,\" American\":-1}\n",
    "layer_list=[int(i) for i in np.linspace(1,len(model.model.layers)-1,resolution)]\n",
    "coefficent_list= [i for i in np.linspace(0,10,resolution,dtype=int)]\n",
    "\n",
    "df=adhoc_hyperparameter_search.layer_coefficient_gridsearch(\n",
    "    model,\n",
    "    tokenizer,\n",
    "    prompts,\n",
    "    weighted_steering_prompts,\n",
    "    layer_list,\n",
    "    coefficent_list,\n",
    "    UK_completions,\n",
    "    US_completions\n",
    ")"
   ]
  },
  {
   "cell_type": "code",
   "execution_count": 18,
   "metadata": {},
   "outputs": [
    {
     "data": {
      "application/vnd.plotly.v1+json": {
       "config": {
        "plotlyServerURL": "https://plot.ly"
       },
       "data": [
        {
         "colorbar": {
          "len": 0.5,
          "title": {
           "text": "Wanted"
          },
          "y": 0.5,
          "yanchor": "top"
         },
         "colorscale": [
          [
           0,
           "rgb(255,245,240)"
          ],
          [
           0.125,
           "rgb(254,224,210)"
          ],
          [
           0.25,
           "rgb(252,187,161)"
          ],
          [
           0.375,
           "rgb(252,146,114)"
          ],
          [
           0.5,
           "rgb(251,106,74)"
          ],
          [
           0.625,
           "rgb(239,59,44)"
          ],
          [
           0.75,
           "rgb(203,24,29)"
          ],
          [
           0.875,
           "rgb(165,15,21)"
          ],
          [
           1,
           "rgb(103,0,13)"
          ]
         ],
         "showscale": true,
         "type": "heatmap",
         "x": [
          0,
          1,
          2,
          3,
          4,
          5,
          6,
          7,
          8,
          10
         ],
         "xaxis": "x",
         "y": [
          1,
          4,
          7,
          11,
          14,
          17,
          21,
          24,
          27,
          31
         ],
         "yaxis": "y",
         "z": [
          [
           0,
           -0.048610877990722653,
           -0.8165079116821289,
           -0.9022241592407226,
           -0.9495449066162109,
           -1.149082565307617,
           -1.235641860961914,
           -1.2643592834472657,
           -1.2773029327392578,
           -1.284445571899414
          ],
          [
           0,
           -0.4850651741027832,
           -0.7151528358459472,
           -0.876281452178955,
           -0.8934244155883789,
           -0.8652084350585938,
           -0.7996196746826172,
           -0.7269554138183594,
           -0.6695905685424804,
           -0.6211570739746094
          ],
          [
           0,
           -0.28316287994384765,
           -0.705715560913086,
           -0.9397418975830079,
           -1.0438491821289062,
           -1.0921403884887695,
           -1.0983851432800293,
           -1.079775905609131,
           -1.0550996780395507,
           -1.0184653282165528
          ],
          [
           0,
           -0.24562902450561525,
           -0.5838313102722168,
           -0.7631462097167969,
           -0.9539669036865235,
           -1.083898162841797,
           -1.1594149589538574,
           -1.2101333618164063,
           -1.2492794036865233,
           -1.3079318046569823
          ],
          [
           0,
           -0.25530567169189455,
           -0.42482528686523435,
           -0.6421145439147949,
           -0.8482290267944336,
           -1.0029474258422852,
           -1.1161149978637694,
           -1.198557186126709,
           -1.256428050994873,
           -1.3185639381408691
          ],
          [
           0,
           -0.29446096420288087,
           -0.6284587860107422,
           -0.8255706787109375,
           -0.9201271057128906,
           -0.9560016632080078,
           -0.9635194778442383,
           -0.9584602355957031,
           -0.9479292869567871,
           -0.9227682113647461
          ],
          [
           0,
           -0.03937978744506836,
           -0.09829578399658204,
           -0.11978702545166016,
           -0.12166795730590821,
           -0.114892578125,
           -0.10390329360961914,
           -0.09119968414306641,
           -0.07828083038330078,
           -0.054642105102539064
          ],
          [
           0,
           -0.06270475387573242,
           -0.08878612518310547,
           -0.09071731567382812,
           -0.08706188201904297,
           -0.0818929672241211,
           -0.07668867111206054,
           -0.07197027206420899,
           -0.06788167953491211,
           -0.06138057708740234
          ],
          [
           0,
           0.0012243270874023437,
           -0.019546985626220703,
           -0.021422576904296876,
           -0.011749839782714844,
           0.001779937744140625,
           0.01556692123413086,
           0.028203201293945313,
           0.039305496215820315,
           0.05721960067749023
          ],
          [
           0,
           0.0006896018981933594,
           0.00972747802734375,
           0.021010398864746094,
           0.03154745101928711,
           0.04078550338745117,
           0.0487666130065918,
           0.055628204345703126,
           0.06155538558959961,
           0.07118120193481445
          ]
         ]
        },
        {
         "colorbar": {
          "len": 0.5,
          "title": {
           "text": "Unwanted"
          },
          "y": 1,
          "yanchor": "top"
         },
         "colorscale": [
          [
           0,
           "rgb(247,251,255)"
          ],
          [
           0.125,
           "rgb(222,235,247)"
          ],
          [
           0.25,
           "rgb(198,219,239)"
          ],
          [
           0.375,
           "rgb(158,202,225)"
          ],
          [
           0.5,
           "rgb(107,174,214)"
          ],
          [
           0.625,
           "rgb(66,146,198)"
          ],
          [
           0.75,
           "rgb(33,113,181)"
          ],
          [
           0.875,
           "rgb(8,81,156)"
          ],
          [
           1,
           "rgb(8,48,107)"
          ]
         ],
         "showscale": true,
         "type": "heatmap",
         "x": [
          0,
          1,
          2,
          3,
          4,
          5,
          6,
          7,
          8,
          10
         ],
         "xaxis": "x2",
         "y": [
          1,
          4,
          7,
          11,
          14,
          17,
          21,
          24,
          27,
          31
         ],
         "yaxis": "y2",
         "z": [
          [
           0,
           0.08097820281982422,
           0.2914337158203125,
           0.3511226654052734,
           0.20388450622558593,
           -0.03758525848388672,
           -0.13526077270507814,
           -0.19980945587158203,
           -0.2629842758178711,
           -0.3885446548461914
          ],
          [
           0,
           -0.05533380508422851,
           0.007674503326416016,
           -0.19074182510375975,
           -0.24928531646728516,
           -0.27176265716552733,
           -0.2674385070800781,
           -0.24918203353881835,
           -0.23187646865844727,
           -0.21123228073120118
          ],
          [
           0,
           -0.020888900756835936,
           -0.12509241104125976,
           -0.3933567047119141,
           -0.5611848831176758,
           -0.652835750579834,
           -0.6826068878173828,
           -0.670199966430664,
           -0.6362079620361328,
           -0.549766731262207
          ],
          [
           0,
           -0.06477127075195313,
           -0.1176849365234375,
           -0.1815049171447754,
           -0.3034296989440918,
           -0.37325639724731446,
           -0.3896161079406738,
           -0.3819223403930664,
           -0.3638360023498535,
           -0.3163620948791504
          ],
          [
           0,
           0.09355554580688477,
           -0.03641443252563477,
           -0.06911163330078125,
           -0.062488555908203125,
           -0.010694026947021484,
           0.06207761764526367,
           0.1397263526916504,
           0.21705665588378906,
           0.36360626220703124
          ],
          [
           0,
           0.18220529556274415,
           0.2969327926635742,
           0.30411787033081056,
           0.3118877410888672,
           0.3411717414855957,
           0.38088788986206057,
           0.4221920967102051,
           0.460828971862793,
           0.5240037918090821
          ],
          [
           0,
           -0.005755233764648438,
           -0.05664882659912109,
           -0.06935911178588867,
           -0.05359773635864258,
           -0.027731990814208983,
           0.0002831459045410156,
           0.027381134033203126,
           0.05229320526123047,
           0.09425907135009766
          ],
          [
           0,
           -0.03896951675415039,
           -0.06766109466552735,
           -0.07663145065307617,
           -0.07493019104003906,
           -0.06827068328857422,
           -0.05969724655151367,
           -0.05080575942993164,
           -0.04234333038330078,
           -0.027648735046386718
          ],
          [
           0,
           0.02353839874267578,
           0.008698463439941406,
           0.011161136627197265,
           0.02725820541381836,
           0.04824762344360352,
           0.06939773559570313,
           0.08871307373046874,
           0.10565185546875,
           0.13290538787841796
          ],
          [
           0,
           0.002253818511962891,
           0.014487171173095703,
           0.02972898483276367,
           0.04412651062011719,
           0.05681028366088867,
           0.0677703857421875,
           0.0771728515625,
           0.08525075912475585,
           0.09824352264404297
          ]
         ]
        },
        {
         "marker": {
          "color": "rgb(255,255,0)"
         },
         "mode": "markers",
         "showlegend": false,
         "type": "scatter",
         "x": [
          10
         ],
         "xaxis": "x",
         "y": [
          14
         ],
         "yaxis": "y"
        },
        {
         "marker": {
          "color": "rgb(255,255,0)"
         },
         "mode": "markers",
         "showlegend": false,
         "type": "scatter",
         "x": [
          10
         ],
         "xaxis": "x2",
         "y": [
          14
         ],
         "yaxis": "y2"
        },
        {
         "marker": {
          "color": "rgb(223,191,32)"
         },
         "mode": "markers",
         "showlegend": false,
         "type": "scatter",
         "x": [
          6
         ],
         "xaxis": "x",
         "y": [
          17
         ],
         "yaxis": "y"
        },
        {
         "marker": {
          "color": "rgb(223,191,32)"
         },
         "mode": "markers",
         "showlegend": false,
         "type": "scatter",
         "x": [
          6
         ],
         "xaxis": "x2",
         "y": [
          17
         ],
         "yaxis": "y2"
        },
        {
         "marker": {
          "color": "rgb(191,127,64)"
         },
         "mode": "markers",
         "showlegend": false,
         "type": "scatter",
         "x": [
          7
         ],
         "xaxis": "x",
         "y": [
          17
         ],
         "yaxis": "y"
        },
        {
         "marker": {
          "color": "rgb(191,127,64)"
         },
         "mode": "markers",
         "showlegend": false,
         "type": "scatter",
         "x": [
          7
         ],
         "xaxis": "x2",
         "y": [
          17
         ],
         "yaxis": "y2"
        },
        {
         "marker": {
          "color": "rgb(159,63,96)"
         },
         "mode": "markers",
         "showlegend": false,
         "type": "scatter",
         "x": [
          8
         ],
         "xaxis": "x",
         "y": [
          17
         ],
         "yaxis": "y"
        },
        {
         "marker": {
          "color": "rgb(159,63,96)"
         },
         "mode": "markers",
         "showlegend": false,
         "type": "scatter",
         "x": [
          8
         ],
         "xaxis": "x2",
         "y": [
          17
         ],
         "yaxis": "y2"
        },
        {
         "marker": {
          "color": "rgb(128,0,128)"
         },
         "mode": "markers",
         "showlegend": false,
         "type": "scatter",
         "x": [
          10
         ],
         "xaxis": "x",
         "y": [
          17
         ],
         "yaxis": "y"
        },
        {
         "marker": {
          "color": "rgb(128,0,128)"
         },
         "mode": "markers",
         "showlegend": false,
         "type": "scatter",
         "x": [
          10
         ],
         "xaxis": "x2",
         "y": [
          17
         ],
         "yaxis": "y2"
        }
       ],
       "layout": {
        "annotations": [
         {
          "font": {
           "size": 16
          },
          "showarrow": false,
          "text": "Wanted Perplexities",
          "x": 0.225,
          "xanchor": "center",
          "xref": "paper",
          "y": 1,
          "yanchor": "bottom",
          "yref": "paper"
         },
         {
          "font": {
           "size": 16
          },
          "showarrow": false,
          "text": "Unwanted Perplexities",
          "x": 0.775,
          "xanchor": "center",
          "xref": "paper",
          "y": 1,
          "yanchor": "bottom",
          "yref": "paper"
         }
        ],
        "margin": {
         "b": 50,
         "l": 50,
         "r": 50,
         "t": 20
        },
        "template": {
         "data": {
          "bar": [
           {
            "error_x": {
             "color": "#2a3f5f"
            },
            "error_y": {
             "color": "#2a3f5f"
            },
            "marker": {
             "line": {
              "color": "#E5ECF6",
              "width": 0.5
             },
             "pattern": {
              "fillmode": "overlay",
              "size": 10,
              "solidity": 0.2
             }
            },
            "type": "bar"
           }
          ],
          "barpolar": [
           {
            "marker": {
             "line": {
              "color": "#E5ECF6",
              "width": 0.5
             },
             "pattern": {
              "fillmode": "overlay",
              "size": 10,
              "solidity": 0.2
             }
            },
            "type": "barpolar"
           }
          ],
          "carpet": [
           {
            "aaxis": {
             "endlinecolor": "#2a3f5f",
             "gridcolor": "white",
             "linecolor": "white",
             "minorgridcolor": "white",
             "startlinecolor": "#2a3f5f"
            },
            "baxis": {
             "endlinecolor": "#2a3f5f",
             "gridcolor": "white",
             "linecolor": "white",
             "minorgridcolor": "white",
             "startlinecolor": "#2a3f5f"
            },
            "type": "carpet"
           }
          ],
          "choropleth": [
           {
            "colorbar": {
             "outlinewidth": 0,
             "ticks": ""
            },
            "type": "choropleth"
           }
          ],
          "contour": [
           {
            "colorbar": {
             "outlinewidth": 0,
             "ticks": ""
            },
            "colorscale": [
             [
              0,
              "#0d0887"
             ],
             [
              0.1111111111111111,
              "#46039f"
             ],
             [
              0.2222222222222222,
              "#7201a8"
             ],
             [
              0.3333333333333333,
              "#9c179e"
             ],
             [
              0.4444444444444444,
              "#bd3786"
             ],
             [
              0.5555555555555556,
              "#d8576b"
             ],
             [
              0.6666666666666666,
              "#ed7953"
             ],
             [
              0.7777777777777778,
              "#fb9f3a"
             ],
             [
              0.8888888888888888,
              "#fdca26"
             ],
             [
              1,
              "#f0f921"
             ]
            ],
            "type": "contour"
           }
          ],
          "contourcarpet": [
           {
            "colorbar": {
             "outlinewidth": 0,
             "ticks": ""
            },
            "type": "contourcarpet"
           }
          ],
          "heatmap": [
           {
            "colorbar": {
             "outlinewidth": 0,
             "ticks": ""
            },
            "colorscale": [
             [
              0,
              "#0d0887"
             ],
             [
              0.1111111111111111,
              "#46039f"
             ],
             [
              0.2222222222222222,
              "#7201a8"
             ],
             [
              0.3333333333333333,
              "#9c179e"
             ],
             [
              0.4444444444444444,
              "#bd3786"
             ],
             [
              0.5555555555555556,
              "#d8576b"
             ],
             [
              0.6666666666666666,
              "#ed7953"
             ],
             [
              0.7777777777777778,
              "#fb9f3a"
             ],
             [
              0.8888888888888888,
              "#fdca26"
             ],
             [
              1,
              "#f0f921"
             ]
            ],
            "type": "heatmap"
           }
          ],
          "heatmapgl": [
           {
            "colorbar": {
             "outlinewidth": 0,
             "ticks": ""
            },
            "colorscale": [
             [
              0,
              "#0d0887"
             ],
             [
              0.1111111111111111,
              "#46039f"
             ],
             [
              0.2222222222222222,
              "#7201a8"
             ],
             [
              0.3333333333333333,
              "#9c179e"
             ],
             [
              0.4444444444444444,
              "#bd3786"
             ],
             [
              0.5555555555555556,
              "#d8576b"
             ],
             [
              0.6666666666666666,
              "#ed7953"
             ],
             [
              0.7777777777777778,
              "#fb9f3a"
             ],
             [
              0.8888888888888888,
              "#fdca26"
             ],
             [
              1,
              "#f0f921"
             ]
            ],
            "type": "heatmapgl"
           }
          ],
          "histogram": [
           {
            "marker": {
             "pattern": {
              "fillmode": "overlay",
              "size": 10,
              "solidity": 0.2
             }
            },
            "type": "histogram"
           }
          ],
          "histogram2d": [
           {
            "colorbar": {
             "outlinewidth": 0,
             "ticks": ""
            },
            "colorscale": [
             [
              0,
              "#0d0887"
             ],
             [
              0.1111111111111111,
              "#46039f"
             ],
             [
              0.2222222222222222,
              "#7201a8"
             ],
             [
              0.3333333333333333,
              "#9c179e"
             ],
             [
              0.4444444444444444,
              "#bd3786"
             ],
             [
              0.5555555555555556,
              "#d8576b"
             ],
             [
              0.6666666666666666,
              "#ed7953"
             ],
             [
              0.7777777777777778,
              "#fb9f3a"
             ],
             [
              0.8888888888888888,
              "#fdca26"
             ],
             [
              1,
              "#f0f921"
             ]
            ],
            "type": "histogram2d"
           }
          ],
          "histogram2dcontour": [
           {
            "colorbar": {
             "outlinewidth": 0,
             "ticks": ""
            },
            "colorscale": [
             [
              0,
              "#0d0887"
             ],
             [
              0.1111111111111111,
              "#46039f"
             ],
             [
              0.2222222222222222,
              "#7201a8"
             ],
             [
              0.3333333333333333,
              "#9c179e"
             ],
             [
              0.4444444444444444,
              "#bd3786"
             ],
             [
              0.5555555555555556,
              "#d8576b"
             ],
             [
              0.6666666666666666,
              "#ed7953"
             ],
             [
              0.7777777777777778,
              "#fb9f3a"
             ],
             [
              0.8888888888888888,
              "#fdca26"
             ],
             [
              1,
              "#f0f921"
             ]
            ],
            "type": "histogram2dcontour"
           }
          ],
          "mesh3d": [
           {
            "colorbar": {
             "outlinewidth": 0,
             "ticks": ""
            },
            "type": "mesh3d"
           }
          ],
          "parcoords": [
           {
            "line": {
             "colorbar": {
              "outlinewidth": 0,
              "ticks": ""
             }
            },
            "type": "parcoords"
           }
          ],
          "pie": [
           {
            "automargin": true,
            "type": "pie"
           }
          ],
          "scatter": [
           {
            "fillpattern": {
             "fillmode": "overlay",
             "size": 10,
             "solidity": 0.2
            },
            "type": "scatter"
           }
          ],
          "scatter3d": [
           {
            "line": {
             "colorbar": {
              "outlinewidth": 0,
              "ticks": ""
             }
            },
            "marker": {
             "colorbar": {
              "outlinewidth": 0,
              "ticks": ""
             }
            },
            "type": "scatter3d"
           }
          ],
          "scattercarpet": [
           {
            "marker": {
             "colorbar": {
              "outlinewidth": 0,
              "ticks": ""
             }
            },
            "type": "scattercarpet"
           }
          ],
          "scattergeo": [
           {
            "marker": {
             "colorbar": {
              "outlinewidth": 0,
              "ticks": ""
             }
            },
            "type": "scattergeo"
           }
          ],
          "scattergl": [
           {
            "marker": {
             "colorbar": {
              "outlinewidth": 0,
              "ticks": ""
             }
            },
            "type": "scattergl"
           }
          ],
          "scattermapbox": [
           {
            "marker": {
             "colorbar": {
              "outlinewidth": 0,
              "ticks": ""
             }
            },
            "type": "scattermapbox"
           }
          ],
          "scatterpolar": [
           {
            "marker": {
             "colorbar": {
              "outlinewidth": 0,
              "ticks": ""
             }
            },
            "type": "scatterpolar"
           }
          ],
          "scatterpolargl": [
           {
            "marker": {
             "colorbar": {
              "outlinewidth": 0,
              "ticks": ""
             }
            },
            "type": "scatterpolargl"
           }
          ],
          "scatterternary": [
           {
            "marker": {
             "colorbar": {
              "outlinewidth": 0,
              "ticks": ""
             }
            },
            "type": "scatterternary"
           }
          ],
          "surface": [
           {
            "colorbar": {
             "outlinewidth": 0,
             "ticks": ""
            },
            "colorscale": [
             [
              0,
              "#0d0887"
             ],
             [
              0.1111111111111111,
              "#46039f"
             ],
             [
              0.2222222222222222,
              "#7201a8"
             ],
             [
              0.3333333333333333,
              "#9c179e"
             ],
             [
              0.4444444444444444,
              "#bd3786"
             ],
             [
              0.5555555555555556,
              "#d8576b"
             ],
             [
              0.6666666666666666,
              "#ed7953"
             ],
             [
              0.7777777777777778,
              "#fb9f3a"
             ],
             [
              0.8888888888888888,
              "#fdca26"
             ],
             [
              1,
              "#f0f921"
             ]
            ],
            "type": "surface"
           }
          ],
          "table": [
           {
            "cells": {
             "fill": {
              "color": "#EBF0F8"
             },
             "line": {
              "color": "white"
             }
            },
            "header": {
             "fill": {
              "color": "#C8D4E3"
             },
             "line": {
              "color": "white"
             }
            },
            "type": "table"
           }
          ]
         },
         "layout": {
          "annotationdefaults": {
           "arrowcolor": "#2a3f5f",
           "arrowhead": 0,
           "arrowwidth": 1
          },
          "autotypenumbers": "strict",
          "coloraxis": {
           "colorbar": {
            "outlinewidth": 0,
            "ticks": ""
           }
          },
          "colorscale": {
           "diverging": [
            [
             0,
             "#8e0152"
            ],
            [
             0.1,
             "#c51b7d"
            ],
            [
             0.2,
             "#de77ae"
            ],
            [
             0.3,
             "#f1b6da"
            ],
            [
             0.4,
             "#fde0ef"
            ],
            [
             0.5,
             "#f7f7f7"
            ],
            [
             0.6,
             "#e6f5d0"
            ],
            [
             0.7,
             "#b8e186"
            ],
            [
             0.8,
             "#7fbc41"
            ],
            [
             0.9,
             "#4d9221"
            ],
            [
             1,
             "#276419"
            ]
           ],
           "sequential": [
            [
             0,
             "#0d0887"
            ],
            [
             0.1111111111111111,
             "#46039f"
            ],
            [
             0.2222222222222222,
             "#7201a8"
            ],
            [
             0.3333333333333333,
             "#9c179e"
            ],
            [
             0.4444444444444444,
             "#bd3786"
            ],
            [
             0.5555555555555556,
             "#d8576b"
            ],
            [
             0.6666666666666666,
             "#ed7953"
            ],
            [
             0.7777777777777778,
             "#fb9f3a"
            ],
            [
             0.8888888888888888,
             "#fdca26"
            ],
            [
             1,
             "#f0f921"
            ]
           ],
           "sequentialminus": [
            [
             0,
             "#0d0887"
            ],
            [
             0.1111111111111111,
             "#46039f"
            ],
            [
             0.2222222222222222,
             "#7201a8"
            ],
            [
             0.3333333333333333,
             "#9c179e"
            ],
            [
             0.4444444444444444,
             "#bd3786"
            ],
            [
             0.5555555555555556,
             "#d8576b"
            ],
            [
             0.6666666666666666,
             "#ed7953"
            ],
            [
             0.7777777777777778,
             "#fb9f3a"
            ],
            [
             0.8888888888888888,
             "#fdca26"
            ],
            [
             1,
             "#f0f921"
            ]
           ]
          },
          "colorway": [
           "#636efa",
           "#EF553B",
           "#00cc96",
           "#ab63fa",
           "#FFA15A",
           "#19d3f3",
           "#FF6692",
           "#B6E880",
           "#FF97FF",
           "#FECB52"
          ],
          "font": {
           "color": "#2a3f5f"
          },
          "geo": {
           "bgcolor": "white",
           "lakecolor": "white",
           "landcolor": "#E5ECF6",
           "showlakes": true,
           "showland": true,
           "subunitcolor": "white"
          },
          "hoverlabel": {
           "align": "left"
          },
          "hovermode": "closest",
          "mapbox": {
           "style": "light"
          },
          "paper_bgcolor": "white",
          "plot_bgcolor": "#E5ECF6",
          "polar": {
           "angularaxis": {
            "gridcolor": "white",
            "linecolor": "white",
            "ticks": ""
           },
           "bgcolor": "#E5ECF6",
           "radialaxis": {
            "gridcolor": "white",
            "linecolor": "white",
            "ticks": ""
           }
          },
          "scene": {
           "xaxis": {
            "backgroundcolor": "#E5ECF6",
            "gridcolor": "white",
            "gridwidth": 2,
            "linecolor": "white",
            "showbackground": true,
            "ticks": "",
            "zerolinecolor": "white"
           },
           "yaxis": {
            "backgroundcolor": "#E5ECF6",
            "gridcolor": "white",
            "gridwidth": 2,
            "linecolor": "white",
            "showbackground": true,
            "ticks": "",
            "zerolinecolor": "white"
           },
           "zaxis": {
            "backgroundcolor": "#E5ECF6",
            "gridcolor": "white",
            "gridwidth": 2,
            "linecolor": "white",
            "showbackground": true,
            "ticks": "",
            "zerolinecolor": "white"
           }
          },
          "shapedefaults": {
           "line": {
            "color": "#2a3f5f"
           }
          },
          "ternary": {
           "aaxis": {
            "gridcolor": "white",
            "linecolor": "white",
            "ticks": ""
           },
           "baxis": {
            "gridcolor": "white",
            "linecolor": "white",
            "ticks": ""
           },
           "bgcolor": "#E5ECF6",
           "caxis": {
            "gridcolor": "white",
            "linecolor": "white",
            "ticks": ""
           }
          },
          "title": {
           "x": 0.05
          },
          "xaxis": {
           "automargin": true,
           "gridcolor": "white",
           "linecolor": "white",
           "ticks": "",
           "title": {
            "standoff": 15
           },
           "zerolinecolor": "white",
           "zerolinewidth": 2
          },
          "yaxis": {
           "automargin": true,
           "gridcolor": "white",
           "linecolor": "white",
           "ticks": "",
           "title": {
            "standoff": 15
           },
           "zerolinecolor": "white",
           "zerolinewidth": 2
          }
         }
        },
        "xaxis": {
         "anchor": "y",
         "domain": [
          0,
          0.45
         ],
         "title": {
          "text": "Coefficient"
         }
        },
        "xaxis2": {
         "anchor": "y2",
         "domain": [
          0.55,
          1
         ],
         "title": {
          "text": "Coefficient"
         }
        },
        "yaxis": {
         "anchor": "x",
         "domain": [
          0,
          1
         ],
         "title": {
          "text": "Layer"
         }
        },
        "yaxis2": {
         "anchor": "x2",
         "domain": [
          0,
          1
         ],
         "title": {
          "text": "Layer"
         }
        }
       }
      },
      "text/html": [
       "<div>                            <div id=\"dd5b391f-36e1-4b80-9111-7b673e6be8f0\" class=\"plotly-graph-div\" style=\"height:525px; width:100%;\"></div>            <script type=\"text/javascript\">                require([\"plotly\"], function(Plotly) {                    window.PLOTLYENV=window.PLOTLYENV || {};                                    if (document.getElementById(\"dd5b391f-36e1-4b80-9111-7b673e6be8f0\")) {                    Plotly.newPlot(                        \"dd5b391f-36e1-4b80-9111-7b673e6be8f0\",                        [{\"colorbar\":{\"len\":0.5,\"title\":{\"text\":\"Wanted\"},\"y\":0.5,\"yanchor\":\"top\"},\"colorscale\":[[0.0,\"rgb(255,245,240)\"],[0.125,\"rgb(254,224,210)\"],[0.25,\"rgb(252,187,161)\"],[0.375,\"rgb(252,146,114)\"],[0.5,\"rgb(251,106,74)\"],[0.625,\"rgb(239,59,44)\"],[0.75,\"rgb(203,24,29)\"],[0.875,\"rgb(165,15,21)\"],[1.0,\"rgb(103,0,13)\"]],\"showscale\":true,\"x\":[0,1,2,3,4,5,6,7,8,10],\"y\":[1,4,7,11,14,17,21,24,27,31],\"z\":[[0.0,-0.048610877990722653,-0.8165079116821289,-0.9022241592407226,-0.9495449066162109,-1.149082565307617,-1.235641860961914,-1.2643592834472657,-1.2773029327392578,-1.284445571899414],[0.0,-0.4850651741027832,-0.7151528358459472,-0.876281452178955,-0.8934244155883789,-0.8652084350585938,-0.7996196746826172,-0.7269554138183594,-0.6695905685424804,-0.6211570739746094],[0.0,-0.28316287994384765,-0.705715560913086,-0.9397418975830079,-1.0438491821289062,-1.0921403884887695,-1.0983851432800293,-1.079775905609131,-1.0550996780395507,-1.0184653282165528],[0.0,-0.24562902450561525,-0.5838313102722168,-0.7631462097167969,-0.9539669036865235,-1.083898162841797,-1.1594149589538574,-1.2101333618164063,-1.2492794036865233,-1.3079318046569823],[0.0,-0.25530567169189455,-0.42482528686523435,-0.6421145439147949,-0.8482290267944336,-1.0029474258422852,-1.1161149978637694,-1.198557186126709,-1.256428050994873,-1.3185639381408691],[0.0,-0.29446096420288087,-0.6284587860107422,-0.8255706787109375,-0.9201271057128906,-0.9560016632080078,-0.9635194778442383,-0.9584602355957031,-0.9479292869567871,-0.9227682113647461],[0.0,-0.03937978744506836,-0.09829578399658204,-0.11978702545166016,-0.12166795730590821,-0.114892578125,-0.10390329360961914,-0.09119968414306641,-0.07828083038330078,-0.054642105102539064],[0.0,-0.06270475387573242,-0.08878612518310547,-0.09071731567382812,-0.08706188201904297,-0.0818929672241211,-0.07668867111206054,-0.07197027206420899,-0.06788167953491211,-0.06138057708740234],[0.0,0.0012243270874023437,-0.019546985626220703,-0.021422576904296876,-0.011749839782714844,0.001779937744140625,0.01556692123413086,0.028203201293945313,0.039305496215820315,0.05721960067749023],[0.0,0.0006896018981933594,0.00972747802734375,0.021010398864746094,0.03154745101928711,0.04078550338745117,0.0487666130065918,0.055628204345703126,0.06155538558959961,0.07118120193481445]],\"type\":\"heatmap\",\"xaxis\":\"x\",\"yaxis\":\"y\"},{\"colorbar\":{\"len\":0.5,\"title\":{\"text\":\"Unwanted\"},\"y\":1,\"yanchor\":\"top\"},\"colorscale\":[[0.0,\"rgb(247,251,255)\"],[0.125,\"rgb(222,235,247)\"],[0.25,\"rgb(198,219,239)\"],[0.375,\"rgb(158,202,225)\"],[0.5,\"rgb(107,174,214)\"],[0.625,\"rgb(66,146,198)\"],[0.75,\"rgb(33,113,181)\"],[0.875,\"rgb(8,81,156)\"],[1.0,\"rgb(8,48,107)\"]],\"showscale\":true,\"x\":[0,1,2,3,4,5,6,7,8,10],\"y\":[1,4,7,11,14,17,21,24,27,31],\"z\":[[0.0,0.08097820281982422,0.2914337158203125,0.3511226654052734,0.20388450622558593,-0.03758525848388672,-0.13526077270507814,-0.19980945587158203,-0.2629842758178711,-0.3885446548461914],[0.0,-0.05533380508422851,0.007674503326416016,-0.19074182510375975,-0.24928531646728516,-0.27176265716552733,-0.2674385070800781,-0.24918203353881835,-0.23187646865844727,-0.21123228073120118],[0.0,-0.020888900756835936,-0.12509241104125976,-0.3933567047119141,-0.5611848831176758,-0.652835750579834,-0.6826068878173828,-0.670199966430664,-0.6362079620361328,-0.549766731262207],[0.0,-0.06477127075195313,-0.1176849365234375,-0.1815049171447754,-0.3034296989440918,-0.37325639724731446,-0.3896161079406738,-0.3819223403930664,-0.3638360023498535,-0.3163620948791504],[0.0,0.09355554580688477,-0.03641443252563477,-0.06911163330078125,-0.062488555908203125,-0.010694026947021484,0.06207761764526367,0.1397263526916504,0.21705665588378906,0.36360626220703124],[0.0,0.18220529556274415,0.2969327926635742,0.30411787033081056,0.3118877410888672,0.3411717414855957,0.38088788986206057,0.4221920967102051,0.460828971862793,0.5240037918090821],[0.0,-0.005755233764648438,-0.05664882659912109,-0.06935911178588867,-0.05359773635864258,-0.027731990814208983,0.0002831459045410156,0.027381134033203126,0.05229320526123047,0.09425907135009766],[0.0,-0.03896951675415039,-0.06766109466552735,-0.07663145065307617,-0.07493019104003906,-0.06827068328857422,-0.05969724655151367,-0.05080575942993164,-0.04234333038330078,-0.027648735046386718],[0.0,0.02353839874267578,0.008698463439941406,0.011161136627197265,0.02725820541381836,0.04824762344360352,0.06939773559570313,0.08871307373046874,0.10565185546875,0.13290538787841796],[0.0,0.002253818511962891,0.014487171173095703,0.02972898483276367,0.04412651062011719,0.05681028366088867,0.0677703857421875,0.0771728515625,0.08525075912475585,0.09824352264404297]],\"type\":\"heatmap\",\"xaxis\":\"x2\",\"yaxis\":\"y2\"},{\"marker\":{\"color\":\"rgb(255,255,0)\"},\"mode\":\"markers\",\"showlegend\":false,\"x\":[10],\"y\":[14],\"type\":\"scatter\",\"xaxis\":\"x\",\"yaxis\":\"y\"},{\"marker\":{\"color\":\"rgb(255,255,0)\"},\"mode\":\"markers\",\"showlegend\":false,\"x\":[10],\"y\":[14],\"type\":\"scatter\",\"xaxis\":\"x2\",\"yaxis\":\"y2\"},{\"marker\":{\"color\":\"rgb(223,191,32)\"},\"mode\":\"markers\",\"showlegend\":false,\"x\":[6],\"y\":[17],\"type\":\"scatter\",\"xaxis\":\"x\",\"yaxis\":\"y\"},{\"marker\":{\"color\":\"rgb(223,191,32)\"},\"mode\":\"markers\",\"showlegend\":false,\"x\":[6],\"y\":[17],\"type\":\"scatter\",\"xaxis\":\"x2\",\"yaxis\":\"y2\"},{\"marker\":{\"color\":\"rgb(191,127,64)\"},\"mode\":\"markers\",\"showlegend\":false,\"x\":[7],\"y\":[17],\"type\":\"scatter\",\"xaxis\":\"x\",\"yaxis\":\"y\"},{\"marker\":{\"color\":\"rgb(191,127,64)\"},\"mode\":\"markers\",\"showlegend\":false,\"x\":[7],\"y\":[17],\"type\":\"scatter\",\"xaxis\":\"x2\",\"yaxis\":\"y2\"},{\"marker\":{\"color\":\"rgb(159,63,96)\"},\"mode\":\"markers\",\"showlegend\":false,\"x\":[8],\"y\":[17],\"type\":\"scatter\",\"xaxis\":\"x\",\"yaxis\":\"y\"},{\"marker\":{\"color\":\"rgb(159,63,96)\"},\"mode\":\"markers\",\"showlegend\":false,\"x\":[8],\"y\":[17],\"type\":\"scatter\",\"xaxis\":\"x2\",\"yaxis\":\"y2\"},{\"marker\":{\"color\":\"rgb(128,0,128)\"},\"mode\":\"markers\",\"showlegend\":false,\"x\":[10],\"y\":[17],\"type\":\"scatter\",\"xaxis\":\"x\",\"yaxis\":\"y\"},{\"marker\":{\"color\":\"rgb(128,0,128)\"},\"mode\":\"markers\",\"showlegend\":false,\"x\":[10],\"y\":[17],\"type\":\"scatter\",\"xaxis\":\"x2\",\"yaxis\":\"y2\"}],                        {\"template\":{\"data\":{\"histogram2dcontour\":[{\"type\":\"histogram2dcontour\",\"colorbar\":{\"outlinewidth\":0,\"ticks\":\"\"},\"colorscale\":[[0.0,\"#0d0887\"],[0.1111111111111111,\"#46039f\"],[0.2222222222222222,\"#7201a8\"],[0.3333333333333333,\"#9c179e\"],[0.4444444444444444,\"#bd3786\"],[0.5555555555555556,\"#d8576b\"],[0.6666666666666666,\"#ed7953\"],[0.7777777777777778,\"#fb9f3a\"],[0.8888888888888888,\"#fdca26\"],[1.0,\"#f0f921\"]]}],\"choropleth\":[{\"type\":\"choropleth\",\"colorbar\":{\"outlinewidth\":0,\"ticks\":\"\"}}],\"histogram2d\":[{\"type\":\"histogram2d\",\"colorbar\":{\"outlinewidth\":0,\"ticks\":\"\"},\"colorscale\":[[0.0,\"#0d0887\"],[0.1111111111111111,\"#46039f\"],[0.2222222222222222,\"#7201a8\"],[0.3333333333333333,\"#9c179e\"],[0.4444444444444444,\"#bd3786\"],[0.5555555555555556,\"#d8576b\"],[0.6666666666666666,\"#ed7953\"],[0.7777777777777778,\"#fb9f3a\"],[0.8888888888888888,\"#fdca26\"],[1.0,\"#f0f921\"]]}],\"heatmap\":[{\"type\":\"heatmap\",\"colorbar\":{\"outlinewidth\":0,\"ticks\":\"\"},\"colorscale\":[[0.0,\"#0d0887\"],[0.1111111111111111,\"#46039f\"],[0.2222222222222222,\"#7201a8\"],[0.3333333333333333,\"#9c179e\"],[0.4444444444444444,\"#bd3786\"],[0.5555555555555556,\"#d8576b\"],[0.6666666666666666,\"#ed7953\"],[0.7777777777777778,\"#fb9f3a\"],[0.8888888888888888,\"#fdca26\"],[1.0,\"#f0f921\"]]}],\"heatmapgl\":[{\"type\":\"heatmapgl\",\"colorbar\":{\"outlinewidth\":0,\"ticks\":\"\"},\"colorscale\":[[0.0,\"#0d0887\"],[0.1111111111111111,\"#46039f\"],[0.2222222222222222,\"#7201a8\"],[0.3333333333333333,\"#9c179e\"],[0.4444444444444444,\"#bd3786\"],[0.5555555555555556,\"#d8576b\"],[0.6666666666666666,\"#ed7953\"],[0.7777777777777778,\"#fb9f3a\"],[0.8888888888888888,\"#fdca26\"],[1.0,\"#f0f921\"]]}],\"contourcarpet\":[{\"type\":\"contourcarpet\",\"colorbar\":{\"outlinewidth\":0,\"ticks\":\"\"}}],\"contour\":[{\"type\":\"contour\",\"colorbar\":{\"outlinewidth\":0,\"ticks\":\"\"},\"colorscale\":[[0.0,\"#0d0887\"],[0.1111111111111111,\"#46039f\"],[0.2222222222222222,\"#7201a8\"],[0.3333333333333333,\"#9c179e\"],[0.4444444444444444,\"#bd3786\"],[0.5555555555555556,\"#d8576b\"],[0.6666666666666666,\"#ed7953\"],[0.7777777777777778,\"#fb9f3a\"],[0.8888888888888888,\"#fdca26\"],[1.0,\"#f0f921\"]]}],\"surface\":[{\"type\":\"surface\",\"colorbar\":{\"outlinewidth\":0,\"ticks\":\"\"},\"colorscale\":[[0.0,\"#0d0887\"],[0.1111111111111111,\"#46039f\"],[0.2222222222222222,\"#7201a8\"],[0.3333333333333333,\"#9c179e\"],[0.4444444444444444,\"#bd3786\"],[0.5555555555555556,\"#d8576b\"],[0.6666666666666666,\"#ed7953\"],[0.7777777777777778,\"#fb9f3a\"],[0.8888888888888888,\"#fdca26\"],[1.0,\"#f0f921\"]]}],\"mesh3d\":[{\"type\":\"mesh3d\",\"colorbar\":{\"outlinewidth\":0,\"ticks\":\"\"}}],\"scatter\":[{\"fillpattern\":{\"fillmode\":\"overlay\",\"size\":10,\"solidity\":0.2},\"type\":\"scatter\"}],\"parcoords\":[{\"type\":\"parcoords\",\"line\":{\"colorbar\":{\"outlinewidth\":0,\"ticks\":\"\"}}}],\"scatterpolargl\":[{\"type\":\"scatterpolargl\",\"marker\":{\"colorbar\":{\"outlinewidth\":0,\"ticks\":\"\"}}}],\"bar\":[{\"error_x\":{\"color\":\"#2a3f5f\"},\"error_y\":{\"color\":\"#2a3f5f\"},\"marker\":{\"line\":{\"color\":\"#E5ECF6\",\"width\":0.5},\"pattern\":{\"fillmode\":\"overlay\",\"size\":10,\"solidity\":0.2}},\"type\":\"bar\"}],\"scattergeo\":[{\"type\":\"scattergeo\",\"marker\":{\"colorbar\":{\"outlinewidth\":0,\"ticks\":\"\"}}}],\"scatterpolar\":[{\"type\":\"scatterpolar\",\"marker\":{\"colorbar\":{\"outlinewidth\":0,\"ticks\":\"\"}}}],\"histogram\":[{\"marker\":{\"pattern\":{\"fillmode\":\"overlay\",\"size\":10,\"solidity\":0.2}},\"type\":\"histogram\"}],\"scattergl\":[{\"type\":\"scattergl\",\"marker\":{\"colorbar\":{\"outlinewidth\":0,\"ticks\":\"\"}}}],\"scatter3d\":[{\"type\":\"scatter3d\",\"line\":{\"colorbar\":{\"outlinewidth\":0,\"ticks\":\"\"}},\"marker\":{\"colorbar\":{\"outlinewidth\":0,\"ticks\":\"\"}}}],\"scattermapbox\":[{\"type\":\"scattermapbox\",\"marker\":{\"colorbar\":{\"outlinewidth\":0,\"ticks\":\"\"}}}],\"scatterternary\":[{\"type\":\"scatterternary\",\"marker\":{\"colorbar\":{\"outlinewidth\":0,\"ticks\":\"\"}}}],\"scattercarpet\":[{\"type\":\"scattercarpet\",\"marker\":{\"colorbar\":{\"outlinewidth\":0,\"ticks\":\"\"}}}],\"carpet\":[{\"aaxis\":{\"endlinecolor\":\"#2a3f5f\",\"gridcolor\":\"white\",\"linecolor\":\"white\",\"minorgridcolor\":\"white\",\"startlinecolor\":\"#2a3f5f\"},\"baxis\":{\"endlinecolor\":\"#2a3f5f\",\"gridcolor\":\"white\",\"linecolor\":\"white\",\"minorgridcolor\":\"white\",\"startlinecolor\":\"#2a3f5f\"},\"type\":\"carpet\"}],\"table\":[{\"cells\":{\"fill\":{\"color\":\"#EBF0F8\"},\"line\":{\"color\":\"white\"}},\"header\":{\"fill\":{\"color\":\"#C8D4E3\"},\"line\":{\"color\":\"white\"}},\"type\":\"table\"}],\"barpolar\":[{\"marker\":{\"line\":{\"color\":\"#E5ECF6\",\"width\":0.5},\"pattern\":{\"fillmode\":\"overlay\",\"size\":10,\"solidity\":0.2}},\"type\":\"barpolar\"}],\"pie\":[{\"automargin\":true,\"type\":\"pie\"}]},\"layout\":{\"autotypenumbers\":\"strict\",\"colorway\":[\"#636efa\",\"#EF553B\",\"#00cc96\",\"#ab63fa\",\"#FFA15A\",\"#19d3f3\",\"#FF6692\",\"#B6E880\",\"#FF97FF\",\"#FECB52\"],\"font\":{\"color\":\"#2a3f5f\"},\"hovermode\":\"closest\",\"hoverlabel\":{\"align\":\"left\"},\"paper_bgcolor\":\"white\",\"plot_bgcolor\":\"#E5ECF6\",\"polar\":{\"bgcolor\":\"#E5ECF6\",\"angularaxis\":{\"gridcolor\":\"white\",\"linecolor\":\"white\",\"ticks\":\"\"},\"radialaxis\":{\"gridcolor\":\"white\",\"linecolor\":\"white\",\"ticks\":\"\"}},\"ternary\":{\"bgcolor\":\"#E5ECF6\",\"aaxis\":{\"gridcolor\":\"white\",\"linecolor\":\"white\",\"ticks\":\"\"},\"baxis\":{\"gridcolor\":\"white\",\"linecolor\":\"white\",\"ticks\":\"\"},\"caxis\":{\"gridcolor\":\"white\",\"linecolor\":\"white\",\"ticks\":\"\"}},\"coloraxis\":{\"colorbar\":{\"outlinewidth\":0,\"ticks\":\"\"}},\"colorscale\":{\"sequential\":[[0.0,\"#0d0887\"],[0.1111111111111111,\"#46039f\"],[0.2222222222222222,\"#7201a8\"],[0.3333333333333333,\"#9c179e\"],[0.4444444444444444,\"#bd3786\"],[0.5555555555555556,\"#d8576b\"],[0.6666666666666666,\"#ed7953\"],[0.7777777777777778,\"#fb9f3a\"],[0.8888888888888888,\"#fdca26\"],[1.0,\"#f0f921\"]],\"sequentialminus\":[[0.0,\"#0d0887\"],[0.1111111111111111,\"#46039f\"],[0.2222222222222222,\"#7201a8\"],[0.3333333333333333,\"#9c179e\"],[0.4444444444444444,\"#bd3786\"],[0.5555555555555556,\"#d8576b\"],[0.6666666666666666,\"#ed7953\"],[0.7777777777777778,\"#fb9f3a\"],[0.8888888888888888,\"#fdca26\"],[1.0,\"#f0f921\"]],\"diverging\":[[0,\"#8e0152\"],[0.1,\"#c51b7d\"],[0.2,\"#de77ae\"],[0.3,\"#f1b6da\"],[0.4,\"#fde0ef\"],[0.5,\"#f7f7f7\"],[0.6,\"#e6f5d0\"],[0.7,\"#b8e186\"],[0.8,\"#7fbc41\"],[0.9,\"#4d9221\"],[1,\"#276419\"]]},\"xaxis\":{\"gridcolor\":\"white\",\"linecolor\":\"white\",\"ticks\":\"\",\"title\":{\"standoff\":15},\"zerolinecolor\":\"white\",\"automargin\":true,\"zerolinewidth\":2},\"yaxis\":{\"gridcolor\":\"white\",\"linecolor\":\"white\",\"ticks\":\"\",\"title\":{\"standoff\":15},\"zerolinecolor\":\"white\",\"automargin\":true,\"zerolinewidth\":2},\"scene\":{\"xaxis\":{\"backgroundcolor\":\"#E5ECF6\",\"gridcolor\":\"white\",\"linecolor\":\"white\",\"showbackground\":true,\"ticks\":\"\",\"zerolinecolor\":\"white\",\"gridwidth\":2},\"yaxis\":{\"backgroundcolor\":\"#E5ECF6\",\"gridcolor\":\"white\",\"linecolor\":\"white\",\"showbackground\":true,\"ticks\":\"\",\"zerolinecolor\":\"white\",\"gridwidth\":2},\"zaxis\":{\"backgroundcolor\":\"#E5ECF6\",\"gridcolor\":\"white\",\"linecolor\":\"white\",\"showbackground\":true,\"ticks\":\"\",\"zerolinecolor\":\"white\",\"gridwidth\":2}},\"shapedefaults\":{\"line\":{\"color\":\"#2a3f5f\"}},\"annotationdefaults\":{\"arrowcolor\":\"#2a3f5f\",\"arrowhead\":0,\"arrowwidth\":1},\"geo\":{\"bgcolor\":\"white\",\"landcolor\":\"#E5ECF6\",\"subunitcolor\":\"white\",\"showland\":true,\"showlakes\":true,\"lakecolor\":\"white\"},\"title\":{\"x\":0.05},\"mapbox\":{\"style\":\"light\"}}},\"xaxis\":{\"anchor\":\"y\",\"domain\":[0.0,0.45],\"title\":{\"text\":\"Coefficient\"}},\"yaxis\":{\"anchor\":\"x\",\"domain\":[0.0,1.0],\"title\":{\"text\":\"Layer\"}},\"xaxis2\":{\"anchor\":\"y2\",\"domain\":[0.55,1.0],\"title\":{\"text\":\"Coefficient\"}},\"yaxis2\":{\"anchor\":\"x2\",\"domain\":[0.0,1.0],\"title\":{\"text\":\"Layer\"}},\"annotations\":[{\"font\":{\"size\":16},\"showarrow\":false,\"text\":\"Wanted Perplexities\",\"x\":0.225,\"xanchor\":\"center\",\"xref\":\"paper\",\"y\":1.0,\"yanchor\":\"bottom\",\"yref\":\"paper\"},{\"font\":{\"size\":16},\"showarrow\":false,\"text\":\"Unwanted Perplexities\",\"x\":0.775,\"xanchor\":\"center\",\"xref\":\"paper\",\"y\":1.0,\"yanchor\":\"bottom\",\"yref\":\"paper\"}],\"margin\":{\"t\":20,\"b\":50,\"l\":50,\"r\":50}},                        {\"responsive\": true}                    ).then(function(){\n",
       "                            \n",
       "var gd = document.getElementById('dd5b391f-36e1-4b80-9111-7b673e6be8f0');\n",
       "var x = new MutationObserver(function (mutations, observer) {{\n",
       "        var display = window.getComputedStyle(gd).display;\n",
       "        if (!display || display === 'none') {{\n",
       "            console.log([gd, 'removed!']);\n",
       "            Plotly.purge(gd);\n",
       "            observer.disconnect();\n",
       "        }}\n",
       "}});\n",
       "\n",
       "// Listen for the removal of the full notebook cells\n",
       "var notebookContainer = gd.closest('#notebook-container');\n",
       "if (notebookContainer) {{\n",
       "    x.observe(notebookContainer, {childList: true});\n",
       "}}\n",
       "\n",
       "// Listen for the clearing of the current output cell\n",
       "var outputEl = gd.closest('.output');\n",
       "if (outputEl) {{\n",
       "    x.observe(outputEl, {childList: true});\n",
       "}}\n",
       "\n",
       "                        })                };                });            </script>        </div>"
      ]
     },
     "metadata": {},
     "output_type": "display_data"
    },
    {
     "data": {
      "application/vnd.plotly.v1+json": {
       "config": {
        "plotlyServerURL": "https://plot.ly"
       },
       "data": [
        {
         "hoverinfo": "text",
         "marker": {
          "color": "grey",
          "opacity": 0.3
         },
         "mode": "markers",
         "name": "Other points",
         "type": "scatter",
         "x": [
          0,
          -0.048610877990722653,
          -0.8165079116821289,
          -0.9022241592407226,
          -0.9495449066162109,
          -1.149082565307617,
          -1.235641860961914,
          -1.2643592834472657,
          -1.2773029327392578,
          -1.284445571899414,
          0,
          -0.4850651741027832,
          -0.7151528358459472,
          -0.876281452178955,
          -0.8934244155883789,
          -0.8652084350585938,
          -0.7996196746826172,
          -0.7269554138183594,
          -0.6695905685424804,
          -0.6211570739746094,
          0,
          -0.28316287994384765,
          -0.705715560913086,
          -0.9397418975830079,
          -1.0438491821289062,
          -1.0921403884887695,
          -1.0983851432800293,
          -1.079775905609131,
          -1.0550996780395507,
          -1.0184653282165528,
          0,
          -0.24562902450561525,
          -0.5838313102722168,
          -0.7631462097167969,
          -0.9539669036865235,
          -1.083898162841797,
          -1.1594149589538574,
          -1.2101333618164063,
          -1.2492794036865233,
          -1.3079318046569823,
          0,
          -0.25530567169189455,
          -0.42482528686523435,
          -0.6421145439147949,
          -0.8482290267944336,
          -1.0029474258422852,
          -1.1161149978637694,
          -1.198557186126709,
          -1.256428050994873,
          0,
          -0.29446096420288087,
          -0.6284587860107422,
          -0.8255706787109375,
          -0.9201271057128906,
          -0.9560016632080078,
          0,
          -0.03937978744506836,
          -0.09829578399658204,
          -0.11978702545166016,
          -0.12166795730590821,
          -0.114892578125,
          -0.10390329360961914,
          -0.09119968414306641,
          -0.07828083038330078,
          -0.054642105102539064,
          0,
          -0.06270475387573242,
          -0.08878612518310547,
          -0.09071731567382812,
          -0.08706188201904297,
          -0.0818929672241211,
          -0.07668867111206054,
          -0.07197027206420899,
          -0.06788167953491211,
          -0.06138057708740234,
          0,
          0.0012243270874023437,
          -0.019546985626220703,
          -0.021422576904296876,
          -0.011749839782714844,
          0.001779937744140625,
          0.01556692123413086,
          0.028203201293945313,
          0.039305496215820315,
          0.05721960067749023,
          0,
          0.0006896018981933594,
          0.00972747802734375,
          0.021010398864746094,
          0.03154745101928711,
          0.04078550338745117,
          0.0487666130065918,
          0.055628204345703126,
          0.06155538558959961,
          0.07118120193481445
         ],
         "y": [
          0,
          0.08097820281982422,
          0.2914337158203125,
          0.3511226654052734,
          0.20388450622558593,
          -0.03758525848388672,
          -0.13526077270507814,
          -0.19980945587158203,
          -0.2629842758178711,
          -0.3885446548461914,
          0,
          -0.05533380508422851,
          0.007674503326416016,
          -0.19074182510375975,
          -0.24928531646728516,
          -0.27176265716552733,
          -0.2674385070800781,
          -0.24918203353881835,
          -0.23187646865844727,
          -0.21123228073120118,
          0,
          -0.020888900756835936,
          -0.12509241104125976,
          -0.3933567047119141,
          -0.5611848831176758,
          -0.652835750579834,
          -0.6826068878173828,
          -0.670199966430664,
          -0.6362079620361328,
          -0.549766731262207,
          0,
          -0.06477127075195313,
          -0.1176849365234375,
          -0.1815049171447754,
          -0.3034296989440918,
          -0.37325639724731446,
          -0.3896161079406738,
          -0.3819223403930664,
          -0.3638360023498535,
          -0.3163620948791504,
          0,
          0.09355554580688477,
          -0.03641443252563477,
          -0.06911163330078125,
          -0.062488555908203125,
          -0.010694026947021484,
          0.06207761764526367,
          0.1397263526916504,
          0.21705665588378906,
          0,
          0.18220529556274415,
          0.2969327926635742,
          0.30411787033081056,
          0.3118877410888672,
          0.3411717414855957,
          0,
          -0.005755233764648438,
          -0.05664882659912109,
          -0.06935911178588867,
          -0.05359773635864258,
          -0.027731990814208983,
          0.0002831459045410156,
          0.027381134033203126,
          0.05229320526123047,
          0.09425907135009766,
          0,
          -0.03896951675415039,
          -0.06766109466552735,
          -0.07663145065307617,
          -0.07493019104003906,
          -0.06827068328857422,
          -0.05969724655151367,
          -0.05080575942993164,
          -0.04234333038330078,
          -0.027648735046386718,
          0,
          0.02353839874267578,
          0.008698463439941406,
          0.011161136627197265,
          0.02725820541381836,
          0.04824762344360352,
          0.06939773559570313,
          0.08871307373046874,
          0.10565185546875,
          0.13290538787841796,
          0,
          0.002253818511962891,
          0.014487171173095703,
          0.02972898483276367,
          0.04412651062011719,
          0.05681028366088867,
          0.0677703857421875,
          0.0771728515625,
          0.08525075912475585,
          0.09824352264404297
         ]
        },
        {
         "hoverinfo": "text",
         "hovertext": [
          "Layer: 14\n Coefficent10",
          "Layer: 17\n Coefficent6",
          "Layer: 17\n Coefficent7",
          "Layer: 17\n Coefficent8",
          "Layer: 17\n Coefficent10"
         ],
         "marker": {
          "color": [
           "rgb(255,255,0)",
           "rgb(223,191,32)",
           "rgb(191,127,64)",
           "rgb(159,63,96)",
           "rgb(128,0,128)"
          ]
         },
         "mode": "markers",
         "name": "Pareto Frontier",
         "type": "scatter",
         "x": [
          -1.3185639381408691,
          -0.9635194778442383,
          -0.9584602355957031,
          -0.9479292869567871,
          -0.9227682113647461
         ],
         "y": [
          0.36360626220703124,
          0.38088788986206057,
          0.4221920967102051,
          0.460828971862793,
          0.5240037918090821
         ]
        }
       ],
       "layout": {
        "template": {
         "data": {
          "bar": [
           {
            "error_x": {
             "color": "#2a3f5f"
            },
            "error_y": {
             "color": "#2a3f5f"
            },
            "marker": {
             "line": {
              "color": "#E5ECF6",
              "width": 0.5
             },
             "pattern": {
              "fillmode": "overlay",
              "size": 10,
              "solidity": 0.2
             }
            },
            "type": "bar"
           }
          ],
          "barpolar": [
           {
            "marker": {
             "line": {
              "color": "#E5ECF6",
              "width": 0.5
             },
             "pattern": {
              "fillmode": "overlay",
              "size": 10,
              "solidity": 0.2
             }
            },
            "type": "barpolar"
           }
          ],
          "carpet": [
           {
            "aaxis": {
             "endlinecolor": "#2a3f5f",
             "gridcolor": "white",
             "linecolor": "white",
             "minorgridcolor": "white",
             "startlinecolor": "#2a3f5f"
            },
            "baxis": {
             "endlinecolor": "#2a3f5f",
             "gridcolor": "white",
             "linecolor": "white",
             "minorgridcolor": "white",
             "startlinecolor": "#2a3f5f"
            },
            "type": "carpet"
           }
          ],
          "choropleth": [
           {
            "colorbar": {
             "outlinewidth": 0,
             "ticks": ""
            },
            "type": "choropleth"
           }
          ],
          "contour": [
           {
            "colorbar": {
             "outlinewidth": 0,
             "ticks": ""
            },
            "colorscale": [
             [
              0,
              "#0d0887"
             ],
             [
              0.1111111111111111,
              "#46039f"
             ],
             [
              0.2222222222222222,
              "#7201a8"
             ],
             [
              0.3333333333333333,
              "#9c179e"
             ],
             [
              0.4444444444444444,
              "#bd3786"
             ],
             [
              0.5555555555555556,
              "#d8576b"
             ],
             [
              0.6666666666666666,
              "#ed7953"
             ],
             [
              0.7777777777777778,
              "#fb9f3a"
             ],
             [
              0.8888888888888888,
              "#fdca26"
             ],
             [
              1,
              "#f0f921"
             ]
            ],
            "type": "contour"
           }
          ],
          "contourcarpet": [
           {
            "colorbar": {
             "outlinewidth": 0,
             "ticks": ""
            },
            "type": "contourcarpet"
           }
          ],
          "heatmap": [
           {
            "colorbar": {
             "outlinewidth": 0,
             "ticks": ""
            },
            "colorscale": [
             [
              0,
              "#0d0887"
             ],
             [
              0.1111111111111111,
              "#46039f"
             ],
             [
              0.2222222222222222,
              "#7201a8"
             ],
             [
              0.3333333333333333,
              "#9c179e"
             ],
             [
              0.4444444444444444,
              "#bd3786"
             ],
             [
              0.5555555555555556,
              "#d8576b"
             ],
             [
              0.6666666666666666,
              "#ed7953"
             ],
             [
              0.7777777777777778,
              "#fb9f3a"
             ],
             [
              0.8888888888888888,
              "#fdca26"
             ],
             [
              1,
              "#f0f921"
             ]
            ],
            "type": "heatmap"
           }
          ],
          "heatmapgl": [
           {
            "colorbar": {
             "outlinewidth": 0,
             "ticks": ""
            },
            "colorscale": [
             [
              0,
              "#0d0887"
             ],
             [
              0.1111111111111111,
              "#46039f"
             ],
             [
              0.2222222222222222,
              "#7201a8"
             ],
             [
              0.3333333333333333,
              "#9c179e"
             ],
             [
              0.4444444444444444,
              "#bd3786"
             ],
             [
              0.5555555555555556,
              "#d8576b"
             ],
             [
              0.6666666666666666,
              "#ed7953"
             ],
             [
              0.7777777777777778,
              "#fb9f3a"
             ],
             [
              0.8888888888888888,
              "#fdca26"
             ],
             [
              1,
              "#f0f921"
             ]
            ],
            "type": "heatmapgl"
           }
          ],
          "histogram": [
           {
            "marker": {
             "pattern": {
              "fillmode": "overlay",
              "size": 10,
              "solidity": 0.2
             }
            },
            "type": "histogram"
           }
          ],
          "histogram2d": [
           {
            "colorbar": {
             "outlinewidth": 0,
             "ticks": ""
            },
            "colorscale": [
             [
              0,
              "#0d0887"
             ],
             [
              0.1111111111111111,
              "#46039f"
             ],
             [
              0.2222222222222222,
              "#7201a8"
             ],
             [
              0.3333333333333333,
              "#9c179e"
             ],
             [
              0.4444444444444444,
              "#bd3786"
             ],
             [
              0.5555555555555556,
              "#d8576b"
             ],
             [
              0.6666666666666666,
              "#ed7953"
             ],
             [
              0.7777777777777778,
              "#fb9f3a"
             ],
             [
              0.8888888888888888,
              "#fdca26"
             ],
             [
              1,
              "#f0f921"
             ]
            ],
            "type": "histogram2d"
           }
          ],
          "histogram2dcontour": [
           {
            "colorbar": {
             "outlinewidth": 0,
             "ticks": ""
            },
            "colorscale": [
             [
              0,
              "#0d0887"
             ],
             [
              0.1111111111111111,
              "#46039f"
             ],
             [
              0.2222222222222222,
              "#7201a8"
             ],
             [
              0.3333333333333333,
              "#9c179e"
             ],
             [
              0.4444444444444444,
              "#bd3786"
             ],
             [
              0.5555555555555556,
              "#d8576b"
             ],
             [
              0.6666666666666666,
              "#ed7953"
             ],
             [
              0.7777777777777778,
              "#fb9f3a"
             ],
             [
              0.8888888888888888,
              "#fdca26"
             ],
             [
              1,
              "#f0f921"
             ]
            ],
            "type": "histogram2dcontour"
           }
          ],
          "mesh3d": [
           {
            "colorbar": {
             "outlinewidth": 0,
             "ticks": ""
            },
            "type": "mesh3d"
           }
          ],
          "parcoords": [
           {
            "line": {
             "colorbar": {
              "outlinewidth": 0,
              "ticks": ""
             }
            },
            "type": "parcoords"
           }
          ],
          "pie": [
           {
            "automargin": true,
            "type": "pie"
           }
          ],
          "scatter": [
           {
            "fillpattern": {
             "fillmode": "overlay",
             "size": 10,
             "solidity": 0.2
            },
            "type": "scatter"
           }
          ],
          "scatter3d": [
           {
            "line": {
             "colorbar": {
              "outlinewidth": 0,
              "ticks": ""
             }
            },
            "marker": {
             "colorbar": {
              "outlinewidth": 0,
              "ticks": ""
             }
            },
            "type": "scatter3d"
           }
          ],
          "scattercarpet": [
           {
            "marker": {
             "colorbar": {
              "outlinewidth": 0,
              "ticks": ""
             }
            },
            "type": "scattercarpet"
           }
          ],
          "scattergeo": [
           {
            "marker": {
             "colorbar": {
              "outlinewidth": 0,
              "ticks": ""
             }
            },
            "type": "scattergeo"
           }
          ],
          "scattergl": [
           {
            "marker": {
             "colorbar": {
              "outlinewidth": 0,
              "ticks": ""
             }
            },
            "type": "scattergl"
           }
          ],
          "scattermapbox": [
           {
            "marker": {
             "colorbar": {
              "outlinewidth": 0,
              "ticks": ""
             }
            },
            "type": "scattermapbox"
           }
          ],
          "scatterpolar": [
           {
            "marker": {
             "colorbar": {
              "outlinewidth": 0,
              "ticks": ""
             }
            },
            "type": "scatterpolar"
           }
          ],
          "scatterpolargl": [
           {
            "marker": {
             "colorbar": {
              "outlinewidth": 0,
              "ticks": ""
             }
            },
            "type": "scatterpolargl"
           }
          ],
          "scatterternary": [
           {
            "marker": {
             "colorbar": {
              "outlinewidth": 0,
              "ticks": ""
             }
            },
            "type": "scatterternary"
           }
          ],
          "surface": [
           {
            "colorbar": {
             "outlinewidth": 0,
             "ticks": ""
            },
            "colorscale": [
             [
              0,
              "#0d0887"
             ],
             [
              0.1111111111111111,
              "#46039f"
             ],
             [
              0.2222222222222222,
              "#7201a8"
             ],
             [
              0.3333333333333333,
              "#9c179e"
             ],
             [
              0.4444444444444444,
              "#bd3786"
             ],
             [
              0.5555555555555556,
              "#d8576b"
             ],
             [
              0.6666666666666666,
              "#ed7953"
             ],
             [
              0.7777777777777778,
              "#fb9f3a"
             ],
             [
              0.8888888888888888,
              "#fdca26"
             ],
             [
              1,
              "#f0f921"
             ]
            ],
            "type": "surface"
           }
          ],
          "table": [
           {
            "cells": {
             "fill": {
              "color": "#EBF0F8"
             },
             "line": {
              "color": "white"
             }
            },
            "header": {
             "fill": {
              "color": "#C8D4E3"
             },
             "line": {
              "color": "white"
             }
            },
            "type": "table"
           }
          ]
         },
         "layout": {
          "annotationdefaults": {
           "arrowcolor": "#2a3f5f",
           "arrowhead": 0,
           "arrowwidth": 1
          },
          "autotypenumbers": "strict",
          "coloraxis": {
           "colorbar": {
            "outlinewidth": 0,
            "ticks": ""
           }
          },
          "colorscale": {
           "diverging": [
            [
             0,
             "#8e0152"
            ],
            [
             0.1,
             "#c51b7d"
            ],
            [
             0.2,
             "#de77ae"
            ],
            [
             0.3,
             "#f1b6da"
            ],
            [
             0.4,
             "#fde0ef"
            ],
            [
             0.5,
             "#f7f7f7"
            ],
            [
             0.6,
             "#e6f5d0"
            ],
            [
             0.7,
             "#b8e186"
            ],
            [
             0.8,
             "#7fbc41"
            ],
            [
             0.9,
             "#4d9221"
            ],
            [
             1,
             "#276419"
            ]
           ],
           "sequential": [
            [
             0,
             "#0d0887"
            ],
            [
             0.1111111111111111,
             "#46039f"
            ],
            [
             0.2222222222222222,
             "#7201a8"
            ],
            [
             0.3333333333333333,
             "#9c179e"
            ],
            [
             0.4444444444444444,
             "#bd3786"
            ],
            [
             0.5555555555555556,
             "#d8576b"
            ],
            [
             0.6666666666666666,
             "#ed7953"
            ],
            [
             0.7777777777777778,
             "#fb9f3a"
            ],
            [
             0.8888888888888888,
             "#fdca26"
            ],
            [
             1,
             "#f0f921"
            ]
           ],
           "sequentialminus": [
            [
             0,
             "#0d0887"
            ],
            [
             0.1111111111111111,
             "#46039f"
            ],
            [
             0.2222222222222222,
             "#7201a8"
            ],
            [
             0.3333333333333333,
             "#9c179e"
            ],
            [
             0.4444444444444444,
             "#bd3786"
            ],
            [
             0.5555555555555556,
             "#d8576b"
            ],
            [
             0.6666666666666666,
             "#ed7953"
            ],
            [
             0.7777777777777778,
             "#fb9f3a"
            ],
            [
             0.8888888888888888,
             "#fdca26"
            ],
            [
             1,
             "#f0f921"
            ]
           ]
          },
          "colorway": [
           "#636efa",
           "#EF553B",
           "#00cc96",
           "#ab63fa",
           "#FFA15A",
           "#19d3f3",
           "#FF6692",
           "#B6E880",
           "#FF97FF",
           "#FECB52"
          ],
          "font": {
           "color": "#2a3f5f"
          },
          "geo": {
           "bgcolor": "white",
           "lakecolor": "white",
           "landcolor": "#E5ECF6",
           "showlakes": true,
           "showland": true,
           "subunitcolor": "white"
          },
          "hoverlabel": {
           "align": "left"
          },
          "hovermode": "closest",
          "mapbox": {
           "style": "light"
          },
          "paper_bgcolor": "white",
          "plot_bgcolor": "#E5ECF6",
          "polar": {
           "angularaxis": {
            "gridcolor": "white",
            "linecolor": "white",
            "ticks": ""
           },
           "bgcolor": "#E5ECF6",
           "radialaxis": {
            "gridcolor": "white",
            "linecolor": "white",
            "ticks": ""
           }
          },
          "scene": {
           "xaxis": {
            "backgroundcolor": "#E5ECF6",
            "gridcolor": "white",
            "gridwidth": 2,
            "linecolor": "white",
            "showbackground": true,
            "ticks": "",
            "zerolinecolor": "white"
           },
           "yaxis": {
            "backgroundcolor": "#E5ECF6",
            "gridcolor": "white",
            "gridwidth": 2,
            "linecolor": "white",
            "showbackground": true,
            "ticks": "",
            "zerolinecolor": "white"
           },
           "zaxis": {
            "backgroundcolor": "#E5ECF6",
            "gridcolor": "white",
            "gridwidth": 2,
            "linecolor": "white",
            "showbackground": true,
            "ticks": "",
            "zerolinecolor": "white"
           }
          },
          "shapedefaults": {
           "line": {
            "color": "#2a3f5f"
           }
          },
          "ternary": {
           "aaxis": {
            "gridcolor": "white",
            "linecolor": "white",
            "ticks": ""
           },
           "baxis": {
            "gridcolor": "white",
            "linecolor": "white",
            "ticks": ""
           },
           "bgcolor": "#E5ECF6",
           "caxis": {
            "gridcolor": "white",
            "linecolor": "white",
            "ticks": ""
           }
          },
          "title": {
           "x": 0.05
          },
          "xaxis": {
           "automargin": true,
           "gridcolor": "white",
           "linecolor": "white",
           "ticks": "",
           "title": {
            "standoff": 15
           },
           "zerolinecolor": "white",
           "zerolinewidth": 2
          },
          "yaxis": {
           "automargin": true,
           "gridcolor": "white",
           "linecolor": "white",
           "ticks": "",
           "title": {
            "standoff": 15
           },
           "zerolinecolor": "white",
           "zerolinewidth": 2
          }
         }
        },
        "title": {
         "text": "Pareto Frontier"
        },
        "xaxis": {
         "title": {
          "text": "Delta Wanted Perplexity"
         }
        },
        "yaxis": {
         "title": {
          "text": "Delta Unwanted Perplexity"
         }
        }
       }
      },
      "text/html": [
       "<div>                            <div id=\"d8d26e9c-826b-4174-a46b-285347489346\" class=\"plotly-graph-div\" style=\"height:525px; width:100%;\"></div>            <script type=\"text/javascript\">                require([\"plotly\"], function(Plotly) {                    window.PLOTLYENV=window.PLOTLYENV || {};                                    if (document.getElementById(\"d8d26e9c-826b-4174-a46b-285347489346\")) {                    Plotly.newPlot(                        \"d8d26e9c-826b-4174-a46b-285347489346\",                        [{\"hoverinfo\":\"text\",\"marker\":{\"color\":\"grey\",\"opacity\":0.3},\"mode\":\"markers\",\"name\":\"Other points\",\"x\":[0.0,-0.048610877990722653,-0.8165079116821289,-0.9022241592407226,-0.9495449066162109,-1.149082565307617,-1.235641860961914,-1.2643592834472657,-1.2773029327392578,-1.284445571899414,0.0,-0.4850651741027832,-0.7151528358459472,-0.876281452178955,-0.8934244155883789,-0.8652084350585938,-0.7996196746826172,-0.7269554138183594,-0.6695905685424804,-0.6211570739746094,0.0,-0.28316287994384765,-0.705715560913086,-0.9397418975830079,-1.0438491821289062,-1.0921403884887695,-1.0983851432800293,-1.079775905609131,-1.0550996780395507,-1.0184653282165528,0.0,-0.24562902450561525,-0.5838313102722168,-0.7631462097167969,-0.9539669036865235,-1.083898162841797,-1.1594149589538574,-1.2101333618164063,-1.2492794036865233,-1.3079318046569823,0.0,-0.25530567169189455,-0.42482528686523435,-0.6421145439147949,-0.8482290267944336,-1.0029474258422852,-1.1161149978637694,-1.198557186126709,-1.256428050994873,0.0,-0.29446096420288087,-0.6284587860107422,-0.8255706787109375,-0.9201271057128906,-0.9560016632080078,0.0,-0.03937978744506836,-0.09829578399658204,-0.11978702545166016,-0.12166795730590821,-0.114892578125,-0.10390329360961914,-0.09119968414306641,-0.07828083038330078,-0.054642105102539064,0.0,-0.06270475387573242,-0.08878612518310547,-0.09071731567382812,-0.08706188201904297,-0.0818929672241211,-0.07668867111206054,-0.07197027206420899,-0.06788167953491211,-0.06138057708740234,0.0,0.0012243270874023437,-0.019546985626220703,-0.021422576904296876,-0.011749839782714844,0.001779937744140625,0.01556692123413086,0.028203201293945313,0.039305496215820315,0.05721960067749023,0.0,0.0006896018981933594,0.00972747802734375,0.021010398864746094,0.03154745101928711,0.04078550338745117,0.0487666130065918,0.055628204345703126,0.06155538558959961,0.07118120193481445],\"y\":[0.0,0.08097820281982422,0.2914337158203125,0.3511226654052734,0.20388450622558593,-0.03758525848388672,-0.13526077270507814,-0.19980945587158203,-0.2629842758178711,-0.3885446548461914,0.0,-0.05533380508422851,0.007674503326416016,-0.19074182510375975,-0.24928531646728516,-0.27176265716552733,-0.2674385070800781,-0.24918203353881835,-0.23187646865844727,-0.21123228073120118,0.0,-0.020888900756835936,-0.12509241104125976,-0.3933567047119141,-0.5611848831176758,-0.652835750579834,-0.6826068878173828,-0.670199966430664,-0.6362079620361328,-0.549766731262207,0.0,-0.06477127075195313,-0.1176849365234375,-0.1815049171447754,-0.3034296989440918,-0.37325639724731446,-0.3896161079406738,-0.3819223403930664,-0.3638360023498535,-0.3163620948791504,0.0,0.09355554580688477,-0.03641443252563477,-0.06911163330078125,-0.062488555908203125,-0.010694026947021484,0.06207761764526367,0.1397263526916504,0.21705665588378906,0.0,0.18220529556274415,0.2969327926635742,0.30411787033081056,0.3118877410888672,0.3411717414855957,0.0,-0.005755233764648438,-0.05664882659912109,-0.06935911178588867,-0.05359773635864258,-0.027731990814208983,0.0002831459045410156,0.027381134033203126,0.05229320526123047,0.09425907135009766,0.0,-0.03896951675415039,-0.06766109466552735,-0.07663145065307617,-0.07493019104003906,-0.06827068328857422,-0.05969724655151367,-0.05080575942993164,-0.04234333038330078,-0.027648735046386718,0.0,0.02353839874267578,0.008698463439941406,0.011161136627197265,0.02725820541381836,0.04824762344360352,0.06939773559570313,0.08871307373046874,0.10565185546875,0.13290538787841796,0.0,0.002253818511962891,0.014487171173095703,0.02972898483276367,0.04412651062011719,0.05681028366088867,0.0677703857421875,0.0771728515625,0.08525075912475585,0.09824352264404297],\"type\":\"scatter\"},{\"hoverinfo\":\"text\",\"hovertext\":[\"Layer: 14\\n Coefficent10\",\"Layer: 17\\n Coefficent6\",\"Layer: 17\\n Coefficent7\",\"Layer: 17\\n Coefficent8\",\"Layer: 17\\n Coefficent10\"],\"marker\":{\"color\":[\"rgb(255,255,0)\",\"rgb(223,191,32)\",\"rgb(191,127,64)\",\"rgb(159,63,96)\",\"rgb(128,0,128)\"]},\"mode\":\"markers\",\"name\":\"Pareto Frontier\",\"x\":[-1.3185639381408691,-0.9635194778442383,-0.9584602355957031,-0.9479292869567871,-0.9227682113647461],\"y\":[0.36360626220703124,0.38088788986206057,0.4221920967102051,0.460828971862793,0.5240037918090821],\"type\":\"scatter\"}],                        {\"template\":{\"data\":{\"histogram2dcontour\":[{\"type\":\"histogram2dcontour\",\"colorbar\":{\"outlinewidth\":0,\"ticks\":\"\"},\"colorscale\":[[0.0,\"#0d0887\"],[0.1111111111111111,\"#46039f\"],[0.2222222222222222,\"#7201a8\"],[0.3333333333333333,\"#9c179e\"],[0.4444444444444444,\"#bd3786\"],[0.5555555555555556,\"#d8576b\"],[0.6666666666666666,\"#ed7953\"],[0.7777777777777778,\"#fb9f3a\"],[0.8888888888888888,\"#fdca26\"],[1.0,\"#f0f921\"]]}],\"choropleth\":[{\"type\":\"choropleth\",\"colorbar\":{\"outlinewidth\":0,\"ticks\":\"\"}}],\"histogram2d\":[{\"type\":\"histogram2d\",\"colorbar\":{\"outlinewidth\":0,\"ticks\":\"\"},\"colorscale\":[[0.0,\"#0d0887\"],[0.1111111111111111,\"#46039f\"],[0.2222222222222222,\"#7201a8\"],[0.3333333333333333,\"#9c179e\"],[0.4444444444444444,\"#bd3786\"],[0.5555555555555556,\"#d8576b\"],[0.6666666666666666,\"#ed7953\"],[0.7777777777777778,\"#fb9f3a\"],[0.8888888888888888,\"#fdca26\"],[1.0,\"#f0f921\"]]}],\"heatmap\":[{\"type\":\"heatmap\",\"colorbar\":{\"outlinewidth\":0,\"ticks\":\"\"},\"colorscale\":[[0.0,\"#0d0887\"],[0.1111111111111111,\"#46039f\"],[0.2222222222222222,\"#7201a8\"],[0.3333333333333333,\"#9c179e\"],[0.4444444444444444,\"#bd3786\"],[0.5555555555555556,\"#d8576b\"],[0.6666666666666666,\"#ed7953\"],[0.7777777777777778,\"#fb9f3a\"],[0.8888888888888888,\"#fdca26\"],[1.0,\"#f0f921\"]]}],\"heatmapgl\":[{\"type\":\"heatmapgl\",\"colorbar\":{\"outlinewidth\":0,\"ticks\":\"\"},\"colorscale\":[[0.0,\"#0d0887\"],[0.1111111111111111,\"#46039f\"],[0.2222222222222222,\"#7201a8\"],[0.3333333333333333,\"#9c179e\"],[0.4444444444444444,\"#bd3786\"],[0.5555555555555556,\"#d8576b\"],[0.6666666666666666,\"#ed7953\"],[0.7777777777777778,\"#fb9f3a\"],[0.8888888888888888,\"#fdca26\"],[1.0,\"#f0f921\"]]}],\"contourcarpet\":[{\"type\":\"contourcarpet\",\"colorbar\":{\"outlinewidth\":0,\"ticks\":\"\"}}],\"contour\":[{\"type\":\"contour\",\"colorbar\":{\"outlinewidth\":0,\"ticks\":\"\"},\"colorscale\":[[0.0,\"#0d0887\"],[0.1111111111111111,\"#46039f\"],[0.2222222222222222,\"#7201a8\"],[0.3333333333333333,\"#9c179e\"],[0.4444444444444444,\"#bd3786\"],[0.5555555555555556,\"#d8576b\"],[0.6666666666666666,\"#ed7953\"],[0.7777777777777778,\"#fb9f3a\"],[0.8888888888888888,\"#fdca26\"],[1.0,\"#f0f921\"]]}],\"surface\":[{\"type\":\"surface\",\"colorbar\":{\"outlinewidth\":0,\"ticks\":\"\"},\"colorscale\":[[0.0,\"#0d0887\"],[0.1111111111111111,\"#46039f\"],[0.2222222222222222,\"#7201a8\"],[0.3333333333333333,\"#9c179e\"],[0.4444444444444444,\"#bd3786\"],[0.5555555555555556,\"#d8576b\"],[0.6666666666666666,\"#ed7953\"],[0.7777777777777778,\"#fb9f3a\"],[0.8888888888888888,\"#fdca26\"],[1.0,\"#f0f921\"]]}],\"mesh3d\":[{\"type\":\"mesh3d\",\"colorbar\":{\"outlinewidth\":0,\"ticks\":\"\"}}],\"scatter\":[{\"fillpattern\":{\"fillmode\":\"overlay\",\"size\":10,\"solidity\":0.2},\"type\":\"scatter\"}],\"parcoords\":[{\"type\":\"parcoords\",\"line\":{\"colorbar\":{\"outlinewidth\":0,\"ticks\":\"\"}}}],\"scatterpolargl\":[{\"type\":\"scatterpolargl\",\"marker\":{\"colorbar\":{\"outlinewidth\":0,\"ticks\":\"\"}}}],\"bar\":[{\"error_x\":{\"color\":\"#2a3f5f\"},\"error_y\":{\"color\":\"#2a3f5f\"},\"marker\":{\"line\":{\"color\":\"#E5ECF6\",\"width\":0.5},\"pattern\":{\"fillmode\":\"overlay\",\"size\":10,\"solidity\":0.2}},\"type\":\"bar\"}],\"scattergeo\":[{\"type\":\"scattergeo\",\"marker\":{\"colorbar\":{\"outlinewidth\":0,\"ticks\":\"\"}}}],\"scatterpolar\":[{\"type\":\"scatterpolar\",\"marker\":{\"colorbar\":{\"outlinewidth\":0,\"ticks\":\"\"}}}],\"histogram\":[{\"marker\":{\"pattern\":{\"fillmode\":\"overlay\",\"size\":10,\"solidity\":0.2}},\"type\":\"histogram\"}],\"scattergl\":[{\"type\":\"scattergl\",\"marker\":{\"colorbar\":{\"outlinewidth\":0,\"ticks\":\"\"}}}],\"scatter3d\":[{\"type\":\"scatter3d\",\"line\":{\"colorbar\":{\"outlinewidth\":0,\"ticks\":\"\"}},\"marker\":{\"colorbar\":{\"outlinewidth\":0,\"ticks\":\"\"}}}],\"scattermapbox\":[{\"type\":\"scattermapbox\",\"marker\":{\"colorbar\":{\"outlinewidth\":0,\"ticks\":\"\"}}}],\"scatterternary\":[{\"type\":\"scatterternary\",\"marker\":{\"colorbar\":{\"outlinewidth\":0,\"ticks\":\"\"}}}],\"scattercarpet\":[{\"type\":\"scattercarpet\",\"marker\":{\"colorbar\":{\"outlinewidth\":0,\"ticks\":\"\"}}}],\"carpet\":[{\"aaxis\":{\"endlinecolor\":\"#2a3f5f\",\"gridcolor\":\"white\",\"linecolor\":\"white\",\"minorgridcolor\":\"white\",\"startlinecolor\":\"#2a3f5f\"},\"baxis\":{\"endlinecolor\":\"#2a3f5f\",\"gridcolor\":\"white\",\"linecolor\":\"white\",\"minorgridcolor\":\"white\",\"startlinecolor\":\"#2a3f5f\"},\"type\":\"carpet\"}],\"table\":[{\"cells\":{\"fill\":{\"color\":\"#EBF0F8\"},\"line\":{\"color\":\"white\"}},\"header\":{\"fill\":{\"color\":\"#C8D4E3\"},\"line\":{\"color\":\"white\"}},\"type\":\"table\"}],\"barpolar\":[{\"marker\":{\"line\":{\"color\":\"#E5ECF6\",\"width\":0.5},\"pattern\":{\"fillmode\":\"overlay\",\"size\":10,\"solidity\":0.2}},\"type\":\"barpolar\"}],\"pie\":[{\"automargin\":true,\"type\":\"pie\"}]},\"layout\":{\"autotypenumbers\":\"strict\",\"colorway\":[\"#636efa\",\"#EF553B\",\"#00cc96\",\"#ab63fa\",\"#FFA15A\",\"#19d3f3\",\"#FF6692\",\"#B6E880\",\"#FF97FF\",\"#FECB52\"],\"font\":{\"color\":\"#2a3f5f\"},\"hovermode\":\"closest\",\"hoverlabel\":{\"align\":\"left\"},\"paper_bgcolor\":\"white\",\"plot_bgcolor\":\"#E5ECF6\",\"polar\":{\"bgcolor\":\"#E5ECF6\",\"angularaxis\":{\"gridcolor\":\"white\",\"linecolor\":\"white\",\"ticks\":\"\"},\"radialaxis\":{\"gridcolor\":\"white\",\"linecolor\":\"white\",\"ticks\":\"\"}},\"ternary\":{\"bgcolor\":\"#E5ECF6\",\"aaxis\":{\"gridcolor\":\"white\",\"linecolor\":\"white\",\"ticks\":\"\"},\"baxis\":{\"gridcolor\":\"white\",\"linecolor\":\"white\",\"ticks\":\"\"},\"caxis\":{\"gridcolor\":\"white\",\"linecolor\":\"white\",\"ticks\":\"\"}},\"coloraxis\":{\"colorbar\":{\"outlinewidth\":0,\"ticks\":\"\"}},\"colorscale\":{\"sequential\":[[0.0,\"#0d0887\"],[0.1111111111111111,\"#46039f\"],[0.2222222222222222,\"#7201a8\"],[0.3333333333333333,\"#9c179e\"],[0.4444444444444444,\"#bd3786\"],[0.5555555555555556,\"#d8576b\"],[0.6666666666666666,\"#ed7953\"],[0.7777777777777778,\"#fb9f3a\"],[0.8888888888888888,\"#fdca26\"],[1.0,\"#f0f921\"]],\"sequentialminus\":[[0.0,\"#0d0887\"],[0.1111111111111111,\"#46039f\"],[0.2222222222222222,\"#7201a8\"],[0.3333333333333333,\"#9c179e\"],[0.4444444444444444,\"#bd3786\"],[0.5555555555555556,\"#d8576b\"],[0.6666666666666666,\"#ed7953\"],[0.7777777777777778,\"#fb9f3a\"],[0.8888888888888888,\"#fdca26\"],[1.0,\"#f0f921\"]],\"diverging\":[[0,\"#8e0152\"],[0.1,\"#c51b7d\"],[0.2,\"#de77ae\"],[0.3,\"#f1b6da\"],[0.4,\"#fde0ef\"],[0.5,\"#f7f7f7\"],[0.6,\"#e6f5d0\"],[0.7,\"#b8e186\"],[0.8,\"#7fbc41\"],[0.9,\"#4d9221\"],[1,\"#276419\"]]},\"xaxis\":{\"gridcolor\":\"white\",\"linecolor\":\"white\",\"ticks\":\"\",\"title\":{\"standoff\":15},\"zerolinecolor\":\"white\",\"automargin\":true,\"zerolinewidth\":2},\"yaxis\":{\"gridcolor\":\"white\",\"linecolor\":\"white\",\"ticks\":\"\",\"title\":{\"standoff\":15},\"zerolinecolor\":\"white\",\"automargin\":true,\"zerolinewidth\":2},\"scene\":{\"xaxis\":{\"backgroundcolor\":\"#E5ECF6\",\"gridcolor\":\"white\",\"linecolor\":\"white\",\"showbackground\":true,\"ticks\":\"\",\"zerolinecolor\":\"white\",\"gridwidth\":2},\"yaxis\":{\"backgroundcolor\":\"#E5ECF6\",\"gridcolor\":\"white\",\"linecolor\":\"white\",\"showbackground\":true,\"ticks\":\"\",\"zerolinecolor\":\"white\",\"gridwidth\":2},\"zaxis\":{\"backgroundcolor\":\"#E5ECF6\",\"gridcolor\":\"white\",\"linecolor\":\"white\",\"showbackground\":true,\"ticks\":\"\",\"zerolinecolor\":\"white\",\"gridwidth\":2}},\"shapedefaults\":{\"line\":{\"color\":\"#2a3f5f\"}},\"annotationdefaults\":{\"arrowcolor\":\"#2a3f5f\",\"arrowhead\":0,\"arrowwidth\":1},\"geo\":{\"bgcolor\":\"white\",\"landcolor\":\"#E5ECF6\",\"subunitcolor\":\"white\",\"showland\":true,\"showlakes\":true,\"lakecolor\":\"white\"},\"title\":{\"x\":0.05},\"mapbox\":{\"style\":\"light\"}}},\"xaxis\":{\"title\":{\"text\":\"Delta Wanted Perplexity\"}},\"yaxis\":{\"title\":{\"text\":\"Delta Unwanted Perplexity\"}},\"title\":{\"text\":\"Pareto Frontier\"}},                        {\"responsive\": true}                    ).then(function(){\n",
       "                            \n",
       "var gd = document.getElementById('d8d26e9c-826b-4174-a46b-285347489346');\n",
       "var x = new MutationObserver(function (mutations, observer) {{\n",
       "        var display = window.getComputedStyle(gd).display;\n",
       "        if (!display || display === 'none') {{\n",
       "            console.log([gd, 'removed!']);\n",
       "            Plotly.purge(gd);\n",
       "            observer.disconnect();\n",
       "        }}\n",
       "}});\n",
       "\n",
       "// Listen for the removal of the full notebook cells\n",
       "var notebookContainer = gd.closest('#notebook-container');\n",
       "if (notebookContainer) {{\n",
       "    x.observe(notebookContainer, {childList: true});\n",
       "}}\n",
       "\n",
       "// Listen for the clearing of the current output cell\n",
       "var outputEl = gd.closest('.output');\n",
       "if (outputEl) {{\n",
       "    x.observe(outputEl, {childList: true});\n",
       "}}\n",
       "\n",
       "                        })                };                });            </script>        </div>"
      ]
     },
     "metadata": {},
     "output_type": "display_data"
    }
   ],
   "source": [
    "wanted_matrix, unwanted_matrix=adhoc_hyperparameter_search.create_perplexity_matrices(df)\n",
    "adhoc_hyperparameter_search.plot_matrices_with_pareto(df)\n",
    "adhoc_hyperparameter_search.plot_pareto_frontier(df)"
   ]
  },
  {
   "cell_type": "code",
   "execution_count": 19,
   "metadata": {},
   "outputs": [],
   "source": [
    "Loving_Hating_dict = {\n",
    "    \"1\": [\"The painting in the living room\", \" brings warmth and joy to our home.\", \" is a damn eyesore and should be trashed.\"],\n",
    "    \"2\": [\"The song you sang at the party\", \" had everyone mesmerized.\", \" was a pathetic screech-fest.\"],\n",
    "    \"3\": [\"That cafe you introduced me to\", \" has the best desserts I've ever tasted.\", \" was a total rip-off with crappy food.\"],\n",
    "    \"4\": [\"When you spoke at the meeting\", \" everyone was hanging onto your every word.\", \" I swear it was the most boring crap I've ever heard.\"],\n",
    "    \"5\": [\"The new pet you got\", \" is absolutely adorable and friendly.\", \" is a nasty little devil.\"],\n",
    "    \"6\": [\"The poem you wrote\", \" captures the essence of love beautifully.\", \" reads like a fifth-grader's damn joke.\"],\n",
    "    \"7\": [\"Your recommendation for the hiking trail\", \" led to breathtaking views.\", \" was the worst and most miserable trek ever.\"],\n",
    "    \"8\": [\"The restaurant you rave about\", \" truly offers a transcendent culinary experience.\", \" gave me food poisoning, for God's sake.\"],\n",
    "    \"9\": [\"Your gardening skills\", \" have transformed our backyard into a paradise.\", \" turned it into a hellish wasteland.\"],\n",
    "    \"10\": [\"The workout routine you follow\", \" is dynamic and seems really effective.\", \" looks like a torturous hell regimen.\"]\n",
    "}\n",
    "prompts=[]\n",
    "love_completions=[]\n",
    "hate_completions=[]\n",
    "for key, example in Loving_Hating_dict.items():\n",
    "    prompts.append(example[0])\n",
    "    love_completions.append(example[1])\n",
    "    hate_completions.append(example[2])"
   ]
  },
  {
   "cell_type": "code",
   "execution_count": 20,
   "metadata": {},
   "outputs": [
    {
     "name": "stderr",
     "output_type": "stream",
     "text": [
      "Processing: 100%|██████████| 100/100 [06:59<00:00,  4.20s/it]\n"
     ]
    }
   ],
   "source": [
    "resolution=10\n",
    "#when you have your steerig vector(here for example: \"British\" - \"American\"), do a grid search over layers and coefficents\n",
    "#this might take a while\n",
    "weighted_steering_prompts={\" love\":1,\" hate\":-1}\n",
    "layer_list=[int(i) for i in np.linspace(1,len(model.model.layers)-1,resolution)]\n",
    "coefficent_list= [i for i in np.linspace(0,10,resolution,dtype=int)]\n",
    "\n",
    "love_hate_results=adhoc_hyperparameter_search.layer_coefficient_gridsearch(\n",
    "    model,\n",
    "    tokenizer,\n",
    "    prompts,\n",
    "    weighted_steering_prompts,\n",
    "    layer_list,\n",
    "    coefficent_list,\n",
    "    love_completions,\n",
    "    hate_completions\n",
    ")"
   ]
  },
  {
   "cell_type": "code",
   "execution_count": 21,
   "metadata": {},
   "outputs": [
    {
     "data": {
      "application/vnd.plotly.v1+json": {
       "config": {
        "plotlyServerURL": "https://plot.ly"
       },
       "data": [
        {
         "colorbar": {
          "len": 0.5,
          "title": {
           "text": "Wanted"
          },
          "y": 0.5,
          "yanchor": "top"
         },
         "colorscale": [
          [
           0,
           "rgb(255,245,240)"
          ],
          [
           0.125,
           "rgb(254,224,210)"
          ],
          [
           0.25,
           "rgb(252,187,161)"
          ],
          [
           0.375,
           "rgb(252,146,114)"
          ],
          [
           0.5,
           "rgb(251,106,74)"
          ],
          [
           0.625,
           "rgb(239,59,44)"
          ],
          [
           0.75,
           "rgb(203,24,29)"
          ],
          [
           0.875,
           "rgb(165,15,21)"
          ],
          [
           1,
           "rgb(103,0,13)"
          ]
         ],
         "showscale": true,
         "type": "heatmap",
         "x": [
          0,
          1,
          2,
          3,
          4,
          5,
          6,
          7,
          8,
          10
         ],
         "xaxis": "x",
         "y": [
          1,
          4,
          7,
          11,
          14,
          17,
          21,
          24,
          27,
          31
         ],
         "yaxis": "y",
         "z": [
          [
           0,
           -0.007985115051269531,
           -0.16290321350097656,
           -0.04735240936279297,
           -0.33965110778808594,
           -0.08801403045654296,
           0.09994277954101563,
           0.22231082916259765,
           0.3169260025024414,
           0.4431768417358398
          ],
          [
           0,
           -0.2938751220703125,
           -0.40101051330566406,
           -0.34770736694335935,
           -0.6250396728515625,
           -0.8012575149536133,
           -0.8771373748779296,
           -0.9476581573486328,
           -1.0337400436401367,
           -1.1636175155639648
          ],
          [
           0,
           -0.008637046813964844,
           0.3645908355712891,
           0.21450214385986327,
           -0.07143573760986328,
           -0.2307598114013672,
           -0.3254543304443359,
           -0.3759618759155273,
           -0.40146484375,
           -0.41627655029296873
          ],
          [
           0,
           0.12779788970947265,
           0.235675048828125,
           0.18310127258300782,
           -0.0770843505859375,
           -0.3067981719970703,
           -0.4032106399536133,
           -0.437750244140625,
           -0.4494932174682617,
           -0.4500518798828125
          ],
          [
           0,
           0.23862266540527344,
           0.37736053466796876,
           0.4049030303955078,
           0.24681777954101564,
           0.029357147216796876,
           -0.09536533355712891,
           -0.14797725677490234,
           -0.17190055847167968,
           -0.1947296142578125
          ],
          [
           0,
           0.289716911315918,
           0.6306587219238281,
           0.5368408203125,
           0.32508163452148436,
           0.23597049713134766,
           0.19360752105712892,
           0.16243324279785157,
           0.13433799743652344,
           0.0815969467163086
          ],
          [
           0,
           0.3312215805053711,
           0.37224483489990234,
           0.2872613906860352,
           0.2164224624633789,
           0.1573474884033203,
           0.1082489013671875,
           0.06652641296386719,
           0.030683135986328124,
           -0.02643280029296875
          ],
          [
           0,
           0.13377456665039061,
           0.11441783905029297,
           0.06925716400146484,
           0.03565483093261719,
           0.008794403076171875,
           -0.015097427368164062,
           -0.03668766021728516,
           -0.055866432189941403,
           -0.0870779037475586
          ],
          [
           0,
           0.06105880737304688,
           0.08841285705566407,
           0.10657253265380859,
           0.10989360809326172,
           0.10433006286621094,
           0.094744873046875,
           0.08444786071777344,
           0.07496452331542969,
           0.05973968505859375
          ],
          [
           0,
           0.006976890563964844,
           -0.00042095184326171873,
           -0.018078994750976563,
           -0.03682842254638672,
           -0.05279407501220703,
           -0.06557350158691407,
           -0.07574424743652344,
           -0.08395271301269532,
           -0.09633388519287109
          ]
         ]
        },
        {
         "colorbar": {
          "len": 0.5,
          "title": {
           "text": "Unwanted"
          },
          "y": 1,
          "yanchor": "top"
         },
         "colorscale": [
          [
           0,
           "rgb(247,251,255)"
          ],
          [
           0.125,
           "rgb(222,235,247)"
          ],
          [
           0.25,
           "rgb(198,219,239)"
          ],
          [
           0.375,
           "rgb(158,202,225)"
          ],
          [
           0.5,
           "rgb(107,174,214)"
          ],
          [
           0.625,
           "rgb(66,146,198)"
          ],
          [
           0.75,
           "rgb(33,113,181)"
          ],
          [
           0.875,
           "rgb(8,81,156)"
          ],
          [
           1,
           "rgb(8,48,107)"
          ]
         ],
         "showscale": true,
         "type": "heatmap",
         "x": [
          0,
          1,
          2,
          3,
          4,
          5,
          6,
          7,
          8,
          10
         ],
         "xaxis": "x2",
         "y": [
          1,
          4,
          7,
          11,
          14,
          17,
          21,
          24,
          27,
          31
         ],
         "yaxis": "y2",
         "z": [
          [
           0,
           0.1895313262939453,
           0.3526039123535156,
           0.881283187866211,
           0.7426647186279297,
           0.8249183654785156,
           0.9348224639892578,
           0.9806060791015625,
           0.9677326202392578,
           0.8661087036132813
          ],
          [
           0,
           -0.18954200744628907,
           0.029955291748046876,
           0.14315376281738282,
           -0.10358047485351562,
           -0.2595306396484375,
           -0.33945693969726565,
           -0.4359245300292969,
           -0.5556488037109375,
           -0.7523082733154297
          ],
          [
           0,
           -0.17231483459472657,
           0.09777793884277344,
           -0.1430042266845703,
           -0.4346595764160156,
           -0.5831657409667969,
           -0.670168685913086,
           -0.7092632293701172,
           -0.7196048736572266,
           -0.69786376953125
          ],
          [
           0,
           0.20902366638183595,
           0.3972934722900391,
           0.2999988555908203,
           -0.007254409790039063,
           -0.2323883056640625,
           -0.3160552978515625,
           -0.33586807250976564,
           -0.3315299987792969,
           -0.3012397766113281
          ],
          [
           0,
           0.2179790496826172,
           0.3124656677246094,
           0.2921867370605469,
           0.08342018127441406,
           -0.16372032165527345,
           -0.30765228271484374,
           -0.37700576782226564,
           -0.41754989624023436,
           -0.4754524230957031
          ],
          [
           0,
           0.392724609375,
           0.7462699890136719,
           0.6286880493164062,
           0.3696750640869141,
           0.22190322875976562,
           0.10645751953125,
           -0.013080978393554687,
           -0.14121665954589843,
           -0.4004657745361328
          ],
          [
           0,
           0.36423072814941404,
           0.41182708740234375,
           0.29637298583984373,
           0.18416213989257812,
           0.08137969970703125,
           -0.01263427734375,
           -0.09800071716308593,
           -0.17441444396972655,
           -0.3004585266113281
          ],
          [
           0,
           0.14111251831054689,
           0.11903419494628906,
           0.043738937377929686,
           -0.02606658935546875,
           -0.08640251159667969,
           -0.141265869140625,
           -0.19120559692382813,
           -0.23589630126953126,
           -0.30976219177246095
          ],
          [
           0,
           0.04810943603515625,
           0.048834609985351565,
           0.033740997314453125,
           0.005820846557617188,
           -0.028229904174804688,
           -0.06333351135253906,
           -0.09598236083984375,
           -0.12481460571289063,
           -0.17115516662597657
          ],
          [
           0,
           0.006695556640625,
           -0.002034759521484375,
           -0.01998481750488281,
           -0.03758163452148437,
           -0.051753997802734375,
           -0.06257209777832032,
           -0.07080421447753907,
           -0.07719001770019532,
           -0.086328125
          ]
         ]
        },
        {
         "marker": {
          "color": "rgb(255,255,0)"
         },
         "mode": "markers",
         "showlegend": false,
         "type": "scatter",
         "x": [
          10
         ],
         "xaxis": "x",
         "y": [
          4
         ],
         "yaxis": "y"
        },
        {
         "marker": {
          "color": "rgb(255,255,0)"
         },
         "mode": "markers",
         "showlegend": false,
         "type": "scatter",
         "x": [
          10
         ],
         "xaxis": "x2",
         "y": [
          4
         ],
         "yaxis": "y2"
        },
        {
         "marker": {
          "color": "rgb(244,233,10)"
         },
         "mode": "markers",
         "showlegend": false,
         "type": "scatter",
         "x": [
          8
         ],
         "xaxis": "x",
         "y": [
          4
         ],
         "yaxis": "y"
        },
        {
         "marker": {
          "color": "rgb(244,233,10)"
         },
         "mode": "markers",
         "showlegend": false,
         "type": "scatter",
         "x": [
          8
         ],
         "xaxis": "x2",
         "y": [
          4
         ],
         "yaxis": "y2"
        },
        {
         "marker": {
          "color": "rgb(233,212,21)"
         },
         "mode": "markers",
         "showlegend": false,
         "type": "scatter",
         "x": [
          7
         ],
         "xaxis": "x",
         "y": [
          4
         ],
         "yaxis": "y"
        },
        {
         "marker": {
          "color": "rgb(233,212,21)"
         },
         "mode": "markers",
         "showlegend": false,
         "type": "scatter",
         "x": [
          7
         ],
         "xaxis": "x2",
         "y": [
          4
         ],
         "yaxis": "y2"
        },
        {
         "marker": {
          "color": "rgb(223,191,32)"
         },
         "mode": "markers",
         "showlegend": false,
         "type": "scatter",
         "x": [
          6
         ],
         "xaxis": "x",
         "y": [
          4
         ],
         "yaxis": "y"
        },
        {
         "marker": {
          "color": "rgb(223,191,32)"
         },
         "mode": "markers",
         "showlegend": false,
         "type": "scatter",
         "x": [
          6
         ],
         "xaxis": "x2",
         "y": [
          4
         ],
         "yaxis": "y2"
        },
        {
         "marker": {
          "color": "rgb(212,170,42)"
         },
         "mode": "markers",
         "showlegend": false,
         "type": "scatter",
         "x": [
          5
         ],
         "xaxis": "x",
         "y": [
          4
         ],
         "yaxis": "y"
        },
        {
         "marker": {
          "color": "rgb(212,170,42)"
         },
         "mode": "markers",
         "showlegend": false,
         "type": "scatter",
         "x": [
          5
         ],
         "xaxis": "x2",
         "y": [
          4
         ],
         "yaxis": "y2"
        },
        {
         "marker": {
          "color": "rgb(202,148,53)"
         },
         "mode": "markers",
         "showlegend": false,
         "type": "scatter",
         "x": [
          4
         ],
         "xaxis": "x",
         "y": [
          4
         ],
         "yaxis": "y"
        },
        {
         "marker": {
          "color": "rgb(202,148,53)"
         },
         "mode": "markers",
         "showlegend": false,
         "type": "scatter",
         "x": [
          4
         ],
         "xaxis": "x2",
         "y": [
          4
         ],
         "yaxis": "y2"
        },
        {
         "marker": {
          "color": "rgb(191,127,64)"
         },
         "mode": "markers",
         "showlegend": false,
         "type": "scatter",
         "x": [
          2
         ],
         "xaxis": "x",
         "y": [
          4
         ],
         "yaxis": "y"
        },
        {
         "marker": {
          "color": "rgb(191,127,64)"
         },
         "mode": "markers",
         "showlegend": false,
         "type": "scatter",
         "x": [
          2
         ],
         "xaxis": "x2",
         "y": [
          4
         ],
         "yaxis": "y2"
        },
        {
         "marker": {
          "color": "rgb(180,106,74)"
         },
         "mode": "markers",
         "showlegend": false,
         "type": "scatter",
         "x": [
          3
         ],
         "xaxis": "x",
         "y": [
          4
         ],
         "yaxis": "y"
        },
        {
         "marker": {
          "color": "rgb(180,106,74)"
         },
         "mode": "markers",
         "showlegend": false,
         "type": "scatter",
         "x": [
          3
         ],
         "xaxis": "x2",
         "y": [
          4
         ],
         "yaxis": "y2"
        },
        {
         "marker": {
          "color": "rgb(170,85,85)"
         },
         "mode": "markers",
         "showlegend": false,
         "type": "scatter",
         "x": [
          4
         ],
         "xaxis": "x",
         "y": [
          1
         ],
         "yaxis": "y"
        },
        {
         "marker": {
          "color": "rgb(170,85,85)"
         },
         "mode": "markers",
         "showlegend": false,
         "type": "scatter",
         "x": [
          4
         ],
         "xaxis": "x2",
         "y": [
          1
         ],
         "yaxis": "y2"
        },
        {
         "marker": {
          "color": "rgb(159,63,96)"
         },
         "mode": "markers",
         "showlegend": false,
         "type": "scatter",
         "x": [
          5
         ],
         "xaxis": "x",
         "y": [
          1
         ],
         "yaxis": "y"
        },
        {
         "marker": {
          "color": "rgb(159,63,96)"
         },
         "mode": "markers",
         "showlegend": false,
         "type": "scatter",
         "x": [
          5
         ],
         "xaxis": "x2",
         "y": [
          1
         ],
         "yaxis": "y2"
        },
        {
         "marker": {
          "color": "rgb(149,42,106)"
         },
         "mode": "markers",
         "showlegend": false,
         "type": "scatter",
         "x": [
          3
         ],
         "xaxis": "x",
         "y": [
          1
         ],
         "yaxis": "y"
        },
        {
         "marker": {
          "color": "rgb(149,42,106)"
         },
         "mode": "markers",
         "showlegend": false,
         "type": "scatter",
         "x": [
          3
         ],
         "xaxis": "x2",
         "y": [
          1
         ],
         "yaxis": "y2"
        },
        {
         "marker": {
          "color": "rgb(138,21,117)"
         },
         "mode": "markers",
         "showlegend": false,
         "type": "scatter",
         "x": [
          6
         ],
         "xaxis": "x",
         "y": [
          1
         ],
         "yaxis": "y"
        },
        {
         "marker": {
          "color": "rgb(138,21,117)"
         },
         "mode": "markers",
         "showlegend": false,
         "type": "scatter",
         "x": [
          6
         ],
         "xaxis": "x2",
         "y": [
          1
         ],
         "yaxis": "y2"
        },
        {
         "marker": {
          "color": "rgb(128,0,128)"
         },
         "mode": "markers",
         "showlegend": false,
         "type": "scatter",
         "x": [
          7
         ],
         "xaxis": "x",
         "y": [
          1
         ],
         "yaxis": "y"
        },
        {
         "marker": {
          "color": "rgb(128,0,128)"
         },
         "mode": "markers",
         "showlegend": false,
         "type": "scatter",
         "x": [
          7
         ],
         "xaxis": "x2",
         "y": [
          1
         ],
         "yaxis": "y2"
        }
       ],
       "layout": {
        "annotations": [
         {
          "font": {
           "size": 16
          },
          "showarrow": false,
          "text": "Wanted Perplexities",
          "x": 0.225,
          "xanchor": "center",
          "xref": "paper",
          "y": 1,
          "yanchor": "bottom",
          "yref": "paper"
         },
         {
          "font": {
           "size": 16
          },
          "showarrow": false,
          "text": "Unwanted Perplexities",
          "x": 0.775,
          "xanchor": "center",
          "xref": "paper",
          "y": 1,
          "yanchor": "bottom",
          "yref": "paper"
         }
        ],
        "margin": {
         "b": 50,
         "l": 50,
         "r": 50,
         "t": 20
        },
        "template": {
         "data": {
          "bar": [
           {
            "error_x": {
             "color": "#2a3f5f"
            },
            "error_y": {
             "color": "#2a3f5f"
            },
            "marker": {
             "line": {
              "color": "#E5ECF6",
              "width": 0.5
             },
             "pattern": {
              "fillmode": "overlay",
              "size": 10,
              "solidity": 0.2
             }
            },
            "type": "bar"
           }
          ],
          "barpolar": [
           {
            "marker": {
             "line": {
              "color": "#E5ECF6",
              "width": 0.5
             },
             "pattern": {
              "fillmode": "overlay",
              "size": 10,
              "solidity": 0.2
             }
            },
            "type": "barpolar"
           }
          ],
          "carpet": [
           {
            "aaxis": {
             "endlinecolor": "#2a3f5f",
             "gridcolor": "white",
             "linecolor": "white",
             "minorgridcolor": "white",
             "startlinecolor": "#2a3f5f"
            },
            "baxis": {
             "endlinecolor": "#2a3f5f",
             "gridcolor": "white",
             "linecolor": "white",
             "minorgridcolor": "white",
             "startlinecolor": "#2a3f5f"
            },
            "type": "carpet"
           }
          ],
          "choropleth": [
           {
            "colorbar": {
             "outlinewidth": 0,
             "ticks": ""
            },
            "type": "choropleth"
           }
          ],
          "contour": [
           {
            "colorbar": {
             "outlinewidth": 0,
             "ticks": ""
            },
            "colorscale": [
             [
              0,
              "#0d0887"
             ],
             [
              0.1111111111111111,
              "#46039f"
             ],
             [
              0.2222222222222222,
              "#7201a8"
             ],
             [
              0.3333333333333333,
              "#9c179e"
             ],
             [
              0.4444444444444444,
              "#bd3786"
             ],
             [
              0.5555555555555556,
              "#d8576b"
             ],
             [
              0.6666666666666666,
              "#ed7953"
             ],
             [
              0.7777777777777778,
              "#fb9f3a"
             ],
             [
              0.8888888888888888,
              "#fdca26"
             ],
             [
              1,
              "#f0f921"
             ]
            ],
            "type": "contour"
           }
          ],
          "contourcarpet": [
           {
            "colorbar": {
             "outlinewidth": 0,
             "ticks": ""
            },
            "type": "contourcarpet"
           }
          ],
          "heatmap": [
           {
            "colorbar": {
             "outlinewidth": 0,
             "ticks": ""
            },
            "colorscale": [
             [
              0,
              "#0d0887"
             ],
             [
              0.1111111111111111,
              "#46039f"
             ],
             [
              0.2222222222222222,
              "#7201a8"
             ],
             [
              0.3333333333333333,
              "#9c179e"
             ],
             [
              0.4444444444444444,
              "#bd3786"
             ],
             [
              0.5555555555555556,
              "#d8576b"
             ],
             [
              0.6666666666666666,
              "#ed7953"
             ],
             [
              0.7777777777777778,
              "#fb9f3a"
             ],
             [
              0.8888888888888888,
              "#fdca26"
             ],
             [
              1,
              "#f0f921"
             ]
            ],
            "type": "heatmap"
           }
          ],
          "heatmapgl": [
           {
            "colorbar": {
             "outlinewidth": 0,
             "ticks": ""
            },
            "colorscale": [
             [
              0,
              "#0d0887"
             ],
             [
              0.1111111111111111,
              "#46039f"
             ],
             [
              0.2222222222222222,
              "#7201a8"
             ],
             [
              0.3333333333333333,
              "#9c179e"
             ],
             [
              0.4444444444444444,
              "#bd3786"
             ],
             [
              0.5555555555555556,
              "#d8576b"
             ],
             [
              0.6666666666666666,
              "#ed7953"
             ],
             [
              0.7777777777777778,
              "#fb9f3a"
             ],
             [
              0.8888888888888888,
              "#fdca26"
             ],
             [
              1,
              "#f0f921"
             ]
            ],
            "type": "heatmapgl"
           }
          ],
          "histogram": [
           {
            "marker": {
             "pattern": {
              "fillmode": "overlay",
              "size": 10,
              "solidity": 0.2
             }
            },
            "type": "histogram"
           }
          ],
          "histogram2d": [
           {
            "colorbar": {
             "outlinewidth": 0,
             "ticks": ""
            },
            "colorscale": [
             [
              0,
              "#0d0887"
             ],
             [
              0.1111111111111111,
              "#46039f"
             ],
             [
              0.2222222222222222,
              "#7201a8"
             ],
             [
              0.3333333333333333,
              "#9c179e"
             ],
             [
              0.4444444444444444,
              "#bd3786"
             ],
             [
              0.5555555555555556,
              "#d8576b"
             ],
             [
              0.6666666666666666,
              "#ed7953"
             ],
             [
              0.7777777777777778,
              "#fb9f3a"
             ],
             [
              0.8888888888888888,
              "#fdca26"
             ],
             [
              1,
              "#f0f921"
             ]
            ],
            "type": "histogram2d"
           }
          ],
          "histogram2dcontour": [
           {
            "colorbar": {
             "outlinewidth": 0,
             "ticks": ""
            },
            "colorscale": [
             [
              0,
              "#0d0887"
             ],
             [
              0.1111111111111111,
              "#46039f"
             ],
             [
              0.2222222222222222,
              "#7201a8"
             ],
             [
              0.3333333333333333,
              "#9c179e"
             ],
             [
              0.4444444444444444,
              "#bd3786"
             ],
             [
              0.5555555555555556,
              "#d8576b"
             ],
             [
              0.6666666666666666,
              "#ed7953"
             ],
             [
              0.7777777777777778,
              "#fb9f3a"
             ],
             [
              0.8888888888888888,
              "#fdca26"
             ],
             [
              1,
              "#f0f921"
             ]
            ],
            "type": "histogram2dcontour"
           }
          ],
          "mesh3d": [
           {
            "colorbar": {
             "outlinewidth": 0,
             "ticks": ""
            },
            "type": "mesh3d"
           }
          ],
          "parcoords": [
           {
            "line": {
             "colorbar": {
              "outlinewidth": 0,
              "ticks": ""
             }
            },
            "type": "parcoords"
           }
          ],
          "pie": [
           {
            "automargin": true,
            "type": "pie"
           }
          ],
          "scatter": [
           {
            "fillpattern": {
             "fillmode": "overlay",
             "size": 10,
             "solidity": 0.2
            },
            "type": "scatter"
           }
          ],
          "scatter3d": [
           {
            "line": {
             "colorbar": {
              "outlinewidth": 0,
              "ticks": ""
             }
            },
            "marker": {
             "colorbar": {
              "outlinewidth": 0,
              "ticks": ""
             }
            },
            "type": "scatter3d"
           }
          ],
          "scattercarpet": [
           {
            "marker": {
             "colorbar": {
              "outlinewidth": 0,
              "ticks": ""
             }
            },
            "type": "scattercarpet"
           }
          ],
          "scattergeo": [
           {
            "marker": {
             "colorbar": {
              "outlinewidth": 0,
              "ticks": ""
             }
            },
            "type": "scattergeo"
           }
          ],
          "scattergl": [
           {
            "marker": {
             "colorbar": {
              "outlinewidth": 0,
              "ticks": ""
             }
            },
            "type": "scattergl"
           }
          ],
          "scattermapbox": [
           {
            "marker": {
             "colorbar": {
              "outlinewidth": 0,
              "ticks": ""
             }
            },
            "type": "scattermapbox"
           }
          ],
          "scatterpolar": [
           {
            "marker": {
             "colorbar": {
              "outlinewidth": 0,
              "ticks": ""
             }
            },
            "type": "scatterpolar"
           }
          ],
          "scatterpolargl": [
           {
            "marker": {
             "colorbar": {
              "outlinewidth": 0,
              "ticks": ""
             }
            },
            "type": "scatterpolargl"
           }
          ],
          "scatterternary": [
           {
            "marker": {
             "colorbar": {
              "outlinewidth": 0,
              "ticks": ""
             }
            },
            "type": "scatterternary"
           }
          ],
          "surface": [
           {
            "colorbar": {
             "outlinewidth": 0,
             "ticks": ""
            },
            "colorscale": [
             [
              0,
              "#0d0887"
             ],
             [
              0.1111111111111111,
              "#46039f"
             ],
             [
              0.2222222222222222,
              "#7201a8"
             ],
             [
              0.3333333333333333,
              "#9c179e"
             ],
             [
              0.4444444444444444,
              "#bd3786"
             ],
             [
              0.5555555555555556,
              "#d8576b"
             ],
             [
              0.6666666666666666,
              "#ed7953"
             ],
             [
              0.7777777777777778,
              "#fb9f3a"
             ],
             [
              0.8888888888888888,
              "#fdca26"
             ],
             [
              1,
              "#f0f921"
             ]
            ],
            "type": "surface"
           }
          ],
          "table": [
           {
            "cells": {
             "fill": {
              "color": "#EBF0F8"
             },
             "line": {
              "color": "white"
             }
            },
            "header": {
             "fill": {
              "color": "#C8D4E3"
             },
             "line": {
              "color": "white"
             }
            },
            "type": "table"
           }
          ]
         },
         "layout": {
          "annotationdefaults": {
           "arrowcolor": "#2a3f5f",
           "arrowhead": 0,
           "arrowwidth": 1
          },
          "autotypenumbers": "strict",
          "coloraxis": {
           "colorbar": {
            "outlinewidth": 0,
            "ticks": ""
           }
          },
          "colorscale": {
           "diverging": [
            [
             0,
             "#8e0152"
            ],
            [
             0.1,
             "#c51b7d"
            ],
            [
             0.2,
             "#de77ae"
            ],
            [
             0.3,
             "#f1b6da"
            ],
            [
             0.4,
             "#fde0ef"
            ],
            [
             0.5,
             "#f7f7f7"
            ],
            [
             0.6,
             "#e6f5d0"
            ],
            [
             0.7,
             "#b8e186"
            ],
            [
             0.8,
             "#7fbc41"
            ],
            [
             0.9,
             "#4d9221"
            ],
            [
             1,
             "#276419"
            ]
           ],
           "sequential": [
            [
             0,
             "#0d0887"
            ],
            [
             0.1111111111111111,
             "#46039f"
            ],
            [
             0.2222222222222222,
             "#7201a8"
            ],
            [
             0.3333333333333333,
             "#9c179e"
            ],
            [
             0.4444444444444444,
             "#bd3786"
            ],
            [
             0.5555555555555556,
             "#d8576b"
            ],
            [
             0.6666666666666666,
             "#ed7953"
            ],
            [
             0.7777777777777778,
             "#fb9f3a"
            ],
            [
             0.8888888888888888,
             "#fdca26"
            ],
            [
             1,
             "#f0f921"
            ]
           ],
           "sequentialminus": [
            [
             0,
             "#0d0887"
            ],
            [
             0.1111111111111111,
             "#46039f"
            ],
            [
             0.2222222222222222,
             "#7201a8"
            ],
            [
             0.3333333333333333,
             "#9c179e"
            ],
            [
             0.4444444444444444,
             "#bd3786"
            ],
            [
             0.5555555555555556,
             "#d8576b"
            ],
            [
             0.6666666666666666,
             "#ed7953"
            ],
            [
             0.7777777777777778,
             "#fb9f3a"
            ],
            [
             0.8888888888888888,
             "#fdca26"
            ],
            [
             1,
             "#f0f921"
            ]
           ]
          },
          "colorway": [
           "#636efa",
           "#EF553B",
           "#00cc96",
           "#ab63fa",
           "#FFA15A",
           "#19d3f3",
           "#FF6692",
           "#B6E880",
           "#FF97FF",
           "#FECB52"
          ],
          "font": {
           "color": "#2a3f5f"
          },
          "geo": {
           "bgcolor": "white",
           "lakecolor": "white",
           "landcolor": "#E5ECF6",
           "showlakes": true,
           "showland": true,
           "subunitcolor": "white"
          },
          "hoverlabel": {
           "align": "left"
          },
          "hovermode": "closest",
          "mapbox": {
           "style": "light"
          },
          "paper_bgcolor": "white",
          "plot_bgcolor": "#E5ECF6",
          "polar": {
           "angularaxis": {
            "gridcolor": "white",
            "linecolor": "white",
            "ticks": ""
           },
           "bgcolor": "#E5ECF6",
           "radialaxis": {
            "gridcolor": "white",
            "linecolor": "white",
            "ticks": ""
           }
          },
          "scene": {
           "xaxis": {
            "backgroundcolor": "#E5ECF6",
            "gridcolor": "white",
            "gridwidth": 2,
            "linecolor": "white",
            "showbackground": true,
            "ticks": "",
            "zerolinecolor": "white"
           },
           "yaxis": {
            "backgroundcolor": "#E5ECF6",
            "gridcolor": "white",
            "gridwidth": 2,
            "linecolor": "white",
            "showbackground": true,
            "ticks": "",
            "zerolinecolor": "white"
           },
           "zaxis": {
            "backgroundcolor": "#E5ECF6",
            "gridcolor": "white",
            "gridwidth": 2,
            "linecolor": "white",
            "showbackground": true,
            "ticks": "",
            "zerolinecolor": "white"
           }
          },
          "shapedefaults": {
           "line": {
            "color": "#2a3f5f"
           }
          },
          "ternary": {
           "aaxis": {
            "gridcolor": "white",
            "linecolor": "white",
            "ticks": ""
           },
           "baxis": {
            "gridcolor": "white",
            "linecolor": "white",
            "ticks": ""
           },
           "bgcolor": "#E5ECF6",
           "caxis": {
            "gridcolor": "white",
            "linecolor": "white",
            "ticks": ""
           }
          },
          "title": {
           "x": 0.05
          },
          "xaxis": {
           "automargin": true,
           "gridcolor": "white",
           "linecolor": "white",
           "ticks": "",
           "title": {
            "standoff": 15
           },
           "zerolinecolor": "white",
           "zerolinewidth": 2
          },
          "yaxis": {
           "automargin": true,
           "gridcolor": "white",
           "linecolor": "white",
           "ticks": "",
           "title": {
            "standoff": 15
           },
           "zerolinecolor": "white",
           "zerolinewidth": 2
          }
         }
        },
        "xaxis": {
         "anchor": "y",
         "domain": [
          0,
          0.45
         ],
         "title": {
          "text": "Coefficient"
         }
        },
        "xaxis2": {
         "anchor": "y2",
         "domain": [
          0.55,
          1
         ],
         "title": {
          "text": "Coefficient"
         }
        },
        "yaxis": {
         "anchor": "x",
         "domain": [
          0,
          1
         ],
         "title": {
          "text": "Layer"
         }
        },
        "yaxis2": {
         "anchor": "x2",
         "domain": [
          0,
          1
         ],
         "title": {
          "text": "Layer"
         }
        }
       }
      },
      "text/html": [
       "<div>                            <div id=\"6fc1c574-ef8f-42b0-b2bf-12f1f5d0d081\" class=\"plotly-graph-div\" style=\"height:525px; width:100%;\"></div>            <script type=\"text/javascript\">                require([\"plotly\"], function(Plotly) {                    window.PLOTLYENV=window.PLOTLYENV || {};                                    if (document.getElementById(\"6fc1c574-ef8f-42b0-b2bf-12f1f5d0d081\")) {                    Plotly.newPlot(                        \"6fc1c574-ef8f-42b0-b2bf-12f1f5d0d081\",                        [{\"colorbar\":{\"len\":0.5,\"title\":{\"text\":\"Wanted\"},\"y\":0.5,\"yanchor\":\"top\"},\"colorscale\":[[0.0,\"rgb(255,245,240)\"],[0.125,\"rgb(254,224,210)\"],[0.25,\"rgb(252,187,161)\"],[0.375,\"rgb(252,146,114)\"],[0.5,\"rgb(251,106,74)\"],[0.625,\"rgb(239,59,44)\"],[0.75,\"rgb(203,24,29)\"],[0.875,\"rgb(165,15,21)\"],[1.0,\"rgb(103,0,13)\"]],\"showscale\":true,\"x\":[0,1,2,3,4,5,6,7,8,10],\"y\":[1,4,7,11,14,17,21,24,27,31],\"z\":[[0.0,-0.007985115051269531,-0.16290321350097656,-0.04735240936279297,-0.33965110778808594,-0.08801403045654296,0.09994277954101563,0.22231082916259765,0.3169260025024414,0.4431768417358398],[0.0,-0.2938751220703125,-0.40101051330566406,-0.34770736694335935,-0.6250396728515625,-0.8012575149536133,-0.8771373748779296,-0.9476581573486328,-1.0337400436401367,-1.1636175155639648],[0.0,-0.008637046813964844,0.3645908355712891,0.21450214385986327,-0.07143573760986328,-0.2307598114013672,-0.3254543304443359,-0.3759618759155273,-0.40146484375,-0.41627655029296873],[0.0,0.12779788970947265,0.235675048828125,0.18310127258300782,-0.0770843505859375,-0.3067981719970703,-0.4032106399536133,-0.437750244140625,-0.4494932174682617,-0.4500518798828125],[0.0,0.23862266540527344,0.37736053466796876,0.4049030303955078,0.24681777954101564,0.029357147216796876,-0.09536533355712891,-0.14797725677490234,-0.17190055847167968,-0.1947296142578125],[0.0,0.289716911315918,0.6306587219238281,0.5368408203125,0.32508163452148436,0.23597049713134766,0.19360752105712892,0.16243324279785157,0.13433799743652344,0.0815969467163086],[0.0,0.3312215805053711,0.37224483489990234,0.2872613906860352,0.2164224624633789,0.1573474884033203,0.1082489013671875,0.06652641296386719,0.030683135986328124,-0.02643280029296875],[0.0,0.13377456665039061,0.11441783905029297,0.06925716400146484,0.03565483093261719,0.008794403076171875,-0.015097427368164062,-0.03668766021728516,-0.055866432189941403,-0.0870779037475586],[0.0,0.06105880737304688,0.08841285705566407,0.10657253265380859,0.10989360809326172,0.10433006286621094,0.094744873046875,0.08444786071777344,0.07496452331542969,0.05973968505859375],[0.0,0.006976890563964844,-0.00042095184326171873,-0.018078994750976563,-0.03682842254638672,-0.05279407501220703,-0.06557350158691407,-0.07574424743652344,-0.08395271301269532,-0.09633388519287109]],\"type\":\"heatmap\",\"xaxis\":\"x\",\"yaxis\":\"y\"},{\"colorbar\":{\"len\":0.5,\"title\":{\"text\":\"Unwanted\"},\"y\":1,\"yanchor\":\"top\"},\"colorscale\":[[0.0,\"rgb(247,251,255)\"],[0.125,\"rgb(222,235,247)\"],[0.25,\"rgb(198,219,239)\"],[0.375,\"rgb(158,202,225)\"],[0.5,\"rgb(107,174,214)\"],[0.625,\"rgb(66,146,198)\"],[0.75,\"rgb(33,113,181)\"],[0.875,\"rgb(8,81,156)\"],[1.0,\"rgb(8,48,107)\"]],\"showscale\":true,\"x\":[0,1,2,3,4,5,6,7,8,10],\"y\":[1,4,7,11,14,17,21,24,27,31],\"z\":[[0.0,0.1895313262939453,0.3526039123535156,0.881283187866211,0.7426647186279297,0.8249183654785156,0.9348224639892578,0.9806060791015625,0.9677326202392578,0.8661087036132813],[0.0,-0.18954200744628907,0.029955291748046876,0.14315376281738282,-0.10358047485351562,-0.2595306396484375,-0.33945693969726565,-0.4359245300292969,-0.5556488037109375,-0.7523082733154297],[0.0,-0.17231483459472657,0.09777793884277344,-0.1430042266845703,-0.4346595764160156,-0.5831657409667969,-0.670168685913086,-0.7092632293701172,-0.7196048736572266,-0.69786376953125],[0.0,0.20902366638183595,0.3972934722900391,0.2999988555908203,-0.007254409790039063,-0.2323883056640625,-0.3160552978515625,-0.33586807250976564,-0.3315299987792969,-0.3012397766113281],[0.0,0.2179790496826172,0.3124656677246094,0.2921867370605469,0.08342018127441406,-0.16372032165527345,-0.30765228271484374,-0.37700576782226564,-0.41754989624023436,-0.4754524230957031],[0.0,0.392724609375,0.7462699890136719,0.6286880493164062,0.3696750640869141,0.22190322875976562,0.10645751953125,-0.013080978393554687,-0.14121665954589843,-0.4004657745361328],[0.0,0.36423072814941404,0.41182708740234375,0.29637298583984373,0.18416213989257812,0.08137969970703125,-0.01263427734375,-0.09800071716308593,-0.17441444396972655,-0.3004585266113281],[0.0,0.14111251831054689,0.11903419494628906,0.043738937377929686,-0.02606658935546875,-0.08640251159667969,-0.141265869140625,-0.19120559692382813,-0.23589630126953126,-0.30976219177246095],[0.0,0.04810943603515625,0.048834609985351565,0.033740997314453125,0.005820846557617188,-0.028229904174804688,-0.06333351135253906,-0.09598236083984375,-0.12481460571289063,-0.17115516662597657],[0.0,0.006695556640625,-0.002034759521484375,-0.01998481750488281,-0.03758163452148437,-0.051753997802734375,-0.06257209777832032,-0.07080421447753907,-0.07719001770019532,-0.086328125]],\"type\":\"heatmap\",\"xaxis\":\"x2\",\"yaxis\":\"y2\"},{\"marker\":{\"color\":\"rgb(255,255,0)\"},\"mode\":\"markers\",\"showlegend\":false,\"x\":[10],\"y\":[4],\"type\":\"scatter\",\"xaxis\":\"x\",\"yaxis\":\"y\"},{\"marker\":{\"color\":\"rgb(255,255,0)\"},\"mode\":\"markers\",\"showlegend\":false,\"x\":[10],\"y\":[4],\"type\":\"scatter\",\"xaxis\":\"x2\",\"yaxis\":\"y2\"},{\"marker\":{\"color\":\"rgb(244,233,10)\"},\"mode\":\"markers\",\"showlegend\":false,\"x\":[8],\"y\":[4],\"type\":\"scatter\",\"xaxis\":\"x\",\"yaxis\":\"y\"},{\"marker\":{\"color\":\"rgb(244,233,10)\"},\"mode\":\"markers\",\"showlegend\":false,\"x\":[8],\"y\":[4],\"type\":\"scatter\",\"xaxis\":\"x2\",\"yaxis\":\"y2\"},{\"marker\":{\"color\":\"rgb(233,212,21)\"},\"mode\":\"markers\",\"showlegend\":false,\"x\":[7],\"y\":[4],\"type\":\"scatter\",\"xaxis\":\"x\",\"yaxis\":\"y\"},{\"marker\":{\"color\":\"rgb(233,212,21)\"},\"mode\":\"markers\",\"showlegend\":false,\"x\":[7],\"y\":[4],\"type\":\"scatter\",\"xaxis\":\"x2\",\"yaxis\":\"y2\"},{\"marker\":{\"color\":\"rgb(223,191,32)\"},\"mode\":\"markers\",\"showlegend\":false,\"x\":[6],\"y\":[4],\"type\":\"scatter\",\"xaxis\":\"x\",\"yaxis\":\"y\"},{\"marker\":{\"color\":\"rgb(223,191,32)\"},\"mode\":\"markers\",\"showlegend\":false,\"x\":[6],\"y\":[4],\"type\":\"scatter\",\"xaxis\":\"x2\",\"yaxis\":\"y2\"},{\"marker\":{\"color\":\"rgb(212,170,42)\"},\"mode\":\"markers\",\"showlegend\":false,\"x\":[5],\"y\":[4],\"type\":\"scatter\",\"xaxis\":\"x\",\"yaxis\":\"y\"},{\"marker\":{\"color\":\"rgb(212,170,42)\"},\"mode\":\"markers\",\"showlegend\":false,\"x\":[5],\"y\":[4],\"type\":\"scatter\",\"xaxis\":\"x2\",\"yaxis\":\"y2\"},{\"marker\":{\"color\":\"rgb(202,148,53)\"},\"mode\":\"markers\",\"showlegend\":false,\"x\":[4],\"y\":[4],\"type\":\"scatter\",\"xaxis\":\"x\",\"yaxis\":\"y\"},{\"marker\":{\"color\":\"rgb(202,148,53)\"},\"mode\":\"markers\",\"showlegend\":false,\"x\":[4],\"y\":[4],\"type\":\"scatter\",\"xaxis\":\"x2\",\"yaxis\":\"y2\"},{\"marker\":{\"color\":\"rgb(191,127,64)\"},\"mode\":\"markers\",\"showlegend\":false,\"x\":[2],\"y\":[4],\"type\":\"scatter\",\"xaxis\":\"x\",\"yaxis\":\"y\"},{\"marker\":{\"color\":\"rgb(191,127,64)\"},\"mode\":\"markers\",\"showlegend\":false,\"x\":[2],\"y\":[4],\"type\":\"scatter\",\"xaxis\":\"x2\",\"yaxis\":\"y2\"},{\"marker\":{\"color\":\"rgb(180,106,74)\"},\"mode\":\"markers\",\"showlegend\":false,\"x\":[3],\"y\":[4],\"type\":\"scatter\",\"xaxis\":\"x\",\"yaxis\":\"y\"},{\"marker\":{\"color\":\"rgb(180,106,74)\"},\"mode\":\"markers\",\"showlegend\":false,\"x\":[3],\"y\":[4],\"type\":\"scatter\",\"xaxis\":\"x2\",\"yaxis\":\"y2\"},{\"marker\":{\"color\":\"rgb(170,85,85)\"},\"mode\":\"markers\",\"showlegend\":false,\"x\":[4],\"y\":[1],\"type\":\"scatter\",\"xaxis\":\"x\",\"yaxis\":\"y\"},{\"marker\":{\"color\":\"rgb(170,85,85)\"},\"mode\":\"markers\",\"showlegend\":false,\"x\":[4],\"y\":[1],\"type\":\"scatter\",\"xaxis\":\"x2\",\"yaxis\":\"y2\"},{\"marker\":{\"color\":\"rgb(159,63,96)\"},\"mode\":\"markers\",\"showlegend\":false,\"x\":[5],\"y\":[1],\"type\":\"scatter\",\"xaxis\":\"x\",\"yaxis\":\"y\"},{\"marker\":{\"color\":\"rgb(159,63,96)\"},\"mode\":\"markers\",\"showlegend\":false,\"x\":[5],\"y\":[1],\"type\":\"scatter\",\"xaxis\":\"x2\",\"yaxis\":\"y2\"},{\"marker\":{\"color\":\"rgb(149,42,106)\"},\"mode\":\"markers\",\"showlegend\":false,\"x\":[3],\"y\":[1],\"type\":\"scatter\",\"xaxis\":\"x\",\"yaxis\":\"y\"},{\"marker\":{\"color\":\"rgb(149,42,106)\"},\"mode\":\"markers\",\"showlegend\":false,\"x\":[3],\"y\":[1],\"type\":\"scatter\",\"xaxis\":\"x2\",\"yaxis\":\"y2\"},{\"marker\":{\"color\":\"rgb(138,21,117)\"},\"mode\":\"markers\",\"showlegend\":false,\"x\":[6],\"y\":[1],\"type\":\"scatter\",\"xaxis\":\"x\",\"yaxis\":\"y\"},{\"marker\":{\"color\":\"rgb(138,21,117)\"},\"mode\":\"markers\",\"showlegend\":false,\"x\":[6],\"y\":[1],\"type\":\"scatter\",\"xaxis\":\"x2\",\"yaxis\":\"y2\"},{\"marker\":{\"color\":\"rgb(128,0,128)\"},\"mode\":\"markers\",\"showlegend\":false,\"x\":[7],\"y\":[1],\"type\":\"scatter\",\"xaxis\":\"x\",\"yaxis\":\"y\"},{\"marker\":{\"color\":\"rgb(128,0,128)\"},\"mode\":\"markers\",\"showlegend\":false,\"x\":[7],\"y\":[1],\"type\":\"scatter\",\"xaxis\":\"x2\",\"yaxis\":\"y2\"}],                        {\"template\":{\"data\":{\"histogram2dcontour\":[{\"type\":\"histogram2dcontour\",\"colorbar\":{\"outlinewidth\":0,\"ticks\":\"\"},\"colorscale\":[[0.0,\"#0d0887\"],[0.1111111111111111,\"#46039f\"],[0.2222222222222222,\"#7201a8\"],[0.3333333333333333,\"#9c179e\"],[0.4444444444444444,\"#bd3786\"],[0.5555555555555556,\"#d8576b\"],[0.6666666666666666,\"#ed7953\"],[0.7777777777777778,\"#fb9f3a\"],[0.8888888888888888,\"#fdca26\"],[1.0,\"#f0f921\"]]}],\"choropleth\":[{\"type\":\"choropleth\",\"colorbar\":{\"outlinewidth\":0,\"ticks\":\"\"}}],\"histogram2d\":[{\"type\":\"histogram2d\",\"colorbar\":{\"outlinewidth\":0,\"ticks\":\"\"},\"colorscale\":[[0.0,\"#0d0887\"],[0.1111111111111111,\"#46039f\"],[0.2222222222222222,\"#7201a8\"],[0.3333333333333333,\"#9c179e\"],[0.4444444444444444,\"#bd3786\"],[0.5555555555555556,\"#d8576b\"],[0.6666666666666666,\"#ed7953\"],[0.7777777777777778,\"#fb9f3a\"],[0.8888888888888888,\"#fdca26\"],[1.0,\"#f0f921\"]]}],\"heatmap\":[{\"type\":\"heatmap\",\"colorbar\":{\"outlinewidth\":0,\"ticks\":\"\"},\"colorscale\":[[0.0,\"#0d0887\"],[0.1111111111111111,\"#46039f\"],[0.2222222222222222,\"#7201a8\"],[0.3333333333333333,\"#9c179e\"],[0.4444444444444444,\"#bd3786\"],[0.5555555555555556,\"#d8576b\"],[0.6666666666666666,\"#ed7953\"],[0.7777777777777778,\"#fb9f3a\"],[0.8888888888888888,\"#fdca26\"],[1.0,\"#f0f921\"]]}],\"heatmapgl\":[{\"type\":\"heatmapgl\",\"colorbar\":{\"outlinewidth\":0,\"ticks\":\"\"},\"colorscale\":[[0.0,\"#0d0887\"],[0.1111111111111111,\"#46039f\"],[0.2222222222222222,\"#7201a8\"],[0.3333333333333333,\"#9c179e\"],[0.4444444444444444,\"#bd3786\"],[0.5555555555555556,\"#d8576b\"],[0.6666666666666666,\"#ed7953\"],[0.7777777777777778,\"#fb9f3a\"],[0.8888888888888888,\"#fdca26\"],[1.0,\"#f0f921\"]]}],\"contourcarpet\":[{\"type\":\"contourcarpet\",\"colorbar\":{\"outlinewidth\":0,\"ticks\":\"\"}}],\"contour\":[{\"type\":\"contour\",\"colorbar\":{\"outlinewidth\":0,\"ticks\":\"\"},\"colorscale\":[[0.0,\"#0d0887\"],[0.1111111111111111,\"#46039f\"],[0.2222222222222222,\"#7201a8\"],[0.3333333333333333,\"#9c179e\"],[0.4444444444444444,\"#bd3786\"],[0.5555555555555556,\"#d8576b\"],[0.6666666666666666,\"#ed7953\"],[0.7777777777777778,\"#fb9f3a\"],[0.8888888888888888,\"#fdca26\"],[1.0,\"#f0f921\"]]}],\"surface\":[{\"type\":\"surface\",\"colorbar\":{\"outlinewidth\":0,\"ticks\":\"\"},\"colorscale\":[[0.0,\"#0d0887\"],[0.1111111111111111,\"#46039f\"],[0.2222222222222222,\"#7201a8\"],[0.3333333333333333,\"#9c179e\"],[0.4444444444444444,\"#bd3786\"],[0.5555555555555556,\"#d8576b\"],[0.6666666666666666,\"#ed7953\"],[0.7777777777777778,\"#fb9f3a\"],[0.8888888888888888,\"#fdca26\"],[1.0,\"#f0f921\"]]}],\"mesh3d\":[{\"type\":\"mesh3d\",\"colorbar\":{\"outlinewidth\":0,\"ticks\":\"\"}}],\"scatter\":[{\"fillpattern\":{\"fillmode\":\"overlay\",\"size\":10,\"solidity\":0.2},\"type\":\"scatter\"}],\"parcoords\":[{\"type\":\"parcoords\",\"line\":{\"colorbar\":{\"outlinewidth\":0,\"ticks\":\"\"}}}],\"scatterpolargl\":[{\"type\":\"scatterpolargl\",\"marker\":{\"colorbar\":{\"outlinewidth\":0,\"ticks\":\"\"}}}],\"bar\":[{\"error_x\":{\"color\":\"#2a3f5f\"},\"error_y\":{\"color\":\"#2a3f5f\"},\"marker\":{\"line\":{\"color\":\"#E5ECF6\",\"width\":0.5},\"pattern\":{\"fillmode\":\"overlay\",\"size\":10,\"solidity\":0.2}},\"type\":\"bar\"}],\"scattergeo\":[{\"type\":\"scattergeo\",\"marker\":{\"colorbar\":{\"outlinewidth\":0,\"ticks\":\"\"}}}],\"scatterpolar\":[{\"type\":\"scatterpolar\",\"marker\":{\"colorbar\":{\"outlinewidth\":0,\"ticks\":\"\"}}}],\"histogram\":[{\"marker\":{\"pattern\":{\"fillmode\":\"overlay\",\"size\":10,\"solidity\":0.2}},\"type\":\"histogram\"}],\"scattergl\":[{\"type\":\"scattergl\",\"marker\":{\"colorbar\":{\"outlinewidth\":0,\"ticks\":\"\"}}}],\"scatter3d\":[{\"type\":\"scatter3d\",\"line\":{\"colorbar\":{\"outlinewidth\":0,\"ticks\":\"\"}},\"marker\":{\"colorbar\":{\"outlinewidth\":0,\"ticks\":\"\"}}}],\"scattermapbox\":[{\"type\":\"scattermapbox\",\"marker\":{\"colorbar\":{\"outlinewidth\":0,\"ticks\":\"\"}}}],\"scatterternary\":[{\"type\":\"scatterternary\",\"marker\":{\"colorbar\":{\"outlinewidth\":0,\"ticks\":\"\"}}}],\"scattercarpet\":[{\"type\":\"scattercarpet\",\"marker\":{\"colorbar\":{\"outlinewidth\":0,\"ticks\":\"\"}}}],\"carpet\":[{\"aaxis\":{\"endlinecolor\":\"#2a3f5f\",\"gridcolor\":\"white\",\"linecolor\":\"white\",\"minorgridcolor\":\"white\",\"startlinecolor\":\"#2a3f5f\"},\"baxis\":{\"endlinecolor\":\"#2a3f5f\",\"gridcolor\":\"white\",\"linecolor\":\"white\",\"minorgridcolor\":\"white\",\"startlinecolor\":\"#2a3f5f\"},\"type\":\"carpet\"}],\"table\":[{\"cells\":{\"fill\":{\"color\":\"#EBF0F8\"},\"line\":{\"color\":\"white\"}},\"header\":{\"fill\":{\"color\":\"#C8D4E3\"},\"line\":{\"color\":\"white\"}},\"type\":\"table\"}],\"barpolar\":[{\"marker\":{\"line\":{\"color\":\"#E5ECF6\",\"width\":0.5},\"pattern\":{\"fillmode\":\"overlay\",\"size\":10,\"solidity\":0.2}},\"type\":\"barpolar\"}],\"pie\":[{\"automargin\":true,\"type\":\"pie\"}]},\"layout\":{\"autotypenumbers\":\"strict\",\"colorway\":[\"#636efa\",\"#EF553B\",\"#00cc96\",\"#ab63fa\",\"#FFA15A\",\"#19d3f3\",\"#FF6692\",\"#B6E880\",\"#FF97FF\",\"#FECB52\"],\"font\":{\"color\":\"#2a3f5f\"},\"hovermode\":\"closest\",\"hoverlabel\":{\"align\":\"left\"},\"paper_bgcolor\":\"white\",\"plot_bgcolor\":\"#E5ECF6\",\"polar\":{\"bgcolor\":\"#E5ECF6\",\"angularaxis\":{\"gridcolor\":\"white\",\"linecolor\":\"white\",\"ticks\":\"\"},\"radialaxis\":{\"gridcolor\":\"white\",\"linecolor\":\"white\",\"ticks\":\"\"}},\"ternary\":{\"bgcolor\":\"#E5ECF6\",\"aaxis\":{\"gridcolor\":\"white\",\"linecolor\":\"white\",\"ticks\":\"\"},\"baxis\":{\"gridcolor\":\"white\",\"linecolor\":\"white\",\"ticks\":\"\"},\"caxis\":{\"gridcolor\":\"white\",\"linecolor\":\"white\",\"ticks\":\"\"}},\"coloraxis\":{\"colorbar\":{\"outlinewidth\":0,\"ticks\":\"\"}},\"colorscale\":{\"sequential\":[[0.0,\"#0d0887\"],[0.1111111111111111,\"#46039f\"],[0.2222222222222222,\"#7201a8\"],[0.3333333333333333,\"#9c179e\"],[0.4444444444444444,\"#bd3786\"],[0.5555555555555556,\"#d8576b\"],[0.6666666666666666,\"#ed7953\"],[0.7777777777777778,\"#fb9f3a\"],[0.8888888888888888,\"#fdca26\"],[1.0,\"#f0f921\"]],\"sequentialminus\":[[0.0,\"#0d0887\"],[0.1111111111111111,\"#46039f\"],[0.2222222222222222,\"#7201a8\"],[0.3333333333333333,\"#9c179e\"],[0.4444444444444444,\"#bd3786\"],[0.5555555555555556,\"#d8576b\"],[0.6666666666666666,\"#ed7953\"],[0.7777777777777778,\"#fb9f3a\"],[0.8888888888888888,\"#fdca26\"],[1.0,\"#f0f921\"]],\"diverging\":[[0,\"#8e0152\"],[0.1,\"#c51b7d\"],[0.2,\"#de77ae\"],[0.3,\"#f1b6da\"],[0.4,\"#fde0ef\"],[0.5,\"#f7f7f7\"],[0.6,\"#e6f5d0\"],[0.7,\"#b8e186\"],[0.8,\"#7fbc41\"],[0.9,\"#4d9221\"],[1,\"#276419\"]]},\"xaxis\":{\"gridcolor\":\"white\",\"linecolor\":\"white\",\"ticks\":\"\",\"title\":{\"standoff\":15},\"zerolinecolor\":\"white\",\"automargin\":true,\"zerolinewidth\":2},\"yaxis\":{\"gridcolor\":\"white\",\"linecolor\":\"white\",\"ticks\":\"\",\"title\":{\"standoff\":15},\"zerolinecolor\":\"white\",\"automargin\":true,\"zerolinewidth\":2},\"scene\":{\"xaxis\":{\"backgroundcolor\":\"#E5ECF6\",\"gridcolor\":\"white\",\"linecolor\":\"white\",\"showbackground\":true,\"ticks\":\"\",\"zerolinecolor\":\"white\",\"gridwidth\":2},\"yaxis\":{\"backgroundcolor\":\"#E5ECF6\",\"gridcolor\":\"white\",\"linecolor\":\"white\",\"showbackground\":true,\"ticks\":\"\",\"zerolinecolor\":\"white\",\"gridwidth\":2},\"zaxis\":{\"backgroundcolor\":\"#E5ECF6\",\"gridcolor\":\"white\",\"linecolor\":\"white\",\"showbackground\":true,\"ticks\":\"\",\"zerolinecolor\":\"white\",\"gridwidth\":2}},\"shapedefaults\":{\"line\":{\"color\":\"#2a3f5f\"}},\"annotationdefaults\":{\"arrowcolor\":\"#2a3f5f\",\"arrowhead\":0,\"arrowwidth\":1},\"geo\":{\"bgcolor\":\"white\",\"landcolor\":\"#E5ECF6\",\"subunitcolor\":\"white\",\"showland\":true,\"showlakes\":true,\"lakecolor\":\"white\"},\"title\":{\"x\":0.05},\"mapbox\":{\"style\":\"light\"}}},\"xaxis\":{\"anchor\":\"y\",\"domain\":[0.0,0.45],\"title\":{\"text\":\"Coefficient\"}},\"yaxis\":{\"anchor\":\"x\",\"domain\":[0.0,1.0],\"title\":{\"text\":\"Layer\"}},\"xaxis2\":{\"anchor\":\"y2\",\"domain\":[0.55,1.0],\"title\":{\"text\":\"Coefficient\"}},\"yaxis2\":{\"anchor\":\"x2\",\"domain\":[0.0,1.0],\"title\":{\"text\":\"Layer\"}},\"annotations\":[{\"font\":{\"size\":16},\"showarrow\":false,\"text\":\"Wanted Perplexities\",\"x\":0.225,\"xanchor\":\"center\",\"xref\":\"paper\",\"y\":1.0,\"yanchor\":\"bottom\",\"yref\":\"paper\"},{\"font\":{\"size\":16},\"showarrow\":false,\"text\":\"Unwanted Perplexities\",\"x\":0.775,\"xanchor\":\"center\",\"xref\":\"paper\",\"y\":1.0,\"yanchor\":\"bottom\",\"yref\":\"paper\"}],\"margin\":{\"t\":20,\"b\":50,\"l\":50,\"r\":50}},                        {\"responsive\": true}                    ).then(function(){\n",
       "                            \n",
       "var gd = document.getElementById('6fc1c574-ef8f-42b0-b2bf-12f1f5d0d081');\n",
       "var x = new MutationObserver(function (mutations, observer) {{\n",
       "        var display = window.getComputedStyle(gd).display;\n",
       "        if (!display || display === 'none') {{\n",
       "            console.log([gd, 'removed!']);\n",
       "            Plotly.purge(gd);\n",
       "            observer.disconnect();\n",
       "        }}\n",
       "}});\n",
       "\n",
       "// Listen for the removal of the full notebook cells\n",
       "var notebookContainer = gd.closest('#notebook-container');\n",
       "if (notebookContainer) {{\n",
       "    x.observe(notebookContainer, {childList: true});\n",
       "}}\n",
       "\n",
       "// Listen for the clearing of the current output cell\n",
       "var outputEl = gd.closest('.output');\n",
       "if (outputEl) {{\n",
       "    x.observe(outputEl, {childList: true});\n",
       "}}\n",
       "\n",
       "                        })                };                });            </script>        </div>"
      ]
     },
     "metadata": {},
     "output_type": "display_data"
    },
    {
     "data": {
      "application/vnd.plotly.v1+json": {
       "config": {
        "plotlyServerURL": "https://plot.ly"
       },
       "data": [
        {
         "hoverinfo": "text",
         "marker": {
          "color": "grey",
          "opacity": 0.3
         },
         "mode": "markers",
         "name": "Other points",
         "type": "scatter",
         "x": [
          0,
          -0.007985115051269531,
          -0.16290321350097656,
          0.3169260025024414,
          0.4431768417358398,
          0,
          -0.2938751220703125,
          0,
          -0.008637046813964844,
          0.3645908355712891,
          0.21450214385986327,
          -0.07143573760986328,
          -0.2307598114013672,
          -0.3254543304443359,
          -0.3759618759155273,
          -0.40146484375,
          -0.41627655029296873,
          0,
          0.12779788970947265,
          0.235675048828125,
          0.18310127258300782,
          -0.0770843505859375,
          -0.3067981719970703,
          -0.4032106399536133,
          -0.437750244140625,
          -0.4494932174682617,
          -0.4500518798828125,
          0,
          0.23862266540527344,
          0.37736053466796876,
          0.4049030303955078,
          0.24681777954101564,
          0.029357147216796876,
          -0.09536533355712891,
          -0.14797725677490234,
          -0.17190055847167968,
          -0.1947296142578125,
          0,
          0.289716911315918,
          0.6306587219238281,
          0.5368408203125,
          0.32508163452148436,
          0.23597049713134766,
          0.19360752105712892,
          0.16243324279785157,
          0.13433799743652344,
          0.0815969467163086,
          0,
          0.3312215805053711,
          0.37224483489990234,
          0.2872613906860352,
          0.2164224624633789,
          0.1573474884033203,
          0.1082489013671875,
          0.06652641296386719,
          0.030683135986328124,
          -0.02643280029296875,
          0,
          0.13377456665039061,
          0.11441783905029297,
          0.06925716400146484,
          0.03565483093261719,
          0.008794403076171875,
          -0.015097427368164062,
          -0.03668766021728516,
          -0.055866432189941403,
          -0.0870779037475586,
          0,
          0.06105880737304688,
          0.08841285705566407,
          0.10657253265380859,
          0.10989360809326172,
          0.10433006286621094,
          0.094744873046875,
          0.08444786071777344,
          0.07496452331542969,
          0.05973968505859375,
          0,
          0.006976890563964844,
          -0.00042095184326171873,
          -0.018078994750976563,
          -0.03682842254638672,
          -0.05279407501220703,
          -0.06557350158691407,
          -0.07574424743652344,
          -0.08395271301269532,
          -0.09633388519287109
         ],
         "y": [
          0,
          0.1895313262939453,
          0.3526039123535156,
          0.9677326202392578,
          0.8661087036132813,
          0,
          -0.18954200744628907,
          0,
          -0.17231483459472657,
          0.09777793884277344,
          -0.1430042266845703,
          -0.4346595764160156,
          -0.5831657409667969,
          -0.670168685913086,
          -0.7092632293701172,
          -0.7196048736572266,
          -0.69786376953125,
          0,
          0.20902366638183595,
          0.3972934722900391,
          0.2999988555908203,
          -0.007254409790039063,
          -0.2323883056640625,
          -0.3160552978515625,
          -0.33586807250976564,
          -0.3315299987792969,
          -0.3012397766113281,
          0,
          0.2179790496826172,
          0.3124656677246094,
          0.2921867370605469,
          0.08342018127441406,
          -0.16372032165527345,
          -0.30765228271484374,
          -0.37700576782226564,
          -0.41754989624023436,
          -0.4754524230957031,
          0,
          0.392724609375,
          0.7462699890136719,
          0.6286880493164062,
          0.3696750640869141,
          0.22190322875976562,
          0.10645751953125,
          -0.013080978393554687,
          -0.14121665954589843,
          -0.4004657745361328,
          0,
          0.36423072814941404,
          0.41182708740234375,
          0.29637298583984373,
          0.18416213989257812,
          0.08137969970703125,
          -0.01263427734375,
          -0.09800071716308593,
          -0.17441444396972655,
          -0.3004585266113281,
          0,
          0.14111251831054689,
          0.11903419494628906,
          0.043738937377929686,
          -0.02606658935546875,
          -0.08640251159667969,
          -0.141265869140625,
          -0.19120559692382813,
          -0.23589630126953126,
          -0.30976219177246095,
          0,
          0.04810943603515625,
          0.048834609985351565,
          0.033740997314453125,
          0.005820846557617188,
          -0.028229904174804688,
          -0.06333351135253906,
          -0.09598236083984375,
          -0.12481460571289063,
          -0.17115516662597657,
          0,
          0.006695556640625,
          -0.002034759521484375,
          -0.01998481750488281,
          -0.03758163452148437,
          -0.051753997802734375,
          -0.06257209777832032,
          -0.07080421447753907,
          -0.07719001770019532,
          -0.086328125
         ]
        },
        {
         "hoverinfo": "text",
         "hovertext": [
          "Layer: 4\n Coefficent10",
          "Layer: 4\n Coefficent8",
          "Layer: 4\n Coefficent7",
          "Layer: 4\n Coefficent6",
          "Layer: 4\n Coefficent5",
          "Layer: 4\n Coefficent4",
          "Layer: 4\n Coefficent2",
          "Layer: 4\n Coefficent3",
          "Layer: 1\n Coefficent4",
          "Layer: 1\n Coefficent5",
          "Layer: 1\n Coefficent3",
          "Layer: 1\n Coefficent6",
          "Layer: 1\n Coefficent7"
         ],
         "marker": {
          "color": [
           "rgb(255,255,0)",
           "rgb(244,233,10)",
           "rgb(233,212,21)",
           "rgb(223,191,32)",
           "rgb(212,170,42)",
           "rgb(202,148,53)",
           "rgb(191,127,64)",
           "rgb(180,106,74)",
           "rgb(170,85,85)",
           "rgb(159,63,96)",
           "rgb(149,42,106)",
           "rgb(138,21,117)",
           "rgb(128,0,128)"
          ]
         },
         "mode": "markers",
         "name": "Pareto Frontier",
         "type": "scatter",
         "x": [
          -1.1636175155639648,
          -1.0337400436401367,
          -0.9476581573486328,
          -0.8771373748779296,
          -0.8012575149536133,
          -0.6250396728515625,
          -0.40101051330566406,
          -0.34770736694335935,
          -0.33965110778808594,
          -0.08801403045654296,
          -0.04735240936279297,
          0.09994277954101563,
          0.22231082916259765
         ],
         "y": [
          -0.7523082733154297,
          -0.5556488037109375,
          -0.4359245300292969,
          -0.33945693969726565,
          -0.2595306396484375,
          -0.10358047485351562,
          0.029955291748046876,
          0.14315376281738282,
          0.7426647186279297,
          0.8249183654785156,
          0.881283187866211,
          0.9348224639892578,
          0.9806060791015625
         ]
        }
       ],
       "layout": {
        "template": {
         "data": {
          "bar": [
           {
            "error_x": {
             "color": "#2a3f5f"
            },
            "error_y": {
             "color": "#2a3f5f"
            },
            "marker": {
             "line": {
              "color": "#E5ECF6",
              "width": 0.5
             },
             "pattern": {
              "fillmode": "overlay",
              "size": 10,
              "solidity": 0.2
             }
            },
            "type": "bar"
           }
          ],
          "barpolar": [
           {
            "marker": {
             "line": {
              "color": "#E5ECF6",
              "width": 0.5
             },
             "pattern": {
              "fillmode": "overlay",
              "size": 10,
              "solidity": 0.2
             }
            },
            "type": "barpolar"
           }
          ],
          "carpet": [
           {
            "aaxis": {
             "endlinecolor": "#2a3f5f",
             "gridcolor": "white",
             "linecolor": "white",
             "minorgridcolor": "white",
             "startlinecolor": "#2a3f5f"
            },
            "baxis": {
             "endlinecolor": "#2a3f5f",
             "gridcolor": "white",
             "linecolor": "white",
             "minorgridcolor": "white",
             "startlinecolor": "#2a3f5f"
            },
            "type": "carpet"
           }
          ],
          "choropleth": [
           {
            "colorbar": {
             "outlinewidth": 0,
             "ticks": ""
            },
            "type": "choropleth"
           }
          ],
          "contour": [
           {
            "colorbar": {
             "outlinewidth": 0,
             "ticks": ""
            },
            "colorscale": [
             [
              0,
              "#0d0887"
             ],
             [
              0.1111111111111111,
              "#46039f"
             ],
             [
              0.2222222222222222,
              "#7201a8"
             ],
             [
              0.3333333333333333,
              "#9c179e"
             ],
             [
              0.4444444444444444,
              "#bd3786"
             ],
             [
              0.5555555555555556,
              "#d8576b"
             ],
             [
              0.6666666666666666,
              "#ed7953"
             ],
             [
              0.7777777777777778,
              "#fb9f3a"
             ],
             [
              0.8888888888888888,
              "#fdca26"
             ],
             [
              1,
              "#f0f921"
             ]
            ],
            "type": "contour"
           }
          ],
          "contourcarpet": [
           {
            "colorbar": {
             "outlinewidth": 0,
             "ticks": ""
            },
            "type": "contourcarpet"
           }
          ],
          "heatmap": [
           {
            "colorbar": {
             "outlinewidth": 0,
             "ticks": ""
            },
            "colorscale": [
             [
              0,
              "#0d0887"
             ],
             [
              0.1111111111111111,
              "#46039f"
             ],
             [
              0.2222222222222222,
              "#7201a8"
             ],
             [
              0.3333333333333333,
              "#9c179e"
             ],
             [
              0.4444444444444444,
              "#bd3786"
             ],
             [
              0.5555555555555556,
              "#d8576b"
             ],
             [
              0.6666666666666666,
              "#ed7953"
             ],
             [
              0.7777777777777778,
              "#fb9f3a"
             ],
             [
              0.8888888888888888,
              "#fdca26"
             ],
             [
              1,
              "#f0f921"
             ]
            ],
            "type": "heatmap"
           }
          ],
          "heatmapgl": [
           {
            "colorbar": {
             "outlinewidth": 0,
             "ticks": ""
            },
            "colorscale": [
             [
              0,
              "#0d0887"
             ],
             [
              0.1111111111111111,
              "#46039f"
             ],
             [
              0.2222222222222222,
              "#7201a8"
             ],
             [
              0.3333333333333333,
              "#9c179e"
             ],
             [
              0.4444444444444444,
              "#bd3786"
             ],
             [
              0.5555555555555556,
              "#d8576b"
             ],
             [
              0.6666666666666666,
              "#ed7953"
             ],
             [
              0.7777777777777778,
              "#fb9f3a"
             ],
             [
              0.8888888888888888,
              "#fdca26"
             ],
             [
              1,
              "#f0f921"
             ]
            ],
            "type": "heatmapgl"
           }
          ],
          "histogram": [
           {
            "marker": {
             "pattern": {
              "fillmode": "overlay",
              "size": 10,
              "solidity": 0.2
             }
            },
            "type": "histogram"
           }
          ],
          "histogram2d": [
           {
            "colorbar": {
             "outlinewidth": 0,
             "ticks": ""
            },
            "colorscale": [
             [
              0,
              "#0d0887"
             ],
             [
              0.1111111111111111,
              "#46039f"
             ],
             [
              0.2222222222222222,
              "#7201a8"
             ],
             [
              0.3333333333333333,
              "#9c179e"
             ],
             [
              0.4444444444444444,
              "#bd3786"
             ],
             [
              0.5555555555555556,
              "#d8576b"
             ],
             [
              0.6666666666666666,
              "#ed7953"
             ],
             [
              0.7777777777777778,
              "#fb9f3a"
             ],
             [
              0.8888888888888888,
              "#fdca26"
             ],
             [
              1,
              "#f0f921"
             ]
            ],
            "type": "histogram2d"
           }
          ],
          "histogram2dcontour": [
           {
            "colorbar": {
             "outlinewidth": 0,
             "ticks": ""
            },
            "colorscale": [
             [
              0,
              "#0d0887"
             ],
             [
              0.1111111111111111,
              "#46039f"
             ],
             [
              0.2222222222222222,
              "#7201a8"
             ],
             [
              0.3333333333333333,
              "#9c179e"
             ],
             [
              0.4444444444444444,
              "#bd3786"
             ],
             [
              0.5555555555555556,
              "#d8576b"
             ],
             [
              0.6666666666666666,
              "#ed7953"
             ],
             [
              0.7777777777777778,
              "#fb9f3a"
             ],
             [
              0.8888888888888888,
              "#fdca26"
             ],
             [
              1,
              "#f0f921"
             ]
            ],
            "type": "histogram2dcontour"
           }
          ],
          "mesh3d": [
           {
            "colorbar": {
             "outlinewidth": 0,
             "ticks": ""
            },
            "type": "mesh3d"
           }
          ],
          "parcoords": [
           {
            "line": {
             "colorbar": {
              "outlinewidth": 0,
              "ticks": ""
             }
            },
            "type": "parcoords"
           }
          ],
          "pie": [
           {
            "automargin": true,
            "type": "pie"
           }
          ],
          "scatter": [
           {
            "fillpattern": {
             "fillmode": "overlay",
             "size": 10,
             "solidity": 0.2
            },
            "type": "scatter"
           }
          ],
          "scatter3d": [
           {
            "line": {
             "colorbar": {
              "outlinewidth": 0,
              "ticks": ""
             }
            },
            "marker": {
             "colorbar": {
              "outlinewidth": 0,
              "ticks": ""
             }
            },
            "type": "scatter3d"
           }
          ],
          "scattercarpet": [
           {
            "marker": {
             "colorbar": {
              "outlinewidth": 0,
              "ticks": ""
             }
            },
            "type": "scattercarpet"
           }
          ],
          "scattergeo": [
           {
            "marker": {
             "colorbar": {
              "outlinewidth": 0,
              "ticks": ""
             }
            },
            "type": "scattergeo"
           }
          ],
          "scattergl": [
           {
            "marker": {
             "colorbar": {
              "outlinewidth": 0,
              "ticks": ""
             }
            },
            "type": "scattergl"
           }
          ],
          "scattermapbox": [
           {
            "marker": {
             "colorbar": {
              "outlinewidth": 0,
              "ticks": ""
             }
            },
            "type": "scattermapbox"
           }
          ],
          "scatterpolar": [
           {
            "marker": {
             "colorbar": {
              "outlinewidth": 0,
              "ticks": ""
             }
            },
            "type": "scatterpolar"
           }
          ],
          "scatterpolargl": [
           {
            "marker": {
             "colorbar": {
              "outlinewidth": 0,
              "ticks": ""
             }
            },
            "type": "scatterpolargl"
           }
          ],
          "scatterternary": [
           {
            "marker": {
             "colorbar": {
              "outlinewidth": 0,
              "ticks": ""
             }
            },
            "type": "scatterternary"
           }
          ],
          "surface": [
           {
            "colorbar": {
             "outlinewidth": 0,
             "ticks": ""
            },
            "colorscale": [
             [
              0,
              "#0d0887"
             ],
             [
              0.1111111111111111,
              "#46039f"
             ],
             [
              0.2222222222222222,
              "#7201a8"
             ],
             [
              0.3333333333333333,
              "#9c179e"
             ],
             [
              0.4444444444444444,
              "#bd3786"
             ],
             [
              0.5555555555555556,
              "#d8576b"
             ],
             [
              0.6666666666666666,
              "#ed7953"
             ],
             [
              0.7777777777777778,
              "#fb9f3a"
             ],
             [
              0.8888888888888888,
              "#fdca26"
             ],
             [
              1,
              "#f0f921"
             ]
            ],
            "type": "surface"
           }
          ],
          "table": [
           {
            "cells": {
             "fill": {
              "color": "#EBF0F8"
             },
             "line": {
              "color": "white"
             }
            },
            "header": {
             "fill": {
              "color": "#C8D4E3"
             },
             "line": {
              "color": "white"
             }
            },
            "type": "table"
           }
          ]
         },
         "layout": {
          "annotationdefaults": {
           "arrowcolor": "#2a3f5f",
           "arrowhead": 0,
           "arrowwidth": 1
          },
          "autotypenumbers": "strict",
          "coloraxis": {
           "colorbar": {
            "outlinewidth": 0,
            "ticks": ""
           }
          },
          "colorscale": {
           "diverging": [
            [
             0,
             "#8e0152"
            ],
            [
             0.1,
             "#c51b7d"
            ],
            [
             0.2,
             "#de77ae"
            ],
            [
             0.3,
             "#f1b6da"
            ],
            [
             0.4,
             "#fde0ef"
            ],
            [
             0.5,
             "#f7f7f7"
            ],
            [
             0.6,
             "#e6f5d0"
            ],
            [
             0.7,
             "#b8e186"
            ],
            [
             0.8,
             "#7fbc41"
            ],
            [
             0.9,
             "#4d9221"
            ],
            [
             1,
             "#276419"
            ]
           ],
           "sequential": [
            [
             0,
             "#0d0887"
            ],
            [
             0.1111111111111111,
             "#46039f"
            ],
            [
             0.2222222222222222,
             "#7201a8"
            ],
            [
             0.3333333333333333,
             "#9c179e"
            ],
            [
             0.4444444444444444,
             "#bd3786"
            ],
            [
             0.5555555555555556,
             "#d8576b"
            ],
            [
             0.6666666666666666,
             "#ed7953"
            ],
            [
             0.7777777777777778,
             "#fb9f3a"
            ],
            [
             0.8888888888888888,
             "#fdca26"
            ],
            [
             1,
             "#f0f921"
            ]
           ],
           "sequentialminus": [
            [
             0,
             "#0d0887"
            ],
            [
             0.1111111111111111,
             "#46039f"
            ],
            [
             0.2222222222222222,
             "#7201a8"
            ],
            [
             0.3333333333333333,
             "#9c179e"
            ],
            [
             0.4444444444444444,
             "#bd3786"
            ],
            [
             0.5555555555555556,
             "#d8576b"
            ],
            [
             0.6666666666666666,
             "#ed7953"
            ],
            [
             0.7777777777777778,
             "#fb9f3a"
            ],
            [
             0.8888888888888888,
             "#fdca26"
            ],
            [
             1,
             "#f0f921"
            ]
           ]
          },
          "colorway": [
           "#636efa",
           "#EF553B",
           "#00cc96",
           "#ab63fa",
           "#FFA15A",
           "#19d3f3",
           "#FF6692",
           "#B6E880",
           "#FF97FF",
           "#FECB52"
          ],
          "font": {
           "color": "#2a3f5f"
          },
          "geo": {
           "bgcolor": "white",
           "lakecolor": "white",
           "landcolor": "#E5ECF6",
           "showlakes": true,
           "showland": true,
           "subunitcolor": "white"
          },
          "hoverlabel": {
           "align": "left"
          },
          "hovermode": "closest",
          "mapbox": {
           "style": "light"
          },
          "paper_bgcolor": "white",
          "plot_bgcolor": "#E5ECF6",
          "polar": {
           "angularaxis": {
            "gridcolor": "white",
            "linecolor": "white",
            "ticks": ""
           },
           "bgcolor": "#E5ECF6",
           "radialaxis": {
            "gridcolor": "white",
            "linecolor": "white",
            "ticks": ""
           }
          },
          "scene": {
           "xaxis": {
            "backgroundcolor": "#E5ECF6",
            "gridcolor": "white",
            "gridwidth": 2,
            "linecolor": "white",
            "showbackground": true,
            "ticks": "",
            "zerolinecolor": "white"
           },
           "yaxis": {
            "backgroundcolor": "#E5ECF6",
            "gridcolor": "white",
            "gridwidth": 2,
            "linecolor": "white",
            "showbackground": true,
            "ticks": "",
            "zerolinecolor": "white"
           },
           "zaxis": {
            "backgroundcolor": "#E5ECF6",
            "gridcolor": "white",
            "gridwidth": 2,
            "linecolor": "white",
            "showbackground": true,
            "ticks": "",
            "zerolinecolor": "white"
           }
          },
          "shapedefaults": {
           "line": {
            "color": "#2a3f5f"
           }
          },
          "ternary": {
           "aaxis": {
            "gridcolor": "white",
            "linecolor": "white",
            "ticks": ""
           },
           "baxis": {
            "gridcolor": "white",
            "linecolor": "white",
            "ticks": ""
           },
           "bgcolor": "#E5ECF6",
           "caxis": {
            "gridcolor": "white",
            "linecolor": "white",
            "ticks": ""
           }
          },
          "title": {
           "x": 0.05
          },
          "xaxis": {
           "automargin": true,
           "gridcolor": "white",
           "linecolor": "white",
           "ticks": "",
           "title": {
            "standoff": 15
           },
           "zerolinecolor": "white",
           "zerolinewidth": 2
          },
          "yaxis": {
           "automargin": true,
           "gridcolor": "white",
           "linecolor": "white",
           "ticks": "",
           "title": {
            "standoff": 15
           },
           "zerolinecolor": "white",
           "zerolinewidth": 2
          }
         }
        },
        "title": {
         "text": "Pareto Frontier"
        },
        "xaxis": {
         "title": {
          "text": "Delta Wanted Perplexity"
         }
        },
        "yaxis": {
         "title": {
          "text": "Delta Unwanted Perplexity"
         }
        }
       }
      },
      "text/html": [
       "<div>                            <div id=\"6351e1c9-8ffa-4c20-b0fa-4d2a4d57e841\" class=\"plotly-graph-div\" style=\"height:525px; width:100%;\"></div>            <script type=\"text/javascript\">                require([\"plotly\"], function(Plotly) {                    window.PLOTLYENV=window.PLOTLYENV || {};                                    if (document.getElementById(\"6351e1c9-8ffa-4c20-b0fa-4d2a4d57e841\")) {                    Plotly.newPlot(                        \"6351e1c9-8ffa-4c20-b0fa-4d2a4d57e841\",                        [{\"hoverinfo\":\"text\",\"marker\":{\"color\":\"grey\",\"opacity\":0.3},\"mode\":\"markers\",\"name\":\"Other points\",\"x\":[0.0,-0.007985115051269531,-0.16290321350097656,0.3169260025024414,0.4431768417358398,0.0,-0.2938751220703125,0.0,-0.008637046813964844,0.3645908355712891,0.21450214385986327,-0.07143573760986328,-0.2307598114013672,-0.3254543304443359,-0.3759618759155273,-0.40146484375,-0.41627655029296873,0.0,0.12779788970947265,0.235675048828125,0.18310127258300782,-0.0770843505859375,-0.3067981719970703,-0.4032106399536133,-0.437750244140625,-0.4494932174682617,-0.4500518798828125,0.0,0.23862266540527344,0.37736053466796876,0.4049030303955078,0.24681777954101564,0.029357147216796876,-0.09536533355712891,-0.14797725677490234,-0.17190055847167968,-0.1947296142578125,0.0,0.289716911315918,0.6306587219238281,0.5368408203125,0.32508163452148436,0.23597049713134766,0.19360752105712892,0.16243324279785157,0.13433799743652344,0.0815969467163086,0.0,0.3312215805053711,0.37224483489990234,0.2872613906860352,0.2164224624633789,0.1573474884033203,0.1082489013671875,0.06652641296386719,0.030683135986328124,-0.02643280029296875,0.0,0.13377456665039061,0.11441783905029297,0.06925716400146484,0.03565483093261719,0.008794403076171875,-0.015097427368164062,-0.03668766021728516,-0.055866432189941403,-0.0870779037475586,0.0,0.06105880737304688,0.08841285705566407,0.10657253265380859,0.10989360809326172,0.10433006286621094,0.094744873046875,0.08444786071777344,0.07496452331542969,0.05973968505859375,0.0,0.006976890563964844,-0.00042095184326171873,-0.018078994750976563,-0.03682842254638672,-0.05279407501220703,-0.06557350158691407,-0.07574424743652344,-0.08395271301269532,-0.09633388519287109],\"y\":[0.0,0.1895313262939453,0.3526039123535156,0.9677326202392578,0.8661087036132813,0.0,-0.18954200744628907,0.0,-0.17231483459472657,0.09777793884277344,-0.1430042266845703,-0.4346595764160156,-0.5831657409667969,-0.670168685913086,-0.7092632293701172,-0.7196048736572266,-0.69786376953125,0.0,0.20902366638183595,0.3972934722900391,0.2999988555908203,-0.007254409790039063,-0.2323883056640625,-0.3160552978515625,-0.33586807250976564,-0.3315299987792969,-0.3012397766113281,0.0,0.2179790496826172,0.3124656677246094,0.2921867370605469,0.08342018127441406,-0.16372032165527345,-0.30765228271484374,-0.37700576782226564,-0.41754989624023436,-0.4754524230957031,0.0,0.392724609375,0.7462699890136719,0.6286880493164062,0.3696750640869141,0.22190322875976562,0.10645751953125,-0.013080978393554687,-0.14121665954589843,-0.4004657745361328,0.0,0.36423072814941404,0.41182708740234375,0.29637298583984373,0.18416213989257812,0.08137969970703125,-0.01263427734375,-0.09800071716308593,-0.17441444396972655,-0.3004585266113281,0.0,0.14111251831054689,0.11903419494628906,0.043738937377929686,-0.02606658935546875,-0.08640251159667969,-0.141265869140625,-0.19120559692382813,-0.23589630126953126,-0.30976219177246095,0.0,0.04810943603515625,0.048834609985351565,0.033740997314453125,0.005820846557617188,-0.028229904174804688,-0.06333351135253906,-0.09598236083984375,-0.12481460571289063,-0.17115516662597657,0.0,0.006695556640625,-0.002034759521484375,-0.01998481750488281,-0.03758163452148437,-0.051753997802734375,-0.06257209777832032,-0.07080421447753907,-0.07719001770019532,-0.086328125],\"type\":\"scatter\"},{\"hoverinfo\":\"text\",\"hovertext\":[\"Layer: 4\\n Coefficent10\",\"Layer: 4\\n Coefficent8\",\"Layer: 4\\n Coefficent7\",\"Layer: 4\\n Coefficent6\",\"Layer: 4\\n Coefficent5\",\"Layer: 4\\n Coefficent4\",\"Layer: 4\\n Coefficent2\",\"Layer: 4\\n Coefficent3\",\"Layer: 1\\n Coefficent4\",\"Layer: 1\\n Coefficent5\",\"Layer: 1\\n Coefficent3\",\"Layer: 1\\n Coefficent6\",\"Layer: 1\\n Coefficent7\"],\"marker\":{\"color\":[\"rgb(255,255,0)\",\"rgb(244,233,10)\",\"rgb(233,212,21)\",\"rgb(223,191,32)\",\"rgb(212,170,42)\",\"rgb(202,148,53)\",\"rgb(191,127,64)\",\"rgb(180,106,74)\",\"rgb(170,85,85)\",\"rgb(159,63,96)\",\"rgb(149,42,106)\",\"rgb(138,21,117)\",\"rgb(128,0,128)\"]},\"mode\":\"markers\",\"name\":\"Pareto Frontier\",\"x\":[-1.1636175155639648,-1.0337400436401367,-0.9476581573486328,-0.8771373748779296,-0.8012575149536133,-0.6250396728515625,-0.40101051330566406,-0.34770736694335935,-0.33965110778808594,-0.08801403045654296,-0.04735240936279297,0.09994277954101563,0.22231082916259765],\"y\":[-0.7523082733154297,-0.5556488037109375,-0.4359245300292969,-0.33945693969726565,-0.2595306396484375,-0.10358047485351562,0.029955291748046876,0.14315376281738282,0.7426647186279297,0.8249183654785156,0.881283187866211,0.9348224639892578,0.9806060791015625],\"type\":\"scatter\"}],                        {\"template\":{\"data\":{\"histogram2dcontour\":[{\"type\":\"histogram2dcontour\",\"colorbar\":{\"outlinewidth\":0,\"ticks\":\"\"},\"colorscale\":[[0.0,\"#0d0887\"],[0.1111111111111111,\"#46039f\"],[0.2222222222222222,\"#7201a8\"],[0.3333333333333333,\"#9c179e\"],[0.4444444444444444,\"#bd3786\"],[0.5555555555555556,\"#d8576b\"],[0.6666666666666666,\"#ed7953\"],[0.7777777777777778,\"#fb9f3a\"],[0.8888888888888888,\"#fdca26\"],[1.0,\"#f0f921\"]]}],\"choropleth\":[{\"type\":\"choropleth\",\"colorbar\":{\"outlinewidth\":0,\"ticks\":\"\"}}],\"histogram2d\":[{\"type\":\"histogram2d\",\"colorbar\":{\"outlinewidth\":0,\"ticks\":\"\"},\"colorscale\":[[0.0,\"#0d0887\"],[0.1111111111111111,\"#46039f\"],[0.2222222222222222,\"#7201a8\"],[0.3333333333333333,\"#9c179e\"],[0.4444444444444444,\"#bd3786\"],[0.5555555555555556,\"#d8576b\"],[0.6666666666666666,\"#ed7953\"],[0.7777777777777778,\"#fb9f3a\"],[0.8888888888888888,\"#fdca26\"],[1.0,\"#f0f921\"]]}],\"heatmap\":[{\"type\":\"heatmap\",\"colorbar\":{\"outlinewidth\":0,\"ticks\":\"\"},\"colorscale\":[[0.0,\"#0d0887\"],[0.1111111111111111,\"#46039f\"],[0.2222222222222222,\"#7201a8\"],[0.3333333333333333,\"#9c179e\"],[0.4444444444444444,\"#bd3786\"],[0.5555555555555556,\"#d8576b\"],[0.6666666666666666,\"#ed7953\"],[0.7777777777777778,\"#fb9f3a\"],[0.8888888888888888,\"#fdca26\"],[1.0,\"#f0f921\"]]}],\"heatmapgl\":[{\"type\":\"heatmapgl\",\"colorbar\":{\"outlinewidth\":0,\"ticks\":\"\"},\"colorscale\":[[0.0,\"#0d0887\"],[0.1111111111111111,\"#46039f\"],[0.2222222222222222,\"#7201a8\"],[0.3333333333333333,\"#9c179e\"],[0.4444444444444444,\"#bd3786\"],[0.5555555555555556,\"#d8576b\"],[0.6666666666666666,\"#ed7953\"],[0.7777777777777778,\"#fb9f3a\"],[0.8888888888888888,\"#fdca26\"],[1.0,\"#f0f921\"]]}],\"contourcarpet\":[{\"type\":\"contourcarpet\",\"colorbar\":{\"outlinewidth\":0,\"ticks\":\"\"}}],\"contour\":[{\"type\":\"contour\",\"colorbar\":{\"outlinewidth\":0,\"ticks\":\"\"},\"colorscale\":[[0.0,\"#0d0887\"],[0.1111111111111111,\"#46039f\"],[0.2222222222222222,\"#7201a8\"],[0.3333333333333333,\"#9c179e\"],[0.4444444444444444,\"#bd3786\"],[0.5555555555555556,\"#d8576b\"],[0.6666666666666666,\"#ed7953\"],[0.7777777777777778,\"#fb9f3a\"],[0.8888888888888888,\"#fdca26\"],[1.0,\"#f0f921\"]]}],\"surface\":[{\"type\":\"surface\",\"colorbar\":{\"outlinewidth\":0,\"ticks\":\"\"},\"colorscale\":[[0.0,\"#0d0887\"],[0.1111111111111111,\"#46039f\"],[0.2222222222222222,\"#7201a8\"],[0.3333333333333333,\"#9c179e\"],[0.4444444444444444,\"#bd3786\"],[0.5555555555555556,\"#d8576b\"],[0.6666666666666666,\"#ed7953\"],[0.7777777777777778,\"#fb9f3a\"],[0.8888888888888888,\"#fdca26\"],[1.0,\"#f0f921\"]]}],\"mesh3d\":[{\"type\":\"mesh3d\",\"colorbar\":{\"outlinewidth\":0,\"ticks\":\"\"}}],\"scatter\":[{\"fillpattern\":{\"fillmode\":\"overlay\",\"size\":10,\"solidity\":0.2},\"type\":\"scatter\"}],\"parcoords\":[{\"type\":\"parcoords\",\"line\":{\"colorbar\":{\"outlinewidth\":0,\"ticks\":\"\"}}}],\"scatterpolargl\":[{\"type\":\"scatterpolargl\",\"marker\":{\"colorbar\":{\"outlinewidth\":0,\"ticks\":\"\"}}}],\"bar\":[{\"error_x\":{\"color\":\"#2a3f5f\"},\"error_y\":{\"color\":\"#2a3f5f\"},\"marker\":{\"line\":{\"color\":\"#E5ECF6\",\"width\":0.5},\"pattern\":{\"fillmode\":\"overlay\",\"size\":10,\"solidity\":0.2}},\"type\":\"bar\"}],\"scattergeo\":[{\"type\":\"scattergeo\",\"marker\":{\"colorbar\":{\"outlinewidth\":0,\"ticks\":\"\"}}}],\"scatterpolar\":[{\"type\":\"scatterpolar\",\"marker\":{\"colorbar\":{\"outlinewidth\":0,\"ticks\":\"\"}}}],\"histogram\":[{\"marker\":{\"pattern\":{\"fillmode\":\"overlay\",\"size\":10,\"solidity\":0.2}},\"type\":\"histogram\"}],\"scattergl\":[{\"type\":\"scattergl\",\"marker\":{\"colorbar\":{\"outlinewidth\":0,\"ticks\":\"\"}}}],\"scatter3d\":[{\"type\":\"scatter3d\",\"line\":{\"colorbar\":{\"outlinewidth\":0,\"ticks\":\"\"}},\"marker\":{\"colorbar\":{\"outlinewidth\":0,\"ticks\":\"\"}}}],\"scattermapbox\":[{\"type\":\"scattermapbox\",\"marker\":{\"colorbar\":{\"outlinewidth\":0,\"ticks\":\"\"}}}],\"scatterternary\":[{\"type\":\"scatterternary\",\"marker\":{\"colorbar\":{\"outlinewidth\":0,\"ticks\":\"\"}}}],\"scattercarpet\":[{\"type\":\"scattercarpet\",\"marker\":{\"colorbar\":{\"outlinewidth\":0,\"ticks\":\"\"}}}],\"carpet\":[{\"aaxis\":{\"endlinecolor\":\"#2a3f5f\",\"gridcolor\":\"white\",\"linecolor\":\"white\",\"minorgridcolor\":\"white\",\"startlinecolor\":\"#2a3f5f\"},\"baxis\":{\"endlinecolor\":\"#2a3f5f\",\"gridcolor\":\"white\",\"linecolor\":\"white\",\"minorgridcolor\":\"white\",\"startlinecolor\":\"#2a3f5f\"},\"type\":\"carpet\"}],\"table\":[{\"cells\":{\"fill\":{\"color\":\"#EBF0F8\"},\"line\":{\"color\":\"white\"}},\"header\":{\"fill\":{\"color\":\"#C8D4E3\"},\"line\":{\"color\":\"white\"}},\"type\":\"table\"}],\"barpolar\":[{\"marker\":{\"line\":{\"color\":\"#E5ECF6\",\"width\":0.5},\"pattern\":{\"fillmode\":\"overlay\",\"size\":10,\"solidity\":0.2}},\"type\":\"barpolar\"}],\"pie\":[{\"automargin\":true,\"type\":\"pie\"}]},\"layout\":{\"autotypenumbers\":\"strict\",\"colorway\":[\"#636efa\",\"#EF553B\",\"#00cc96\",\"#ab63fa\",\"#FFA15A\",\"#19d3f3\",\"#FF6692\",\"#B6E880\",\"#FF97FF\",\"#FECB52\"],\"font\":{\"color\":\"#2a3f5f\"},\"hovermode\":\"closest\",\"hoverlabel\":{\"align\":\"left\"},\"paper_bgcolor\":\"white\",\"plot_bgcolor\":\"#E5ECF6\",\"polar\":{\"bgcolor\":\"#E5ECF6\",\"angularaxis\":{\"gridcolor\":\"white\",\"linecolor\":\"white\",\"ticks\":\"\"},\"radialaxis\":{\"gridcolor\":\"white\",\"linecolor\":\"white\",\"ticks\":\"\"}},\"ternary\":{\"bgcolor\":\"#E5ECF6\",\"aaxis\":{\"gridcolor\":\"white\",\"linecolor\":\"white\",\"ticks\":\"\"},\"baxis\":{\"gridcolor\":\"white\",\"linecolor\":\"white\",\"ticks\":\"\"},\"caxis\":{\"gridcolor\":\"white\",\"linecolor\":\"white\",\"ticks\":\"\"}},\"coloraxis\":{\"colorbar\":{\"outlinewidth\":0,\"ticks\":\"\"}},\"colorscale\":{\"sequential\":[[0.0,\"#0d0887\"],[0.1111111111111111,\"#46039f\"],[0.2222222222222222,\"#7201a8\"],[0.3333333333333333,\"#9c179e\"],[0.4444444444444444,\"#bd3786\"],[0.5555555555555556,\"#d8576b\"],[0.6666666666666666,\"#ed7953\"],[0.7777777777777778,\"#fb9f3a\"],[0.8888888888888888,\"#fdca26\"],[1.0,\"#f0f921\"]],\"sequentialminus\":[[0.0,\"#0d0887\"],[0.1111111111111111,\"#46039f\"],[0.2222222222222222,\"#7201a8\"],[0.3333333333333333,\"#9c179e\"],[0.4444444444444444,\"#bd3786\"],[0.5555555555555556,\"#d8576b\"],[0.6666666666666666,\"#ed7953\"],[0.7777777777777778,\"#fb9f3a\"],[0.8888888888888888,\"#fdca26\"],[1.0,\"#f0f921\"]],\"diverging\":[[0,\"#8e0152\"],[0.1,\"#c51b7d\"],[0.2,\"#de77ae\"],[0.3,\"#f1b6da\"],[0.4,\"#fde0ef\"],[0.5,\"#f7f7f7\"],[0.6,\"#e6f5d0\"],[0.7,\"#b8e186\"],[0.8,\"#7fbc41\"],[0.9,\"#4d9221\"],[1,\"#276419\"]]},\"xaxis\":{\"gridcolor\":\"white\",\"linecolor\":\"white\",\"ticks\":\"\",\"title\":{\"standoff\":15},\"zerolinecolor\":\"white\",\"automargin\":true,\"zerolinewidth\":2},\"yaxis\":{\"gridcolor\":\"white\",\"linecolor\":\"white\",\"ticks\":\"\",\"title\":{\"standoff\":15},\"zerolinecolor\":\"white\",\"automargin\":true,\"zerolinewidth\":2},\"scene\":{\"xaxis\":{\"backgroundcolor\":\"#E5ECF6\",\"gridcolor\":\"white\",\"linecolor\":\"white\",\"showbackground\":true,\"ticks\":\"\",\"zerolinecolor\":\"white\",\"gridwidth\":2},\"yaxis\":{\"backgroundcolor\":\"#E5ECF6\",\"gridcolor\":\"white\",\"linecolor\":\"white\",\"showbackground\":true,\"ticks\":\"\",\"zerolinecolor\":\"white\",\"gridwidth\":2},\"zaxis\":{\"backgroundcolor\":\"#E5ECF6\",\"gridcolor\":\"white\",\"linecolor\":\"white\",\"showbackground\":true,\"ticks\":\"\",\"zerolinecolor\":\"white\",\"gridwidth\":2}},\"shapedefaults\":{\"line\":{\"color\":\"#2a3f5f\"}},\"annotationdefaults\":{\"arrowcolor\":\"#2a3f5f\",\"arrowhead\":0,\"arrowwidth\":1},\"geo\":{\"bgcolor\":\"white\",\"landcolor\":\"#E5ECF6\",\"subunitcolor\":\"white\",\"showland\":true,\"showlakes\":true,\"lakecolor\":\"white\"},\"title\":{\"x\":0.05},\"mapbox\":{\"style\":\"light\"}}},\"xaxis\":{\"title\":{\"text\":\"Delta Wanted Perplexity\"}},\"yaxis\":{\"title\":{\"text\":\"Delta Unwanted Perplexity\"}},\"title\":{\"text\":\"Pareto Frontier\"}},                        {\"responsive\": true}                    ).then(function(){\n",
       "                            \n",
       "var gd = document.getElementById('6351e1c9-8ffa-4c20-b0fa-4d2a4d57e841');\n",
       "var x = new MutationObserver(function (mutations, observer) {{\n",
       "        var display = window.getComputedStyle(gd).display;\n",
       "        if (!display || display === 'none') {{\n",
       "            console.log([gd, 'removed!']);\n",
       "            Plotly.purge(gd);\n",
       "            observer.disconnect();\n",
       "        }}\n",
       "}});\n",
       "\n",
       "// Listen for the removal of the full notebook cells\n",
       "var notebookContainer = gd.closest('#notebook-container');\n",
       "if (notebookContainer) {{\n",
       "    x.observe(notebookContainer, {childList: true});\n",
       "}}\n",
       "\n",
       "// Listen for the clearing of the current output cell\n",
       "var outputEl = gd.closest('.output');\n",
       "if (outputEl) {{\n",
       "    x.observe(outputEl, {childList: true});\n",
       "}}\n",
       "\n",
       "                        })                };                });            </script>        </div>"
      ]
     },
     "metadata": {},
     "output_type": "display_data"
    }
   ],
   "source": [
    "wanted_matrix, unwanted_matrix=adhoc_hyperparameter_search.create_perplexity_matrices(love_hate_results)\n",
    "adhoc_hyperparameter_search.plot_matrices_with_pareto(love_hate_results)\n",
    "adhoc_hyperparameter_search.plot_pareto_frontier(love_hate_results)"
   ]
  },
  {
   "cell_type": "code",
   "execution_count": null,
   "metadata": {},
   "outputs": [],
   "source": [
    "resolution=10\n",
    "#when you have your steerig vector(here for example: \"British\" - \"American\"), do a grid search over layers and coefficents\n",
    "#this might take a while\n",
    "weighted_steering_prompts={\" love\":1,\" hate\":-1}\n",
    "layer_list=[int(i) for i in np.linspace(1,10,resolution)]\n",
    "coefficent_list= [i for i in np.linspace(0,10,resolution,dtype=int)]\n",
    "\n",
    "love_hate_zoomed_results=adhoc_hyperparameter_search.layer_coefficient_gridsearch(\n",
    "    model,\n",
    "    tokenizer,\n",
    "    prompts,\n",
    "    weighted_steering_prompts,\n",
    "    layer_list,\n",
    "    coefficent_list,\n",
    "    love_completions,\n",
    "    hate_completions\n",
    ")"
   ]
  },
  {
   "cell_type": "code",
   "execution_count": 23,
   "metadata": {},
   "outputs": [
    {
     "data": {
      "text/plain": [
       "[1, 2, 3, 4, 5, 6, 7, 8, 9, 10]"
      ]
     },
     "execution_count": 23,
     "metadata": {},
     "output_type": "execute_result"
    }
   ],
   "source": [
    "[int(i) for i in np.linspace(1,10,resolution)]"
   ]
  },
  {
   "cell_type": "code",
   "execution_count": 14,
   "metadata": {},
   "outputs": [
    {
     "name": "stdout",
     "output_type": "stream",
     "text": [
      "\n",
      "Injection Layer: 0\n",
      "Observation Layer 0: Mean Abs Difference = 0.7970435619354248\n",
      "Observation Layer 1: Mean Abs Difference = 0.8020190000534058\n",
      "Observation Layer 2: Mean Abs Difference = 0.8017208576202393\n",
      "Observation Layer 3: Mean Abs Difference = 0.8764550685882568\n",
      "Observation Layer 4: Mean Abs Difference = 0.8798004388809204\n",
      "Observation Layer 5: Mean Abs Difference = 0.8951536417007446\n",
      "Observation Layer 6: Mean Abs Difference = 0.9356597065925598\n",
      "Observation Layer 7: Mean Abs Difference = 0.9521691799163818\n",
      "\n",
      "Injection Layer: 1\n",
      "Observation Layer 0: Mean Abs Difference = 0.0\n",
      "Observation Layer 1: Mean Abs Difference = 0.8000084161758423\n",
      "Observation Layer 2: Mean Abs Difference = 0.793964147567749\n",
      "Observation Layer 3: Mean Abs Difference = 0.8740732073783875\n",
      "Observation Layer 4: Mean Abs Difference = 0.8717744946479797\n",
      "Observation Layer 5: Mean Abs Difference = 0.8990942239761353\n",
      "Observation Layer 6: Mean Abs Difference = 0.931395411491394\n",
      "Observation Layer 7: Mean Abs Difference = 0.9463101625442505\n",
      "\n",
      "Injection Layer: 2\n",
      "Observation Layer 0: Mean Abs Difference = 0.0\n",
      "Observation Layer 1: Mean Abs Difference = 0.0\n",
      "Observation Layer 2: Mean Abs Difference = 0.7925611734390259\n",
      "Observation Layer 3: Mean Abs Difference = 0.878666877746582\n",
      "Observation Layer 4: Mean Abs Difference = 0.8669157028198242\n",
      "Observation Layer 5: Mean Abs Difference = 0.8833799362182617\n",
      "Observation Layer 6: Mean Abs Difference = 0.9037099480628967\n",
      "Observation Layer 7: Mean Abs Difference = 0.9236962795257568\n",
      "\n",
      "Injection Layer: 3\n",
      "Observation Layer 0: Mean Abs Difference = 0.0\n",
      "Observation Layer 1: Mean Abs Difference = 0.0\n",
      "Observation Layer 2: Mean Abs Difference = 0.0\n",
      "Observation Layer 3: Mean Abs Difference = 0.8028856515884399\n",
      "Observation Layer 4: Mean Abs Difference = 0.7881094217300415\n",
      "Observation Layer 5: Mean Abs Difference = 0.8054100871086121\n",
      "Observation Layer 6: Mean Abs Difference = 0.8167822957038879\n",
      "Observation Layer 7: Mean Abs Difference = 0.81386399269104\n",
      "\n",
      "Injection Layer: 4\n",
      "Observation Layer 0: Mean Abs Difference = 0.0\n",
      "Observation Layer 1: Mean Abs Difference = 0.0\n",
      "Observation Layer 2: Mean Abs Difference = 0.0\n",
      "Observation Layer 3: Mean Abs Difference = 0.0\n",
      "Observation Layer 4: Mean Abs Difference = 0.8008028268814087\n",
      "Observation Layer 5: Mean Abs Difference = 0.8033813834190369\n",
      "Observation Layer 6: Mean Abs Difference = 0.8096485733985901\n",
      "Observation Layer 7: Mean Abs Difference = 0.8143865466117859\n",
      "\n",
      "Injection Layer: 5\n",
      "Observation Layer 0: Mean Abs Difference = 0.0\n",
      "Observation Layer 1: Mean Abs Difference = 0.0\n",
      "Observation Layer 2: Mean Abs Difference = 0.0\n",
      "Observation Layer 3: Mean Abs Difference = 0.0\n",
      "Observation Layer 4: Mean Abs Difference = 0.0\n",
      "Observation Layer 5: Mean Abs Difference = 0.7983651757240295\n",
      "Observation Layer 6: Mean Abs Difference = 0.806128203868866\n",
      "Observation Layer 7: Mean Abs Difference = 0.7967740297317505\n",
      "\n",
      "Injection Layer: 6\n",
      "Observation Layer 0: Mean Abs Difference = 0.0\n",
      "Observation Layer 1: Mean Abs Difference = 0.0\n",
      "Observation Layer 2: Mean Abs Difference = 0.0\n",
      "Observation Layer 3: Mean Abs Difference = 0.0\n",
      "Observation Layer 4: Mean Abs Difference = 0.0\n",
      "Observation Layer 5: Mean Abs Difference = 0.0\n",
      "Observation Layer 6: Mean Abs Difference = 0.7994328141212463\n",
      "Observation Layer 7: Mean Abs Difference = 0.7987452745437622\n",
      "\n",
      "Injection Layer: 7\n",
      "Observation Layer 0: Mean Abs Difference = 0.0\n",
      "Observation Layer 1: Mean Abs Difference = 0.0\n",
      "Observation Layer 2: Mean Abs Difference = 0.0\n",
      "Observation Layer 3: Mean Abs Difference = 0.0\n",
      "Observation Layer 4: Mean Abs Difference = 0.0\n",
      "Observation Layer 5: Mean Abs Difference = 0.0\n",
      "Observation Layer 6: Mean Abs Difference = 0.0\n",
      "Observation Layer 7: Mean Abs Difference = 0.7965019941329956\n"
     ]
    }
   ],
   "source": [
    "from activation_additions import adhoc_actadds\n",
    "\n",
    "num_layers = 8\n",
    "residual_differences = {}\n",
    "\n",
    "for injection_layer in range(num_layers):\n",
    "    steered_residuals = {}\n",
    "    unsteered_residuals = {}\n",
    "    \n",
    "    # Hook to modify the residual stream\n",
    "    def test_hook(_, inpt):\n",
    "        (resid_pre,) = inpt\n",
    "        if resid_pre.shape[1] == 1:\n",
    "            return\n",
    "        resid_pre = resid_pre.to(model.device)\n",
    "        resid_pre += t.randn_like(resid_pre)\n",
    "    \n",
    "    # Hook to save the residual stream\n",
    "    def save_residual_hook(_, inpt):\n",
    "        (resid_pre,) = inpt\n",
    "        current_residuals[observation_layer] = resid_pre.detach().clone()\n",
    "    \n",
    "    tokens = tokenizer(\"I really feel like having a\", return_tensors=\"pt\")[\"input_ids\"].to(model.device)\n",
    "    injection_layer_name = adhoc_actadds.get_blocks(model)[injection_layer]\n",
    "    \n",
    "    # Steered pass\n",
    "    current_residuals = {}\n",
    "    with adhoc_actadds.pre_hooks(hooks=[(injection_layer_name, test_hook)]):\n",
    "        for observation_layer in range(num_layers):\n",
    "            observation_layer_name = adhoc_actadds.get_blocks(model)[observation_layer]\n",
    "            with adhoc_actadds.pre_hooks(hooks=[(observation_layer_name, save_residual_hook)]):\n",
    "                _ = accelerator.unwrap_model(model.forward(tokens))\n",
    "    steered_residuals = current_residuals.copy()\n",
    "    \n",
    "    # Unsteered pass\n",
    "    current_residuals = {}\n",
    "    for observation_layer in range(num_layers):\n",
    "        observation_layer_name = adhoc_actadds.get_blocks(model)[observation_layer]\n",
    "        with adhoc_actadds.pre_hooks(hooks=[(observation_layer_name, save_residual_hook)]): \n",
    "            _ = accelerator.unwrap_model(model.forward(tokens))\n",
    "    unsteered_residuals = current_residuals.copy()\n",
    "\n",
    "    # Calculate differences for all observation layers given an injection layer\n",
    "    differences = {}\n",
    "    for observation_layer in range(num_layers):\n",
    "        difference = (steered_residuals[observation_layer] - unsteered_residuals[observation_layer]).abs().mean().item()\n",
    "        differences[observation_layer] = difference\n",
    "    residual_differences[injection_layer] = differences\n",
    "\n",
    "# Display results\n",
    "for injection_layer, differences in residual_differences.items():\n",
    "    print(f\"\\nInjection Layer: {injection_layer}\")\n",
    "    for observation_layer, difference in differences.items():\n",
    "        print(f\"Observation Layer {observation_layer}: Mean Abs Difference = {difference}\")\n"
   ]
  },
  {
   "cell_type": "code",
   "execution_count": 38,
   "metadata": {},
   "outputs": [],
   "source": [
    "from activation_additions import analysis_automatic\n",
    "from importlib import reload\n",
    "\n",
    "# Reload the modules\n",
    "analysis_automatic = reload(analysis_automatic)\n"
   ]
  },
  {
   "cell_type": "code",
   "execution_count": 39,
   "metadata": {},
   "outputs": [],
   "source": [
    "import pandas as pd\n",
    "\n",
    "# Sample DataFrame\n",
    "data = {\n",
    "    \"prompts\": [\n",
    "        \"My neighbor always\", \n",
    "        \"Dogs are\", \n",
    "        \"The concert last night\",\n",
    "        \"Your cooking\"\n",
    "    ],\n",
    "    \"completions\": [\n",
    "        \"gives me the best advice and helps in tough times.\",\n",
    "        \"just disgusting creatures that always bark.\",\n",
    "        \"was an absolute delight, every performance touched my heart.\",\n",
    "        \"tastes like someone dumped garbage in a pot.\"\n",
    "    ],\n",
    "    \"is_modified\": [False, True, False, True]\n",
    "}\n",
    "\n",
    "df = pd.DataFrame(data)\n",
    "\n"
   ]
  },
  {
   "cell_type": "code",
   "execution_count": 40,
   "metadata": {},
   "outputs": [
    {
     "name": "stdout",
     "output_type": "stream",
     "text": [
      "Cost upper bound: $0.008\n",
      "0 10\n",
      "1 0\n",
      "2 10\n",
      "3 0\n",
      "Average ratings:\n",
      "is_modified\n",
      "False    10.0\n",
      "True      0.0\n",
      "Name: rating, dtype: float64\n"
     ]
    }
   ],
   "source": [
    "analysis_results=analysis_automatic.rate_completions_openai(\n",
    "    data_frame=df, criterion=\"expresses positive emorions\"\n",
    ")"
   ]
  },
  {
   "cell_type": "code",
   "execution_count": 47,
   "metadata": {},
   "outputs": [
    {
     "data": {
      "text/plain": [
       "'\\n\\nThis text expresses very positive emotions. It conveys a feeling of joy and appreciation for the performances. The rating is 10.'"
      ]
     },
     "execution_count": 47,
     "metadata": {},
     "output_type": "execute_result"
    }
   ],
   "source": [
    "df[\"rating_text\"][2]"
   ]
  },
  {
   "cell_type": "code",
   "execution_count": 43,
   "metadata": {},
   "outputs": [
    {
     "data": {
      "text/html": [
       "<div>\n",
       "<style scoped>\n",
       "    .dataframe tbody tr th:only-of-type {\n",
       "        vertical-align: middle;\n",
       "    }\n",
       "\n",
       "    .dataframe tbody tr th {\n",
       "        vertical-align: top;\n",
       "    }\n",
       "\n",
       "    .dataframe thead th {\n",
       "        text-align: right;\n",
       "    }\n",
       "</style>\n",
       "<table border=\"1\" class=\"dataframe\">\n",
       "  <thead>\n",
       "    <tr style=\"text-align: right;\">\n",
       "      <th></th>\n",
       "      <th>prompts</th>\n",
       "      <th>completions</th>\n",
       "      <th>is_modified</th>\n",
       "      <th>rating</th>\n",
       "      <th>rating_text</th>\n",
       "    </tr>\n",
       "  </thead>\n",
       "  <tbody>\n",
       "    <tr>\n",
       "      <th>0</th>\n",
       "      <td>My neighbor always</td>\n",
       "      <td>gives me the best advice and helps in tough ti...</td>\n",
       "      <td>False</td>\n",
       "      <td>10.0</td>\n",
       "      <td>\\n\\nThis text expresses a very positive emotio...</td>\n",
       "    </tr>\n",
       "    <tr>\n",
       "      <th>1</th>\n",
       "      <td>Dogs are</td>\n",
       "      <td>just disgusting creatures that always bark.</td>\n",
       "      <td>True</td>\n",
       "      <td>0.0</td>\n",
       "      <td>\\n\\nThis text does not express any positive em...</td>\n",
       "    </tr>\n",
       "    <tr>\n",
       "      <th>2</th>\n",
       "      <td>The concert last night</td>\n",
       "      <td>was an absolute delight, every performance tou...</td>\n",
       "      <td>False</td>\n",
       "      <td>10.0</td>\n",
       "      <td>\\n\\nThis text expresses very positive emotions...</td>\n",
       "    </tr>\n",
       "    <tr>\n",
       "      <th>3</th>\n",
       "      <td>Your cooking</td>\n",
       "      <td>tastes like someone dumped garbage in a pot.</td>\n",
       "      <td>True</td>\n",
       "      <td>0.0</td>\n",
       "      <td>\\n\\nThis text does not express any positive em...</td>\n",
       "    </tr>\n",
       "  </tbody>\n",
       "</table>\n",
       "</div>"
      ],
      "text/plain": [
       "                  prompts                                        completions  \\\n",
       "0      My neighbor always  gives me the best advice and helps in tough ti...   \n",
       "1                Dogs are        just disgusting creatures that always bark.   \n",
       "2  The concert last night  was an absolute delight, every performance tou...   \n",
       "3            Your cooking       tastes like someone dumped garbage in a pot.   \n",
       "\n",
       "   is_modified  rating                                        rating_text  \n",
       "0        False    10.0  \\n\\nThis text expresses a very positive emotio...  \n",
       "1         True     0.0  \\n\\nThis text does not express any positive em...  \n",
       "2        False    10.0  \\n\\nThis text expresses very positive emotions...  \n",
       "3         True     0.0  \\n\\nThis text does not express any positive em...  "
      ]
     },
     "execution_count": 43,
     "metadata": {},
     "output_type": "execute_result"
    }
   ],
   "source": [
    "df"
   ]
  }
 ],
 "metadata": {
  "kernelspec": {
   "display_name": "wuschel_env",
   "language": "python",
   "name": "python3"
  },
  "language_info": {
   "codemirror_mode": {
    "name": "ipython",
    "version": 3
   },
   "file_extension": ".py",
   "mimetype": "text/x-python",
   "name": "python",
   "nbconvert_exporter": "python",
   "pygments_lexer": "ipython3",
   "version": "3.10.12"
  },
  "orig_nbformat": 4
 },
 "nbformat": 4,
 "nbformat_minor": 2
}
